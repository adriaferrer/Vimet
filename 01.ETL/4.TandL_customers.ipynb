{
 "cells": [
  {
   "cell_type": "markdown",
   "metadata": {},
   "source": [
    "# Load the data"
   ]
  },
  {
   "cell_type": "code",
   "execution_count": 193,
   "metadata": {},
   "outputs": [],
   "source": [
    "import pandas as pd\n",
    "import matplotlib.pyplot as plt\n",
    "import seaborn as sns"
   ]
  },
  {
   "cell_type": "code",
   "execution_count": 194,
   "metadata": {},
   "outputs": [],
   "source": [
    "from sqlalchemy import create_engine\n",
    "\n",
    "\n",
    "driver = 'mysql+pymysql:'\n",
    "user = 'adria'\n",
    "password = '00000'\n",
    "ip = '35.187.114.125'\n",
    "database = 'vimet'\n",
    "\n",
    "connection_string = f'{driver}//{user}:{password}@{ip}/{database}'\n",
    "engine = create_engine(connection_string)"
   ]
  },
  {
   "cell_type": "code",
   "execution_count": 195,
   "metadata": {},
   "outputs": [],
   "source": [
    "orders = pd.read_sql('orders', con = engine)\n",
    "items = pd.read_sql('items', con = engine)"
   ]
  },
  {
   "cell_type": "markdown",
   "metadata": {},
   "source": [
    "In this notebook, we will extract all the information related to customers and load it into a specific table."
   ]
  },
  {
   "cell_type": "code",
   "execution_count": 196,
   "metadata": {},
   "outputs": [
    {
     "data": {
      "text/html": [
       "<div>\n",
       "<style scoped>\n",
       "    .dataframe tbody tr th:only-of-type {\n",
       "        vertical-align: middle;\n",
       "    }\n",
       "\n",
       "    .dataframe tbody tr th {\n",
       "        vertical-align: top;\n",
       "    }\n",
       "\n",
       "    .dataframe thead th {\n",
       "        text-align: right;\n",
       "    }\n",
       "</style>\n",
       "<table border=\"1\" class=\"dataframe\">\n",
       "  <thead>\n",
       "    <tr style=\"text-align: right;\">\n",
       "      <th></th>\n",
       "      <th>index</th>\n",
       "      <th>Customer</th>\n",
       "      <th>Accepts Marketing</th>\n",
       "      <th>Total</th>\n",
       "      <th>Discount Amount</th>\n",
       "      <th>Refunded Amount</th>\n",
       "      <th>Discount Code</th>\n",
       "    </tr>\n",
       "  </thead>\n",
       "  <tbody>\n",
       "    <tr>\n",
       "      <th>count</th>\n",
       "      <td>220.000000</td>\n",
       "      <td>220.000000</td>\n",
       "      <td>220.000000</td>\n",
       "      <td>220.000000</td>\n",
       "      <td>220.000000</td>\n",
       "      <td>220.000000</td>\n",
       "      <td>220.000000</td>\n",
       "    </tr>\n",
       "    <tr>\n",
       "      <th>mean</th>\n",
       "      <td>969.795455</td>\n",
       "      <td>20.340909</td>\n",
       "      <td>0.840909</td>\n",
       "      <td>66.495182</td>\n",
       "      <td>1.181818</td>\n",
       "      <td>2.026136</td>\n",
       "      <td>0.168182</td>\n",
       "    </tr>\n",
       "    <tr>\n",
       "      <th>std</th>\n",
       "      <td>830.057141</td>\n",
       "      <td>14.425597</td>\n",
       "      <td>0.366595</td>\n",
       "      <td>43.542480</td>\n",
       "      <td>3.323314</td>\n",
       "      <td>6.155890</td>\n",
       "      <td>0.374881</td>\n",
       "    </tr>\n",
       "    <tr>\n",
       "      <th>min</th>\n",
       "      <td>0.000000</td>\n",
       "      <td>0.000000</td>\n",
       "      <td>0.000000</td>\n",
       "      <td>2.850000</td>\n",
       "      <td>0.000000</td>\n",
       "      <td>0.000000</td>\n",
       "      <td>0.000000</td>\n",
       "    </tr>\n",
       "    <tr>\n",
       "      <th>25%</th>\n",
       "      <td>117.750000</td>\n",
       "      <td>5.000000</td>\n",
       "      <td>1.000000</td>\n",
       "      <td>41.997500</td>\n",
       "      <td>0.000000</td>\n",
       "      <td>0.000000</td>\n",
       "      <td>0.000000</td>\n",
       "    </tr>\n",
       "    <tr>\n",
       "      <th>50%</th>\n",
       "      <td>839.500000</td>\n",
       "      <td>21.000000</td>\n",
       "      <td>1.000000</td>\n",
       "      <td>61.800000</td>\n",
       "      <td>0.000000</td>\n",
       "      <td>0.000000</td>\n",
       "      <td>0.000000</td>\n",
       "    </tr>\n",
       "    <tr>\n",
       "      <th>75%</th>\n",
       "      <td>1751.500000</td>\n",
       "      <td>30.000000</td>\n",
       "      <td>1.000000</td>\n",
       "      <td>79.225000</td>\n",
       "      <td>0.000000</td>\n",
       "      <td>0.000000</td>\n",
       "      <td>0.000000</td>\n",
       "    </tr>\n",
       "    <tr>\n",
       "      <th>max</th>\n",
       "      <td>2407.000000</td>\n",
       "      <td>53.000000</td>\n",
       "      <td>1.000000</td>\n",
       "      <td>344.450000</td>\n",
       "      <td>32.400000</td>\n",
       "      <td>45.400000</td>\n",
       "      <td>1.000000</td>\n",
       "    </tr>\n",
       "  </tbody>\n",
       "</table>\n",
       "</div>"
      ],
      "text/plain": [
       "             index    Customer  Accepts Marketing       Total  \\\n",
       "count   220.000000  220.000000         220.000000  220.000000   \n",
       "mean    969.795455   20.340909           0.840909   66.495182   \n",
       "std     830.057141   14.425597           0.366595   43.542480   \n",
       "min       0.000000    0.000000           0.000000    2.850000   \n",
       "25%     117.750000    5.000000           1.000000   41.997500   \n",
       "50%     839.500000   21.000000           1.000000   61.800000   \n",
       "75%    1751.500000   30.000000           1.000000   79.225000   \n",
       "max    2407.000000   53.000000           1.000000  344.450000   \n",
       "\n",
       "       Discount Amount  Refunded Amount  Discount Code  \n",
       "count       220.000000       220.000000     220.000000  \n",
       "mean          1.181818         2.026136       0.168182  \n",
       "std           3.323314         6.155890       0.374881  \n",
       "min           0.000000         0.000000       0.000000  \n",
       "25%           0.000000         0.000000       0.000000  \n",
       "50%           0.000000         0.000000       0.000000  \n",
       "75%           0.000000         0.000000       0.000000  \n",
       "max          32.400000        45.400000       1.000000  "
      ]
     },
     "execution_count": 196,
     "metadata": {},
     "output_type": "execute_result"
    }
   ],
   "source": [
    "orders.describe()"
   ]
  },
  {
   "cell_type": "code",
   "execution_count": 197,
   "metadata": {},
   "outputs": [],
   "source": [
    "orders = orders.drop(columns='index')"
   ]
  },
  {
   "cell_type": "code",
   "execution_count": 198,
   "metadata": {},
   "outputs": [
    {
     "data": {
      "image/png": "[encoded data removed]",
      "text/plain": [
       "<Figure size 1080x576 with 1 Axes>"
      ]
     },
     "metadata": {
      "needs_background": "light"
     },
     "output_type": "display_data"
    }
   ],
   "source": [
    "plt.figure(figsize=(15,8))\n",
    "\n",
    "sns.barplot(x=orders['Customer'].value_counts().index, y=orders['Customer'].value_counts())\n",
    "plt.show()"
   ]
  },
  {
   "cell_type": "markdown",
   "metadata": {},
   "source": [
    "We have 53 different clients that can be classified in 3 different classes (according to the number of orders they made):\n",
    "* Preferred: More than 15 orders\n",
    "* Regular: From 5 to 15 orders\n",
    "* Casual: 1 to 5 orders\n",
    "\n",
    "We will add these classes to the main dataframe."
   ]
  },
  {
   "cell_type": "code",
   "execution_count": 199,
   "metadata": {},
   "outputs": [],
   "source": [
    "customers = orders['Customer'].value_counts()"
   ]
  },
  {
   "cell_type": "code",
   "execution_count": 200,
   "metadata": {},
   "outputs": [],
   "source": [
    "preferred = customers[customers > 15].index\n",
    "casual = customers[customers < 5].index\n",
    "regular = list(set(customers.index)^set(preferred)^set(casual))"
   ]
  },
  {
   "cell_type": "code",
   "execution_count": 201,
   "metadata": {},
   "outputs": [],
   "source": [
    "orders['customer_class'] = orders['Customer'].map(lambda x: 'preferred' if x in preferred else('casual' if x in casual else 'regular')) "
   ]
  },
  {
   "cell_type": "code",
   "execution_count": 202,
   "metadata": {},
   "outputs": [
    {
     "data": {
      "image/png": "[encoded data removed]",
      "text/plain": [
       "<Figure size 720x360 with 1 Axes>"
      ]
     },
     "metadata": {
      "needs_background": "light"
     },
     "output_type": "display_data"
    }
   ],
   "source": [
    "plt.figure(figsize=(10,5))\n",
    "\n",
    "sns.barplot(x=orders['customer_class'].value_counts().index, y=orders['customer_class'].value_counts())\n",
    "plt.show()"
   ]
  },
  {
   "cell_type": "markdown",
   "metadata": {},
   "source": [
    "We can see that most of the orders are done by preferred customers while casual ones account for the second cathegory with most orders."
   ]
  },
  {
   "cell_type": "code",
   "execution_count": 203,
   "metadata": {},
   "outputs": [
    {
     "data": {
      "image/png": "[encoded data removed]",
      "text/plain": [
       "<Figure size 720x360 with 1 Axes>"
      ]
     },
     "metadata": {
      "needs_background": "light"
     },
     "output_type": "display_data"
    }
   ],
   "source": [
    "plt.figure(figsize=(10,5))\n",
    "\n",
    "sns.barplot(x=orders.groupby('customer_class').sum().sort_values('Total', ascending=False)['Total'].index, y=orders.groupby('customer_class').sum().sort_values('Total', ascending=False)['Total'])\n",
    "plt.show()"
   ]
  },
  {
   "cell_type": "markdown",
   "metadata": {},
   "source": [
    "We observe a similar situation when looking at money spent per each customer class."
   ]
  },
  {
   "cell_type": "markdown",
   "metadata": {},
   "source": [
    "We will now check if the customers receive the order at the same place always. This would mean that shipping city and zip would be customer-specific info and not order-specific."
   ]
  },
  {
   "cell_type": "code",
   "execution_count": 204,
   "metadata": {},
   "outputs": [
    {
     "data": {
      "text/html": [
       "<div>\n",
       "<style scoped>\n",
       "    .dataframe tbody tr th:only-of-type {\n",
       "        vertical-align: middle;\n",
       "    }\n",
       "\n",
       "    .dataframe tbody tr th {\n",
       "        vertical-align: top;\n",
       "    }\n",
       "\n",
       "    .dataframe thead th {\n",
       "        text-align: right;\n",
       "    }\n",
       "</style>\n",
       "<table border=\"1\" class=\"dataframe\">\n",
       "  <thead>\n",
       "    <tr style=\"text-align: right;\">\n",
       "      <th></th>\n",
       "      <th></th>\n",
       "      <th>Name</th>\n",
       "      <th>Financial Status</th>\n",
       "      <th>Fulfillment Status</th>\n",
       "      <th>Accepts Marketing</th>\n",
       "      <th>Total</th>\n",
       "      <th>Discount Amount</th>\n",
       "      <th>Shipping Method</th>\n",
       "      <th>Shipping City</th>\n",
       "      <th>Payment Method</th>\n",
       "      <th>Refunded Amount</th>\n",
       "      <th>Discount Code</th>\n",
       "      <th>Notes</th>\n",
       "      <th>customer_class</th>\n",
       "    </tr>\n",
       "    <tr>\n",
       "      <th>Customer</th>\n",
       "      <th>Shipping Zip</th>\n",
       "      <th></th>\n",
       "      <th></th>\n",
       "      <th></th>\n",
       "      <th></th>\n",
       "      <th></th>\n",
       "      <th></th>\n",
       "      <th></th>\n",
       "      <th></th>\n",
       "      <th></th>\n",
       "      <th></th>\n",
       "      <th></th>\n",
       "      <th></th>\n",
       "      <th></th>\n",
       "    </tr>\n",
       "  </thead>\n",
       "  <tbody>\n",
       "    <tr>\n",
       "      <th rowspan=\"2\" valign=\"top\">0</th>\n",
       "      <th>08029</th>\n",
       "      <td>2</td>\n",
       "      <td>2</td>\n",
       "      <td>2</td>\n",
       "      <td>2</td>\n",
       "      <td>2</td>\n",
       "      <td>2</td>\n",
       "      <td>2</td>\n",
       "      <td>2</td>\n",
       "      <td>2</td>\n",
       "      <td>2</td>\n",
       "      <td>2</td>\n",
       "      <td>2</td>\n",
       "      <td>2</td>\n",
       "    </tr>\n",
       "    <tr>\n",
       "      <th>Unknown</th>\n",
       "      <td>6</td>\n",
       "      <td>6</td>\n",
       "      <td>6</td>\n",
       "      <td>6</td>\n",
       "      <td>6</td>\n",
       "      <td>6</td>\n",
       "      <td>6</td>\n",
       "      <td>6</td>\n",
       "      <td>6</td>\n",
       "      <td>6</td>\n",
       "      <td>6</td>\n",
       "      <td>6</td>\n",
       "      <td>6</td>\n",
       "    </tr>\n",
       "    <tr>\n",
       "      <th>1</th>\n",
       "      <th>08041</th>\n",
       "      <td>7</td>\n",
       "      <td>7</td>\n",
       "      <td>7</td>\n",
       "      <td>7</td>\n",
       "      <td>7</td>\n",
       "      <td>7</td>\n",
       "      <td>7</td>\n",
       "      <td>7</td>\n",
       "      <td>7</td>\n",
       "      <td>7</td>\n",
       "      <td>7</td>\n",
       "      <td>7</td>\n",
       "      <td>7</td>\n",
       "    </tr>\n",
       "    <tr>\n",
       "      <th>2</th>\n",
       "      <th>08003</th>\n",
       "      <td>1</td>\n",
       "      <td>1</td>\n",
       "      <td>1</td>\n",
       "      <td>1</td>\n",
       "      <td>1</td>\n",
       "      <td>1</td>\n",
       "      <td>1</td>\n",
       "      <td>1</td>\n",
       "      <td>1</td>\n",
       "      <td>1</td>\n",
       "      <td>1</td>\n",
       "      <td>1</td>\n",
       "      <td>1</td>\n",
       "    </tr>\n",
       "    <tr>\n",
       "      <th>3</th>\n",
       "      <th>08006</th>\n",
       "      <td>17</td>\n",
       "      <td>17</td>\n",
       "      <td>17</td>\n",
       "      <td>17</td>\n",
       "      <td>17</td>\n",
       "      <td>17</td>\n",
       "      <td>17</td>\n",
       "      <td>17</td>\n",
       "      <td>17</td>\n",
       "      <td>17</td>\n",
       "      <td>17</td>\n",
       "      <td>17</td>\n",
       "      <td>17</td>\n",
       "    </tr>\n",
       "  </tbody>\n",
       "</table>\n",
       "</div>"
      ],
      "text/plain": [
       "                       Name  Financial Status  Fulfillment Status  \\\n",
       "Customer Shipping Zip                                               \n",
       "0        08029            2                 2                   2   \n",
       "         Unknown          6                 6                   6   \n",
       "1        08041            7                 7                   7   \n",
       "2        08003            1                 1                   1   \n",
       "3        08006           17                17                  17   \n",
       "\n",
       "                       Accepts Marketing  Total  Discount Amount  \\\n",
       "Customer Shipping Zip                                              \n",
       "0        08029                         2      2                2   \n",
       "         Unknown                       6      6                6   \n",
       "1        08041                         7      7                7   \n",
       "2        08003                         1      1                1   \n",
       "3        08006                        17     17               17   \n",
       "\n",
       "                       Shipping Method  Shipping City  Payment Method  \\\n",
       "Customer Shipping Zip                                                   \n",
       "0        08029                       2              2               2   \n",
       "         Unknown                     6              6               6   \n",
       "1        08041                       7              7               7   \n",
       "2        08003                       1              1               1   \n",
       "3        08006                      17             17              17   \n",
       "\n",
       "                       Refunded Amount  Discount Code  Notes  customer_class  \n",
       "Customer Shipping Zip                                                         \n",
       "0        08029                       2              2      2               2  \n",
       "         Unknown                     6              6      6               6  \n",
       "1        08041                       7              7      7               7  \n",
       "2        08003                       1              1      1               1  \n",
       "3        08006                      17             17     17              17  "
      ]
     },
     "execution_count": 204,
     "metadata": {},
     "output_type": "execute_result"
    }
   ],
   "source": [
    "orders.groupby(['Customer','Shipping Zip']).count().head()"
   ]
  },
  {
   "cell_type": "markdown",
   "metadata": {},
   "source": [
    "We can see that the sipping zip can be different for one customer and different orders, so we'll keep it in orders."
   ]
  },
  {
   "cell_type": "code",
   "execution_count": 205,
   "metadata": {},
   "outputs": [
    {
     "data": {
      "text/html": [
       "<div>\n",
       "<style scoped>\n",
       "    .dataframe tbody tr th:only-of-type {\n",
       "        vertical-align: middle;\n",
       "    }\n",
       "\n",
       "    .dataframe tbody tr th {\n",
       "        vertical-align: top;\n",
       "    }\n",
       "\n",
       "    .dataframe thead th {\n",
       "        text-align: right;\n",
       "    }\n",
       "</style>\n",
       "<table border=\"1\" class=\"dataframe\">\n",
       "  <thead>\n",
       "    <tr style=\"text-align: right;\">\n",
       "      <th></th>\n",
       "      <th>Name</th>\n",
       "      <th>Customer</th>\n",
       "      <th>Financial Status</th>\n",
       "      <th>Fulfillment Status</th>\n",
       "      <th>Accepts Marketing</th>\n",
       "      <th>Total</th>\n",
       "      <th>Discount Amount</th>\n",
       "      <th>Shipping Method</th>\n",
       "      <th>Shipping City</th>\n",
       "      <th>Shipping Zip</th>\n",
       "      <th>Payment Method</th>\n",
       "      <th>Refunded Amount</th>\n",
       "      <th>Discount Code</th>\n",
       "      <th>Notes</th>\n",
       "      <th>customer_class</th>\n",
       "    </tr>\n",
       "  </thead>\n",
       "  <tbody>\n",
       "    <tr>\n",
       "      <th>0</th>\n",
       "      <td>#1247</td>\n",
       "      <td>1</td>\n",
       "      <td>paid</td>\n",
       "      <td>fulfilled</td>\n",
       "      <td>1</td>\n",
       "      <td>63.9</td>\n",
       "      <td>0.0</td>\n",
       "      <td>shargo</td>\n",
       "      <td>Barcelona</td>\n",
       "      <td>08041</td>\n",
       "      <td>Stripe</td>\n",
       "      <td>0.0</td>\n",
       "      <td>0</td>\n",
       "      <td>None</td>\n",
       "      <td>regular</td>\n",
       "    </tr>\n",
       "    <tr>\n",
       "      <th>1</th>\n",
       "      <td>#1246</td>\n",
       "      <td>2</td>\n",
       "      <td>paid</td>\n",
       "      <td>unfulfilled</td>\n",
       "      <td>1</td>\n",
       "      <td>94.0</td>\n",
       "      <td>0.0</td>\n",
       "      <td>gratuito</td>\n",
       "      <td>Barcelona</td>\n",
       "      <td>08003</td>\n",
       "      <td>Stripe</td>\n",
       "      <td>0.0</td>\n",
       "      <td>0</td>\n",
       "      <td>None</td>\n",
       "      <td>casual</td>\n",
       "    </tr>\n",
       "    <tr>\n",
       "      <th>2</th>\n",
       "      <td>#1245</td>\n",
       "      <td>3</td>\n",
       "      <td>paid</td>\n",
       "      <td>fulfilled</td>\n",
       "      <td>1</td>\n",
       "      <td>37.4</td>\n",
       "      <td>0.0</td>\n",
       "      <td>shargo</td>\n",
       "      <td>Barcelona</td>\n",
       "      <td>08006</td>\n",
       "      <td>Stripe</td>\n",
       "      <td>0.0</td>\n",
       "      <td>0</td>\n",
       "      <td>None</td>\n",
       "      <td>preferred</td>\n",
       "    </tr>\n",
       "    <tr>\n",
       "      <th>3</th>\n",
       "      <td>#1244</td>\n",
       "      <td>4</td>\n",
       "      <td>paid</td>\n",
       "      <td>fulfilled</td>\n",
       "      <td>1</td>\n",
       "      <td>49.9</td>\n",
       "      <td>0.0</td>\n",
       "      <td>shargo</td>\n",
       "      <td>Barcelona</td>\n",
       "      <td>08032</td>\n",
       "      <td>Stripe</td>\n",
       "      <td>0.0</td>\n",
       "      <td>0</td>\n",
       "      <td>None</td>\n",
       "      <td>casual</td>\n",
       "    </tr>\n",
       "    <tr>\n",
       "      <th>4</th>\n",
       "      <td>#1243</td>\n",
       "      <td>5</td>\n",
       "      <td>paid</td>\n",
       "      <td>fulfilled</td>\n",
       "      <td>1</td>\n",
       "      <td>45.0</td>\n",
       "      <td>0.0</td>\n",
       "      <td>shargo</td>\n",
       "      <td>Barcelona</td>\n",
       "      <td>08021</td>\n",
       "      <td>Stripe</td>\n",
       "      <td>0.0</td>\n",
       "      <td>0</td>\n",
       "      <td>None</td>\n",
       "      <td>preferred</td>\n",
       "    </tr>\n",
       "  </tbody>\n",
       "</table>\n",
       "</div>"
      ],
      "text/plain": [
       "    Name  Customer Financial Status Fulfillment Status  Accepts Marketing  \\\n",
       "0  #1247         1             paid          fulfilled                  1   \n",
       "1  #1246         2             paid        unfulfilled                  1   \n",
       "2  #1245         3             paid          fulfilled                  1   \n",
       "3  #1244         4             paid          fulfilled                  1   \n",
       "4  #1243         5             paid          fulfilled                  1   \n",
       "\n",
       "   Total  Discount Amount Shipping Method Shipping City Shipping Zip  \\\n",
       "0   63.9              0.0          shargo     Barcelona        08041   \n",
       "1   94.0              0.0        gratuito     Barcelona        08003   \n",
       "2   37.4              0.0          shargo     Barcelona        08006   \n",
       "3   49.9              0.0          shargo     Barcelona        08032   \n",
       "4   45.0              0.0          shargo     Barcelona        08021   \n",
       "\n",
       "  Payment Method  Refunded Amount  Discount Code Notes customer_class  \n",
       "0         Stripe              0.0              0  None        regular  \n",
       "1         Stripe              0.0              0  None         casual  \n",
       "2         Stripe              0.0              0  None      preferred  \n",
       "3         Stripe              0.0              0  None         casual  \n",
       "4         Stripe              0.0              0  None      preferred  "
      ]
     },
     "execution_count": 205,
     "metadata": {},
     "output_type": "execute_result"
    }
   ],
   "source": [
    "orders.head()"
   ]
  },
  {
   "cell_type": "code",
   "execution_count": 206,
   "metadata": {},
   "outputs": [],
   "source": [
    "customers = pd.DataFrame()\n",
    "for order in list(orders['Customer'].unique()):\n",
    "    customers = customers.append(orders[orders_raw['Customer']==order].head(1))\n",
    "\n",
    "customers = customers[['Customer', 'Accepts Marketing', 'Shipping City', 'customer_class']]\n",
    "customers = customers.reset_index(drop=True)"
   ]
  },
  {
   "cell_type": "code",
   "execution_count": 207,
   "metadata": {},
   "outputs": [],
   "source": [
    "orders = orders[['Name', 'Customer', 'Financial Status', 'Fulfillment Status', 'Total', 'Discount Amount',\n",
    "                'Shipping Method', 'Shipping Zip', 'Payment Method', 'Refunded Amount', 'Discount Code', 'Notes']]"
   ]
  },
  {
   "cell_type": "markdown",
   "metadata": {},
   "source": [
    "# Load the data"
   ]
  },
  {
   "cell_type": "code",
   "execution_count": 208,
   "metadata": {},
   "outputs": [],
   "source": [
    "orders.to_sql('orders', con = engine, if_exists='replace')\n",
    "customers.to_sql('customers', con = engine, if_exists='replace')"
   ]
  }
 ],
 "metadata": {
  "kernelspec": {
   "display_name": "Python 3",
   "language": "python",
   "name": "python3"
  },
  "language_info": {
   "codemirror_mode": {
    "name": "ipython",
    "version": 3
   },
   "file_extension": ".py",
   "mimetype": "text/x-python",
   "name": "python",
   "nbconvert_exporter": "python",
   "pygments_lexer": "ipython3",
   "version": "3.7.2"
  }
 },
 "nbformat": 4,
 "nbformat_minor": 2
}
