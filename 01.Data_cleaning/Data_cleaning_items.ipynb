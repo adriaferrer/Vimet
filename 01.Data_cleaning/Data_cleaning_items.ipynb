{
 "cells": [
  {
   "cell_type": "markdown",
   "metadata": {},
   "source": [
    "# Cleaning item-specific data"
   ]
  },
  {
   "cell_type": "code",
   "execution_count": 11,
   "metadata": {},
   "outputs": [],
   "source": [
    "import pandas as pd\n",
    "from sqlalchemy import create_engine\n",
    "\n",
    "\n",
    "driver = 'mysql+pymysql:'\n",
    "user = 'adria'\n",
    "password = '00000'\n",
    "ip = '35.187.114.125'\n",
    "database = 'vimet'\n",
    "\n",
    "connection_string = f'{driver}//{user}:{password}@{ip}/{database}'\n",
    "engine = create_engine(connection_string)"
   ]
  },
  {
   "cell_type": "code",
   "execution_count": 12,
   "metadata": {},
   "outputs": [],
   "source": [
    "items = pd.read_sql('items', con = engine)"
   ]
  },
  {
   "cell_type": "code",
   "execution_count": 13,
   "metadata": {},
   "outputs": [
    {
     "data": {
      "text/html": [
       "<div>\n",
       "<style scoped>\n",
       "    .dataframe tbody tr th:only-of-type {\n",
       "        vertical-align: middle;\n",
       "    }\n",
       "\n",
       "    .dataframe tbody tr th {\n",
       "        vertical-align: top;\n",
       "    }\n",
       "\n",
       "    .dataframe thead th {\n",
       "        text-align: right;\n",
       "    }\n",
       "</style>\n",
       "<table border=\"1\" class=\"dataframe\">\n",
       "  <thead>\n",
       "    <tr style=\"text-align: right;\">\n",
       "      <th></th>\n",
       "      <th>index</th>\n",
       "      <th>Name</th>\n",
       "      <th>Id</th>\n",
       "      <th>Lineitem quantity</th>\n",
       "      <th>Lineitem name</th>\n",
       "      <th>Lineitem price</th>\n",
       "      <th>Lineitem sku</th>\n",
       "      <th>Lineitem requires shipping</th>\n",
       "      <th>Lineitem taxable</th>\n",
       "      <th>Lineitem fulfillment status</th>\n",
       "      <th>Lineitem compare at price</th>\n",
       "    </tr>\n",
       "  </thead>\n",
       "  <tbody>\n",
       "    <tr>\n",
       "      <th>0</th>\n",
       "      <td>0</td>\n",
       "      <td>#1247</td>\n",
       "      <td>8.925310e+11</td>\n",
       "      <td>1</td>\n",
       "      <td>Cesta de temporada (1/2 pensión) - 2</td>\n",
       "      <td>59.0</td>\n",
       "      <td>NaN</td>\n",
       "      <td>1</td>\n",
       "      <td>0</td>\n",
       "      <td>fulfilled</td>\n",
       "      <td>NaN</td>\n",
       "    </tr>\n",
       "    <tr>\n",
       "      <th>1</th>\n",
       "      <td>1</td>\n",
       "      <td>#1246</td>\n",
       "      <td>8.918520e+11</td>\n",
       "      <td>1</td>\n",
       "      <td>Cesta familiar (1/2 pensión) - 3</td>\n",
       "      <td>79.0</td>\n",
       "      <td>NaN</td>\n",
       "      <td>1</td>\n",
       "      <td>0</td>\n",
       "      <td>pending</td>\n",
       "      <td>NaN</td>\n",
       "    </tr>\n",
       "    <tr>\n",
       "      <th>2</th>\n",
       "      <td>2</td>\n",
       "      <td>#1246</td>\n",
       "      <td>NaN</td>\n",
       "      <td>1</td>\n",
       "      <td>Desayuno salado - 2</td>\n",
       "      <td>15.0</td>\n",
       "      <td>NaN</td>\n",
       "      <td>1</td>\n",
       "      <td>0</td>\n",
       "      <td>pending</td>\n",
       "      <td>NaN</td>\n",
       "    </tr>\n",
       "    <tr>\n",
       "      <th>3</th>\n",
       "      <td>3</td>\n",
       "      <td>#1245</td>\n",
       "      <td>8.917250e+11</td>\n",
       "      <td>1</td>\n",
       "      <td>FAM - QA - 17 - 2</td>\n",
       "      <td>32.5</td>\n",
       "      <td>NaN</td>\n",
       "      <td>1</td>\n",
       "      <td>0</td>\n",
       "      <td>fulfilled</td>\n",
       "      <td>NaN</td>\n",
       "    </tr>\n",
       "    <tr>\n",
       "      <th>4</th>\n",
       "      <td>4</td>\n",
       "      <td>#1244</td>\n",
       "      <td>8.910100e+11</td>\n",
       "      <td>1</td>\n",
       "      <td>Cesta de temporada sin pescado (1/2 pensión) - 2</td>\n",
       "      <td>45.0</td>\n",
       "      <td>NaN</td>\n",
       "      <td>1</td>\n",
       "      <td>0</td>\n",
       "      <td>fulfilled</td>\n",
       "      <td>NaN</td>\n",
       "    </tr>\n",
       "  </tbody>\n",
       "</table>\n",
       "</div>"
      ],
      "text/plain": [
       "   index   Name            Id  Lineitem quantity  \\\n",
       "0      0  #1247  8.925310e+11                  1   \n",
       "1      1  #1246  8.918520e+11                  1   \n",
       "2      2  #1246           NaN                  1   \n",
       "3      3  #1245  8.917250e+11                  1   \n",
       "4      4  #1244  8.910100e+11                  1   \n",
       "\n",
       "                                      Lineitem name  Lineitem price  \\\n",
       "0              Cesta de temporada (1/2 pensión) - 2            59.0   \n",
       "1                  Cesta familiar (1/2 pensión) - 3            79.0   \n",
       "2                               Desayuno salado - 2            15.0   \n",
       "3                                 FAM - QA - 17 - 2            32.5   \n",
       "4  Cesta de temporada sin pescado (1/2 pensión) - 2            45.0   \n",
       "\n",
       "   Lineitem sku  Lineitem requires shipping  Lineitem taxable  \\\n",
       "0           NaN                           1                 0   \n",
       "1           NaN                           1                 0   \n",
       "2           NaN                           1                 0   \n",
       "3           NaN                           1                 0   \n",
       "4           NaN                           1                 0   \n",
       "\n",
       "  Lineitem fulfillment status  Lineitem compare at price  \n",
       "0                   fulfilled                        NaN  \n",
       "1                     pending                        NaN  \n",
       "2                     pending                        NaN  \n",
       "3                   fulfilled                        NaN  \n",
       "4                   fulfilled                        NaN  "
      ]
     },
     "execution_count": 13,
     "metadata": {},
     "output_type": "execute_result"
    }
   ],
   "source": [
    "items.head()"
   ]
  },
  {
   "cell_type": "markdown",
   "metadata": {},
   "source": [
    "We'll drop the index column as it is redundant and the 'id' (which corresponds to the order and it's redundant with 'Name'"
   ]
  },
  {
   "cell_type": "code",
   "execution_count": 14,
   "metadata": {},
   "outputs": [],
   "source": [
    "items = items.drop(columns=['index', 'Id'])"
   ]
  },
  {
   "cell_type": "code",
   "execution_count": 15,
   "metadata": {},
   "outputs": [
    {
     "data": {
      "text/html": [
       "<div>\n",
       "<style scoped>\n",
       "    .dataframe tbody tr th:only-of-type {\n",
       "        vertical-align: middle;\n",
       "    }\n",
       "\n",
       "    .dataframe tbody tr th {\n",
       "        vertical-align: top;\n",
       "    }\n",
       "\n",
       "    .dataframe thead th {\n",
       "        text-align: right;\n",
       "    }\n",
       "</style>\n",
       "<table border=\"1\" class=\"dataframe\">\n",
       "  <thead>\n",
       "    <tr style=\"text-align: right;\">\n",
       "      <th></th>\n",
       "      <th>Name</th>\n",
       "      <th>Lineitem quantity</th>\n",
       "      <th>Lineitem name</th>\n",
       "      <th>Lineitem price</th>\n",
       "      <th>Lineitem sku</th>\n",
       "      <th>Lineitem requires shipping</th>\n",
       "      <th>Lineitem taxable</th>\n",
       "      <th>Lineitem fulfillment status</th>\n",
       "      <th>Lineitem compare at price</th>\n",
       "    </tr>\n",
       "  </thead>\n",
       "  <tbody>\n",
       "    <tr>\n",
       "      <th>0</th>\n",
       "      <td>#1247</td>\n",
       "      <td>1</td>\n",
       "      <td>Cesta de temporada (1/2 pensión) - 2</td>\n",
       "      <td>59.0</td>\n",
       "      <td>NaN</td>\n",
       "      <td>1</td>\n",
       "      <td>0</td>\n",
       "      <td>fulfilled</td>\n",
       "      <td>NaN</td>\n",
       "    </tr>\n",
       "    <tr>\n",
       "      <th>1</th>\n",
       "      <td>#1246</td>\n",
       "      <td>1</td>\n",
       "      <td>Cesta familiar (1/2 pensión) - 3</td>\n",
       "      <td>79.0</td>\n",
       "      <td>NaN</td>\n",
       "      <td>1</td>\n",
       "      <td>0</td>\n",
       "      <td>pending</td>\n",
       "      <td>NaN</td>\n",
       "    </tr>\n",
       "    <tr>\n",
       "      <th>2</th>\n",
       "      <td>#1246</td>\n",
       "      <td>1</td>\n",
       "      <td>Desayuno salado - 2</td>\n",
       "      <td>15.0</td>\n",
       "      <td>NaN</td>\n",
       "      <td>1</td>\n",
       "      <td>0</td>\n",
       "      <td>pending</td>\n",
       "      <td>NaN</td>\n",
       "    </tr>\n",
       "    <tr>\n",
       "      <th>3</th>\n",
       "      <td>#1245</td>\n",
       "      <td>1</td>\n",
       "      <td>FAM - QA - 17 - 2</td>\n",
       "      <td>32.5</td>\n",
       "      <td>NaN</td>\n",
       "      <td>1</td>\n",
       "      <td>0</td>\n",
       "      <td>fulfilled</td>\n",
       "      <td>NaN</td>\n",
       "    </tr>\n",
       "    <tr>\n",
       "      <th>4</th>\n",
       "      <td>#1244</td>\n",
       "      <td>1</td>\n",
       "      <td>Cesta de temporada sin pescado (1/2 pensión) - 2</td>\n",
       "      <td>45.0</td>\n",
       "      <td>NaN</td>\n",
       "      <td>1</td>\n",
       "      <td>0</td>\n",
       "      <td>fulfilled</td>\n",
       "      <td>NaN</td>\n",
       "    </tr>\n",
       "  </tbody>\n",
       "</table>\n",
       "</div>"
      ],
      "text/plain": [
       "    Name  Lineitem quantity                                     Lineitem name  \\\n",
       "0  #1247                  1              Cesta de temporada (1/2 pensión) - 2   \n",
       "1  #1246                  1                  Cesta familiar (1/2 pensión) - 3   \n",
       "2  #1246                  1                               Desayuno salado - 2   \n",
       "3  #1245                  1                                 FAM - QA - 17 - 2   \n",
       "4  #1244                  1  Cesta de temporada sin pescado (1/2 pensión) - 2   \n",
       "\n",
       "   Lineitem price  Lineitem sku  Lineitem requires shipping  Lineitem taxable  \\\n",
       "0            59.0           NaN                           1                 0   \n",
       "1            79.0           NaN                           1                 0   \n",
       "2            15.0           NaN                           1                 0   \n",
       "3            32.5           NaN                           1                 0   \n",
       "4            45.0           NaN                           1                 0   \n",
       "\n",
       "  Lineitem fulfillment status  Lineitem compare at price  \n",
       "0                   fulfilled                        NaN  \n",
       "1                     pending                        NaN  \n",
       "2                     pending                        NaN  \n",
       "3                   fulfilled                        NaN  \n",
       "4                   fulfilled                        NaN  "
      ]
     },
     "execution_count": 15,
     "metadata": {},
     "output_type": "execute_result"
    }
   ],
   "source": [
    "items.head()"
   ]
  },
  {
   "cell_type": "markdown",
   "metadata": {},
   "source": [
    "## NaN values"
   ]
  },
  {
   "cell_type": "code",
   "execution_count": 16,
   "metadata": {},
   "outputs": [
    {
     "data": {
      "text/plain": [
       "Name                              0\n",
       "Lineitem quantity                 0\n",
       "Lineitem name                     0\n",
       "Lineitem price                    0\n",
       "Lineitem sku                     83\n",
       "Lineitem requires shipping        0\n",
       "Lineitem taxable                  0\n",
       "Lineitem fulfillment status       0\n",
       "Lineitem compare at price      2396\n",
       "dtype: int64"
      ]
     },
     "execution_count": 16,
     "metadata": {},
     "output_type": "execute_result"
    }
   ],
   "source": [
    "items.isna().sum()"
   ]
  },
  {
   "cell_type": "code",
   "execution_count": 18,
   "metadata": {},
   "outputs": [
    {
     "data": {
      "text/plain": [
       "(2419, 9)"
      ]
     },
     "execution_count": 18,
     "metadata": {},
     "output_type": "execute_result"
    }
   ],
   "source": [
    "items.shape"
   ]
  },
  {
   "cell_type": "code",
   "execution_count": 20,
   "metadata": {},
   "outputs": [
    {
     "data": {
      "text/plain": [
       "0.0    23\n",
       "Name: Lineitem compare at price, dtype: int64"
      ]
     },
     "execution_count": 20,
     "metadata": {},
     "output_type": "execute_result"
    }
   ],
   "source": [
    "items['Lineitem compare at price'].value_counts()"
   ]
  },
  {
   "cell_type": "markdown",
   "metadata": {},
   "source": [
    "We will drop 'Lineitem compare at price' as it is either 0 or NaN"
   ]
  },
  {
   "cell_type": "code",
   "execution_count": 21,
   "metadata": {},
   "outputs": [],
   "source": [
    "items = items.drop(columns='Lineitem compare at price')"
   ]
  },
  {
   "cell_type": "markdown",
   "metadata": {},
   "source": [
    "        # Preguntar a Ramon que es Lineitem sku"
   ]
  },
  {
   "cell_type": "code",
   "execution_count": 26,
   "metadata": {},
   "outputs": [],
   "source": [
    "items = items.drop(columns='Lineitem sku')"
   ]
  },
  {
   "cell_type": "markdown",
   "metadata": {},
   "source": [
    "## Variable types"
   ]
  },
  {
   "cell_type": "code",
   "execution_count": 28,
   "metadata": {},
   "outputs": [
    {
     "name": "stdout",
     "output_type": "stream",
     "text": [
      "<class 'pandas.core.frame.DataFrame'>\n",
      "RangeIndex: 2419 entries, 0 to 2418\n",
      "Data columns (total 7 columns):\n",
      "Name                           2419 non-null object\n",
      "Lineitem quantity              2419 non-null int64\n",
      "Lineitem name                  2419 non-null object\n",
      "Lineitem price                 2419 non-null float64\n",
      "Lineitem requires shipping     2419 non-null int64\n",
      "Lineitem taxable               2419 non-null int64\n",
      "Lineitem fulfillment status    2419 non-null object\n",
      "dtypes: float64(1), int64(3), object(3)\n",
      "memory usage: 132.4+ KB\n"
     ]
    }
   ],
   "source": [
    "items.info()"
   ]
  },
  {
   "cell_type": "markdown",
   "metadata": {},
   "source": [
    "Types seem ok"
   ]
  },
  {
   "cell_type": "markdown",
   "metadata": {},
   "source": [
    "## Feature values"
   ]
  },
  {
   "cell_type": "code",
   "execution_count": 29,
   "metadata": {},
   "outputs": [
    {
     "data": {
      "text/plain": [
       "Index(['Name', 'Lineitem quantity', 'Lineitem name', 'Lineitem price',\n",
       "       'Lineitem requires shipping', 'Lineitem taxable',\n",
       "       'Lineitem fulfillment status'],\n",
       "      dtype='object')"
      ]
     },
     "execution_count": 29,
     "metadata": {},
     "output_type": "execute_result"
    }
   ],
   "source": [
    "items.columns"
   ]
  },
  {
   "cell_type": "markdown",
   "metadata": {},
   "source": [
    "#### Quantity -- OK"
   ]
  },
  {
   "cell_type": "code",
   "execution_count": 30,
   "metadata": {},
   "outputs": [
    {
     "data": {
      "text/plain": [
       "1     2106\n",
       "2      210\n",
       "3       54\n",
       "4       32\n",
       "5       10\n",
       "6        5\n",
       "7        1\n",
       "10       1\n",
       "Name: Lineitem quantity, dtype: int64"
      ]
     },
     "execution_count": 30,
     "metadata": {},
     "output_type": "execute_result"
    }
   ],
   "source": [
    "items['Lineitem quantity'].value_counts()"
   ]
  },
  {
   "cell_type": "markdown",
   "metadata": {},
   "source": [
    "Looks good"
   ]
  },
  {
   "cell_type": "markdown",
   "metadata": {},
   "source": [
    "#### Lineitem name'"
   ]
  },
  {
   "cell_type": "code",
   "execution_count": 32,
   "metadata": {},
   "outputs": [
    {
     "data": {
      "text/plain": [
       "Calabacín (500 grs.)                                        38\n",
       "Garbanzos cocidos (500 grs.)                                31\n",
       "Pechuga de pollo fileteada (350 grs.)                       28\n",
       "Lenteja cocida (500 grs.) - Pequeña (pardina)               26\n",
       "Hamburguesa de cebolla queso y huevo (2 uds.)               25\n",
       "Patata - Monalisa (1 Kg.) / 1.20€                           23\n",
       "Naranjas zumo (2 kg.)                                       22\n",
       "Nectarina (500 grs.)                                        21\n",
       "Aguacate (2 unidades)                                       20\n",
       "Puerro (1 Kg. = 2/3 uds.)                                   20\n",
       "Cerezas Extra (250 grs.)                                    20\n",
       "Tomate Monterosa (500 grs.)                                 20\n",
       "Brocolí (1 ud.)                                             20\n",
       "Plátano Canarias (3/4 unidades) - Verde                     19\n",
       "Pimientos - Rojo (500 grs. 1/2 uds.) / 1.75€                19\n",
       "Mandarina - 500 grs.                                        19\n",
       "Manzana Golden (4 unidades)                                 19\n",
       "Cesta de temporada (1/2 pensión) - 2                        18\n",
       "Atún Rojo de la Costa (300 grs.)                            17\n",
       "Risotto de Eco Ceps (80 grs.)                               17\n",
       "Zanahoria - Granel (500 grs.) / 0.95€                       17\n",
       "Huevos (6 unidades) - de pagés / 1.95€                      15\n",
       "Colita de rape (300 grs.)                                   15\n",
       "Huevos (6 unidades) - ecológicos / 2.60€                    14\n",
       "Salmón fresco (570 grs.) - Filetes / 15.70€                 14\n",
       "Tomate Cherry (400 grs)                                     14\n",
       "Tomate de untar (500 grs)                                   13\n",
       "Canelones de rustido con ceps (6 unidades)                  13\n",
       "Croquetas (6 unidades) - Rustit                             13\n",
       "Bandeja con 15 albóndigas                                   13\n",
       "                                                            ..\n",
       "Salchichón cortado (150 grs.)                                1\n",
       "Nueces (250 grs.) - Chilenas sin cáscara / 5.90€             1\n",
       "Pimiento (500 grs.) - Rojo (1 Kg. 3/4 uds.) / 4.20€          1\n",
       "Lechuga (1 unidad) - maravilla / 1.50€                       1\n",
       "Patata Agria - 1 Kg.                                         1\n",
       "Croquetas (3 unidades) - de pollo                            1\n",
       "Queso fresco de cabra - 250 grs.                             1\n",
       "Conejo (entero) - a cuartos                                  1\n",
       "Pistacho pelado crudo sin sal (250 grs.)                     1\n",
       "Pollo de pagés - a cuartos para guisar / mediano (3 Kg.)     1\n",
       "Nueces (250 grs.) - Chilenas sin Cáscara                     1\n",
       "Librito de ternera (3 uds. aprox. 500 grs.)                  1\n",
       "Canónigos (1 caja)                                           1\n",
       "Endivias - 500 grs. (3/4 uds.)                               1\n",
       "Pasta fresca Pancerotti  (300 grs.) - con Espinacas          1\n",
       "Portobello (250 grs.)                                        1\n",
       "Cebolla tierna (1 Manojo)                                    1\n",
       "Caldo elaborado (1 litro) - de pollo ecológico / 5.20€       1\n",
       "Broquil verde - 1 unidad                                     1\n",
       "Alubia cruda Ganxet (500 grs.)                               1\n",
       "Anacardos Fritos y Salados - 125 grs.                        1\n",
       "Judía (500 grs.) - Boby / 2,75€                              1\n",
       "Piñones (100 grs.) - País / 6.60€                            1\n",
       "Librito de ternera (3 uds.)                                  1\n",
       "Lomo al corte - 10 uds.                                      1\n",
       "Fresón Huelva - 1 caja (500 grs.)                            1\n",
       "Alubia cocida Ganxet (500 grs.)                              1\n",
       "Espalda de lechal (2/3 raciones)                             1\n",
       "Calamarcets Playa enteros - 500 grs.                         1\n",
       "Lubina de vivero de Roses (a lomos) - 500 grs.               1\n",
       "Name: Lineitem name, Length: 665, dtype: int64"
      ]
     },
     "execution_count": 32,
     "metadata": {},
     "output_type": "execute_result"
    }
   ],
   "source": [
    "items['Lineitem name'].value_counts()"
   ]
  },
  {
   "cell_type": "code",
   "execution_count": null,
   "metadata": {},
   "outputs": [],
   "source": []
  },
  {
   "cell_type": "markdown",
   "metadata": {},
   "source": [
    "#### 'Lineitem price' --OK"
   ]
  },
  {
   "cell_type": "markdown",
   "metadata": {},
   "source": [
    "Looks good"
   ]
  },
  {
   "cell_type": "markdown",
   "metadata": {},
   "source": [
    "#### 'Lineitem requires shipping' -- OK"
   ]
  },
  {
   "cell_type": "code",
   "execution_count": 34,
   "metadata": {},
   "outputs": [
    {
     "data": {
      "text/plain": [
       "1    2402\n",
       "0      17\n",
       "Name: Lineitem requires shipping, dtype: int64"
      ]
     },
     "execution_count": 34,
     "metadata": {},
     "output_type": "execute_result"
    }
   ],
   "source": [
    "items['Lineitem requires shipping'].value_counts()"
   ]
  },
  {
   "cell_type": "markdown",
   "metadata": {},
   "source": [
    "####  'Lineitem taxable' -- OK"
   ]
  },
  {
   "cell_type": "code",
   "execution_count": 35,
   "metadata": {},
   "outputs": [
    {
     "data": {
      "text/plain": [
       "0    2411\n",
       "1       8\n",
       "Name: Lineitem taxable, dtype: int64"
      ]
     },
     "execution_count": 35,
     "metadata": {},
     "output_type": "execute_result"
    }
   ],
   "source": [
    "items['Lineitem taxable'].value_counts()"
   ]
  },
  {
   "cell_type": "markdown",
   "metadata": {},
   "source": [
    "#### 'Lineitem fulfillment status' -- OK"
   ]
  },
  {
   "cell_type": "code",
   "execution_count": 36,
   "metadata": {},
   "outputs": [
    {
     "data": {
      "text/plain": [
       "fulfilled    2318\n",
       "pending       101\n",
       "Name: Lineitem fulfillment status, dtype: int64"
      ]
     },
     "execution_count": 36,
     "metadata": {},
     "output_type": "execute_result"
    }
   ],
   "source": [
    "items['Lineitem fulfillment status'].value_counts()"
   ]
  },
  {
   "cell_type": "markdown",
   "metadata": {},
   "source": [
    "# Load data"
   ]
  },
  {
   "cell_type": "code",
   "execution_count": 37,
   "metadata": {},
   "outputs": [],
   "source": [
    "from sqlalchemy import create_engine\n",
    "\n",
    "\n",
    "driver = 'mysql+pymysql:'\n",
    "user = 'adria'\n",
    "password = '00000'\n",
    "ip = '35.187.114.125'\n",
    "database = 'vimet'\n",
    "\n",
    "connection_string = f'{driver}//{user}:{password}@{ip}/{database}'\n",
    "engine = create_engine(connection_string)"
   ]
  },
  {
   "cell_type": "code",
   "execution_count": 38,
   "metadata": {},
   "outputs": [],
   "source": [
    "items.to_sql('items', con = engine, if_exists='replace')"
   ]
  },
  {
   "cell_type": "code",
   "execution_count": null,
   "metadata": {},
   "outputs": [],
   "source": []
  }
 ],
 "metadata": {
  "kernelspec": {
   "display_name": "Python 3",
   "language": "python",
   "name": "python3"
  },
  "language_info": {
   "codemirror_mode": {
    "name": "ipython",
    "version": 3
   },
   "file_extension": ".py",
   "mimetype": "text/x-python",
   "name": "python",
   "nbconvert_exporter": "python",
   "pygments_lexer": "ipython3",
   "version": "3.7.2"
  }
 },
 "nbformat": 4,
 "nbformat_minor": 2
}
