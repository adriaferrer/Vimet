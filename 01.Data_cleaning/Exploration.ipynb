{
 "cells": [
  {
   "cell_type": "markdown",
   "metadata": {},
   "source": [
    "# Data exploration"
   ]
  },
  {
   "cell_type": "code",
   "execution_count": 1,
   "metadata": {},
   "outputs": [],
   "source": [
    "import pandas as pd\n",
    "import numpy as np\n",
    "import matplotlib.pyplot as plt\n",
    "import seaborn as sns"
   ]
  },
  {
   "cell_type": "markdown",
   "metadata": {},
   "source": [
    "## Data loading and exploration"
   ]
  },
  {
   "cell_type": "code",
   "execution_count": 2,
   "metadata": {},
   "outputs": [],
   "source": [
    "orders = pd.read_csv('../00.Data/orders_cripted.csv')"
   ]
  },
  {
   "cell_type": "code",
   "execution_count": 3,
   "metadata": {},
   "outputs": [
    {
     "data": {
      "text/html": [
       "<div>\n",
       "<style scoped>\n",
       "    .dataframe tbody tr th:only-of-type {\n",
       "        vertical-align: middle;\n",
       "    }\n",
       "\n",
       "    .dataframe tbody tr th {\n",
       "        vertical-align: top;\n",
       "    }\n",
       "\n",
       "    .dataframe thead th {\n",
       "        text-align: right;\n",
       "    }\n",
       "</style>\n",
       "<table border=\"1\" class=\"dataframe\">\n",
       "  <thead>\n",
       "    <tr style=\"text-align: right;\">\n",
       "      <th></th>\n",
       "      <th>Name</th>\n",
       "      <th>Customer</th>\n",
       "      <th>Financial Status</th>\n",
       "      <th>Paid at</th>\n",
       "      <th>Fulfillment Status</th>\n",
       "      <th>Fulfilled at</th>\n",
       "      <th>Accepts Marketing</th>\n",
       "      <th>Currency</th>\n",
       "      <th>Subtotal</th>\n",
       "      <th>Shipping</th>\n",
       "      <th>...</th>\n",
       "      <th>Tax 2 Name</th>\n",
       "      <th>Tax 2 Value</th>\n",
       "      <th>Tax 3 Name</th>\n",
       "      <th>Tax 3 Value</th>\n",
       "      <th>Tax 4 Name</th>\n",
       "      <th>Tax 4 Value</th>\n",
       "      <th>Tax 5 Name</th>\n",
       "      <th>Tax 5 Value</th>\n",
       "      <th>Phone</th>\n",
       "      <th>Receipt Number</th>\n",
       "    </tr>\n",
       "  </thead>\n",
       "  <tbody>\n",
       "    <tr>\n",
       "      <th>0</th>\n",
       "      <td>#1247</td>\n",
       "      <td>1.0</td>\n",
       "      <td>paid</td>\n",
       "      <td>2019-04-16 18:36:20 +0200</td>\n",
       "      <td>fulfilled</td>\n",
       "      <td>2019-04-16 23:30:49 +0200</td>\n",
       "      <td>yes</td>\n",
       "      <td>EUR</td>\n",
       "      <td>59.0</td>\n",
       "      <td>4.9</td>\n",
       "      <td>...</td>\n",
       "      <td>NaN</td>\n",
       "      <td>NaN</td>\n",
       "      <td>NaN</td>\n",
       "      <td>NaN</td>\n",
       "      <td>NaN</td>\n",
       "      <td>NaN</td>\n",
       "      <td>NaN</td>\n",
       "      <td>NaN</td>\n",
       "      <td>NaN</td>\n",
       "      <td>NaN</td>\n",
       "    </tr>\n",
       "    <tr>\n",
       "      <th>1</th>\n",
       "      <td>#1246</td>\n",
       "      <td>2.0</td>\n",
       "      <td>paid</td>\n",
       "      <td>2019-04-16 02:05:29 +0200</td>\n",
       "      <td>unfulfilled</td>\n",
       "      <td>NaN</td>\n",
       "      <td>yes</td>\n",
       "      <td>EUR</td>\n",
       "      <td>94.0</td>\n",
       "      <td>0.0</td>\n",
       "      <td>...</td>\n",
       "      <td>NaN</td>\n",
       "      <td>NaN</td>\n",
       "      <td>NaN</td>\n",
       "      <td>NaN</td>\n",
       "      <td>NaN</td>\n",
       "      <td>NaN</td>\n",
       "      <td>NaN</td>\n",
       "      <td>NaN</td>\n",
       "      <td>NaN</td>\n",
       "      <td>NaN</td>\n",
       "    </tr>\n",
       "    <tr>\n",
       "      <th>2</th>\n",
       "      <td>#1246</td>\n",
       "      <td>2.0</td>\n",
       "      <td>NaN</td>\n",
       "      <td>NaN</td>\n",
       "      <td>NaN</td>\n",
       "      <td>NaN</td>\n",
       "      <td>NaN</td>\n",
       "      <td>NaN</td>\n",
       "      <td>NaN</td>\n",
       "      <td>NaN</td>\n",
       "      <td>...</td>\n",
       "      <td>NaN</td>\n",
       "      <td>NaN</td>\n",
       "      <td>NaN</td>\n",
       "      <td>NaN</td>\n",
       "      <td>NaN</td>\n",
       "      <td>NaN</td>\n",
       "      <td>NaN</td>\n",
       "      <td>NaN</td>\n",
       "      <td>NaN</td>\n",
       "      <td>NaN</td>\n",
       "    </tr>\n",
       "    <tr>\n",
       "      <th>3</th>\n",
       "      <td>#1245</td>\n",
       "      <td>3.0</td>\n",
       "      <td>paid</td>\n",
       "      <td>2019-04-15 23:35:10 +0200</td>\n",
       "      <td>fulfilled</td>\n",
       "      <td>2019-04-16 09:00:25 +0200</td>\n",
       "      <td>yes</td>\n",
       "      <td>EUR</td>\n",
       "      <td>32.5</td>\n",
       "      <td>4.9</td>\n",
       "      <td>...</td>\n",
       "      <td>NaN</td>\n",
       "      <td>NaN</td>\n",
       "      <td>NaN</td>\n",
       "      <td>NaN</td>\n",
       "      <td>NaN</td>\n",
       "      <td>NaN</td>\n",
       "      <td>NaN</td>\n",
       "      <td>NaN</td>\n",
       "      <td>NaN</td>\n",
       "      <td>NaN</td>\n",
       "    </tr>\n",
       "    <tr>\n",
       "      <th>4</th>\n",
       "      <td>#1244</td>\n",
       "      <td>4.0</td>\n",
       "      <td>paid</td>\n",
       "      <td>2019-04-15 09:51:49 +0200</td>\n",
       "      <td>fulfilled</td>\n",
       "      <td>2019-04-15 23:47:18 +0200</td>\n",
       "      <td>yes</td>\n",
       "      <td>EUR</td>\n",
       "      <td>45.0</td>\n",
       "      <td>4.9</td>\n",
       "      <td>...</td>\n",
       "      <td>NaN</td>\n",
       "      <td>NaN</td>\n",
       "      <td>NaN</td>\n",
       "      <td>NaN</td>\n",
       "      <td>NaN</td>\n",
       "      <td>NaN</td>\n",
       "      <td>NaN</td>\n",
       "      <td>NaN</td>\n",
       "      <td>NaN</td>\n",
       "      <td>NaN</td>\n",
       "    </tr>\n",
       "  </tbody>\n",
       "</table>\n",
       "<p>5 rows × 50 columns</p>\n",
       "</div>"
      ],
      "text/plain": [
       "    Name  Customer Financial Status                    Paid at  \\\n",
       "0  #1247       1.0             paid  2019-04-16 18:36:20 +0200   \n",
       "1  #1246       2.0             paid  2019-04-16 02:05:29 +0200   \n",
       "2  #1246       2.0              NaN                        NaN   \n",
       "3  #1245       3.0             paid  2019-04-15 23:35:10 +0200   \n",
       "4  #1244       4.0             paid  2019-04-15 09:51:49 +0200   \n",
       "\n",
       "  Fulfillment Status               Fulfilled at Accepts Marketing Currency  \\\n",
       "0          fulfilled  2019-04-16 23:30:49 +0200               yes      EUR   \n",
       "1        unfulfilled                        NaN               yes      EUR   \n",
       "2                NaN                        NaN               NaN      NaN   \n",
       "3          fulfilled  2019-04-16 09:00:25 +0200               yes      EUR   \n",
       "4          fulfilled  2019-04-15 23:47:18 +0200               yes      EUR   \n",
       "\n",
       "   Subtotal  Shipping  ...  Tax 2 Name  Tax 2 Value Tax 3 Name  Tax 3 Value  \\\n",
       "0      59.0       4.9  ...         NaN          NaN        NaN          NaN   \n",
       "1      94.0       0.0  ...         NaN          NaN        NaN          NaN   \n",
       "2       NaN       NaN  ...         NaN          NaN        NaN          NaN   \n",
       "3      32.5       4.9  ...         NaN          NaN        NaN          NaN   \n",
       "4      45.0       4.9  ...         NaN          NaN        NaN          NaN   \n",
       "\n",
       "  Tax 4 Name Tax 4 Value  Tax 5 Name Tax 5 Value  Phone  Receipt Number  \n",
       "0        NaN         NaN         NaN         NaN    NaN             NaN  \n",
       "1        NaN         NaN         NaN         NaN    NaN             NaN  \n",
       "2        NaN         NaN         NaN         NaN    NaN             NaN  \n",
       "3        NaN         NaN         NaN         NaN    NaN             NaN  \n",
       "4        NaN         NaN         NaN         NaN    NaN             NaN  \n",
       "\n",
       "[5 rows x 50 columns]"
      ]
     },
     "execution_count": 3,
     "metadata": {},
     "output_type": "execute_result"
    }
   ],
   "source": [
    "orders.head()"
   ]
  },
  {
   "cell_type": "markdown",
   "metadata": {},
   "source": [
    "It seems that we have a lot of nan values and I'm not sure what the Tax N Value and Name are and seem to be empty. Let's check all Nan values compared to the total amount of data we have."
   ]
  },
  {
   "cell_type": "code",
   "execution_count": 4,
   "metadata": {},
   "outputs": [
    {
     "data": {
      "text/plain": [
       "(2419, 50)"
      ]
     },
     "execution_count": 4,
     "metadata": {},
     "output_type": "execute_result"
    }
   ],
   "source": [
    "orders.shape"
   ]
  },
  {
   "cell_type": "code",
   "execution_count": 5,
   "metadata": {},
   "outputs": [
    {
     "data": {
      "text/plain": [
       "Name                              0\n",
       "Customer                          2\n",
       "Financial Status               2179\n",
       "Paid at                        2260\n",
       "Fulfillment Status             2179\n",
       "Fulfilled at                   2209\n",
       "Accepts Marketing              2179\n",
       "Currency                       2179\n",
       "Subtotal                       2179\n",
       "Shipping                       2179\n",
       "Taxes                          2179\n",
       "Total                          2179\n",
       "Discount Code                  2382\n",
       "Discount Amount                2179\n",
       "Shipping Method                2189\n",
       "Created at                        0\n",
       "Lineitem quantity                 0\n",
       "Lineitem name                     0\n",
       "Lineitem price                    0\n",
       "Lineitem compare at price      2396\n",
       "Lineitem sku                     83\n",
       "Lineitem requires shipping        0\n",
       "Lineitem taxable                  0\n",
       "Lineitem fulfillment status       0\n",
       "Shipping City                  2187\n",
       "Shipping Zip                   2187\n",
       "Notes                          2366\n",
       "Note Attributes                2196\n",
       "Cancelled at                   2390\n",
       "Payment Method                 2179\n",
       "Payment Reference              2216\n",
       "Refunded Amount                2179\n",
       "Vendor                            8\n",
       "Id                             2179\n",
       "Tags                           2415\n",
       "Risk Level                     2179\n",
       "Source                         2179\n",
       "Lineitem discount                 0\n",
       "Tax 1 Name                     2413\n",
       "Tax 1 Value                    2413\n",
       "Tax 2 Name                     2419\n",
       "Tax 2 Value                    2419\n",
       "Tax 3 Name                     2419\n",
       "Tax 3 Value                    2419\n",
       "Tax 4 Name                     2419\n",
       "Tax 4 Value                    2419\n",
       "Tax 5 Name                     2419\n",
       "Tax 5 Value                    2419\n",
       "Phone                          2294\n",
       "Receipt Number                 2419\n",
       "dtype: int64"
      ]
     },
     "execution_count": 5,
     "metadata": {},
     "output_type": "execute_result"
    }
   ],
   "source": [
    "orders.isna().sum()"
   ]
  },
  {
   "cell_type": "markdown",
   "metadata": {},
   "source": [
    "Ok, so we have plenty of NaNs. We'll drop all 'Tax' related values except the #1 as there is no data in them. Also 'Receipt Number' has no values so we will also drop it."
   ]
  },
  {
   "cell_type": "code",
   "execution_count": 6,
   "metadata": {},
   "outputs": [],
   "source": [
    "orders.drop(columns=['Tax 2 Name', 'Tax 2 Value', 'Tax 3 Name', 'Tax 3 Value', 'Tax 4 Name', 'Tax 4 Value', 'Tax 5 Name', 'Tax 5 Value', 'Receipt Number'], inplace=True)"
   ]
  },
  {
   "cell_type": "markdown",
   "metadata": {},
   "source": [
    "The DB comes directly from a Shopify website. This means that the DB is structured as follows:\n",
    "* First row provides the information of the order and the first item in the order\n",
    "* The following rows provide information on the rest of items contained in the order\n",
    "\n",
    "This means that we should split this DB into two tables:\n",
    "\n",
    "1) Orders information\n",
    "\n",
    "2) Items information\n",
    "\n",
    "We could have a third table with customers information but we don't due to privacy issues."
   ]
  },
  {
   "cell_type": "code",
   "execution_count": 7,
   "metadata": {},
   "outputs": [
    {
     "data": {
      "text/plain": [
       "(240, 40)"
      ]
     },
     "execution_count": 7,
     "metadata": {},
     "output_type": "execute_result"
    }
   ],
   "source": [
    "orders.groupby('Created at').count().shape"
   ]
  },
  {
   "cell_type": "markdown",
   "metadata": {},
   "source": [
    "We have 240 different Timestamps, meaning that we actually have 240 orders, the empty data refers to specific information of the order. Actually, the 'Name' appears to be the ID of the orders."
   ]
  },
  {
   "cell_type": "code",
   "execution_count": 8,
   "metadata": {},
   "outputs": [
    {
     "data": {
      "text/plain": [
       "(240, 40)"
      ]
     },
     "execution_count": 8,
     "metadata": {},
     "output_type": "execute_result"
    }
   ],
   "source": [
    "orders.groupby('Name').count().shape"
   ]
  },
  {
   "cell_type": "markdown",
   "metadata": {},
   "source": [
    "We can see that there is unique information for the first row. This would be the general order information, which includes: \n",
    "\n",
    "    order_specific = ['Name', 'Customer', 'Financial Status', 'Paid at', 'Fulfillment Status', 'Fulfilled at', 'Accepts Marketing', 'Currency', 'Subtotal', 'Shipping', 'Taxes', 'Total', 'Discount Amount', 'Shipping Method', 'Shipping City', 'Shipping Zip', 'Note Attributes', 'Payment Method', 'Payment Reference', 'Refunded Amount', 'Id', 'Risk Level', 'Source', 'Discount Code','Notes', 'Cancelled at', 'Tags', 'Tax 1 Name', 'Tax 1 Value']\n",
    "\n",
    "   \n",
    "Other variables are clearly item-specific:\n",
    "\n",
    "     item_specific = ['Lineitem quantity', 'Lineitem name', 'Lineitem price', 'Lineitem sku', 'Lineitem requires shipping', 'Lineitem taxable', 'Lineitem fulfillment status', 'Lineitem compare at price']\n",
    "    \n",
    "\n",
    "We will now split the DataFrame as follows:\n",
    "* order_specific information\n",
    "* item_specific information\n",
    "\n",
    "To do that we need to reference both tables with some sort of Order Id"
   ]
  },
  {
   "cell_type": "markdown",
   "metadata": {},
   "source": [
    "## Splitting the dataframe"
   ]
  },
  {
   "cell_type": "markdown",
   "metadata": {},
   "source": [
    "To ease the understanding of the information we will split our dataframe in 2. The first will be order-specific and the second item-specific. This will help us to better structure the database, and clean each DF separately with a better undestanding of each variable."
   ]
  },
  {
   "cell_type": "code",
   "execution_count": 9,
   "metadata": {},
   "outputs": [
    {
     "data": {
      "text/plain": [
       "Index(['Name', 'Customer', 'Financial Status', 'Paid at', 'Fulfillment Status',\n",
       "       'Fulfilled at', 'Accepts Marketing', 'Currency', 'Subtotal', 'Shipping',\n",
       "       'Taxes', 'Total', 'Discount Code', 'Discount Amount', 'Shipping Method',\n",
       "       'Created at', 'Lineitem quantity', 'Lineitem name', 'Lineitem price',\n",
       "       'Lineitem compare at price', 'Lineitem sku',\n",
       "       'Lineitem requires shipping', 'Lineitem taxable',\n",
       "       'Lineitem fulfillment status', 'Shipping City', 'Shipping Zip', 'Notes',\n",
       "       'Note Attributes', 'Cancelled at', 'Payment Method',\n",
       "       'Payment Reference', 'Refunded Amount', 'Vendor', 'Id', 'Tags',\n",
       "       'Risk Level', 'Source', 'Lineitem discount', 'Tax 1 Name',\n",
       "       'Tax 1 Value', 'Phone'],\n",
       "      dtype='object')"
      ]
     },
     "execution_count": 9,
     "metadata": {},
     "output_type": "execute_result"
    }
   ],
   "source": [
    "orders.columns"
   ]
  },
  {
   "cell_type": "code",
   "execution_count": 10,
   "metadata": {},
   "outputs": [],
   "source": [
    "cols_order = ['Name', 'Customer', 'Financial Status', 'Paid at', 'Fulfillment Status', 'Fulfilled at', 'Accepts Marketing', 'Currency', 'Subtotal', 'Shipping', 'Taxes', 'Total', 'Discount Amount', 'Shipping Method', 'Shipping City', 'Shipping Zip', 'Note Attributes', 'Payment Method', 'Payment Reference', 'Refunded Amount', 'Id', 'Risk Level', 'Source', 'Discount Code','Notes', 'Cancelled at', 'Tags', 'Tax 1 Name', 'Tax 1 Value']\n",
    "order_specific = orders[cols_order]\n",
    "\n",
    "#note that we are including 'name' and 'id' to the item-specific dataframe so that this information is traceable to the specific order.\n",
    "cols_item = ['Name', 'Id', 'Lineitem quantity', 'Lineitem name', 'Lineitem price', 'Lineitem sku', 'Lineitem requires shipping', 'Lineitem taxable', 'Lineitem fulfillment status', 'Lineitem compare at price']\n",
    "item_specific = orders[cols_item]"
   ]
  },
  {
   "cell_type": "code",
   "execution_count": 11,
   "metadata": {},
   "outputs": [
    {
     "data": {
      "text/plain": [
       "Index(['Name', 'Customer', 'Financial Status', 'Paid at', 'Fulfillment Status',\n",
       "       'Fulfilled at', 'Accepts Marketing', 'Currency', 'Subtotal', 'Shipping',\n",
       "       'Taxes', 'Total', 'Discount Amount', 'Shipping Method', 'Shipping City',\n",
       "       'Shipping Zip', 'Note Attributes', 'Payment Method',\n",
       "       'Payment Reference', 'Refunded Amount', 'Id', 'Risk Level', 'Source',\n",
       "       'Discount Code', 'Notes', 'Cancelled at', 'Tags', 'Tax 1 Name',\n",
       "       'Tax 1 Value'],\n",
       "      dtype='object')"
      ]
     },
     "execution_count": 11,
     "metadata": {},
     "output_type": "execute_result"
    }
   ],
   "source": [
    "order_specific.columns"
   ]
  },
  {
   "cell_type": "code",
   "execution_count": 12,
   "metadata": {},
   "outputs": [
    {
     "data": {
      "text/plain": [
       "Index(['Name', 'Id', 'Lineitem quantity', 'Lineitem name', 'Lineitem price',\n",
       "       'Lineitem sku', 'Lineitem requires shipping', 'Lineitem taxable',\n",
       "       'Lineitem fulfillment status', 'Lineitem compare at price'],\n",
       "      dtype='object')"
      ]
     },
     "execution_count": 12,
     "metadata": {},
     "output_type": "execute_result"
    }
   ],
   "source": [
    "item_specific.columns"
   ]
  },
  {
   "cell_type": "markdown",
   "metadata": {},
   "source": [
    "## Load data to DB"
   ]
  },
  {
   "cell_type": "markdown",
   "metadata": {},
   "source": [
    "We now upoad the two tables to the SQL DB so we can use them for the next steps."
   ]
  },
  {
   "cell_type": "code",
   "execution_count": 13,
   "metadata": {},
   "outputs": [],
   "source": [
    "from sqlalchemy import create_engine\n",
    "\n",
    "\n",
    "driver = 'mysql+pymysql:'\n",
    "user = 'adria'\n",
    "password = '00000'\n",
    "ip = '35.187.114.125'\n",
    "database = 'vimet'\n",
    "\n",
    "connection_string = f'{driver}//{user}:{password}@{ip}/{database}'\n",
    "engine = create_engine(connection_string)"
   ]
  },
  {
   "cell_type": "code",
   "execution_count": 14,
   "metadata": {},
   "outputs": [],
   "source": [
    "order_specific.to_sql('orders', con = engine, if_exists='replace')\n",
    "item_specific.to_sql('items', con = engine, if_exists='replace')"
   ]
  }
 ],
 "metadata": {
  "kernelspec": {
   "display_name": "Python 3",
   "language": "python",
   "name": "python3"
  },
  "language_info": {
   "codemirror_mode": {
    "name": "ipython",
    "version": 3
   },
   "file_extension": ".py",
   "mimetype": "text/x-python",
   "name": "python",
   "nbconvert_exporter": "python",
   "pygments_lexer": "ipython3",
   "version": "3.7.2"
  }
 },
 "nbformat": 4,
 "nbformat_minor": 2
}
