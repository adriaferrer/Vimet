{
 "cells": [
  {
   "cell_type": "markdown",
   "metadata": {},
   "source": [
    "## Cleaning order-specific data"
   ]
  },
  {
   "cell_type": "code",
   "execution_count": 1,
   "metadata": {},
   "outputs": [],
   "source": [
    "import pandas as pd\n",
    "from sqlalchemy import create_engine\n",
    "\n",
    "\n",
    "driver = 'mysql+pymysql:'\n",
    "user = 'adria'\n",
    "password = '00000'\n",
    "ip = '35.187.114.125'\n",
    "database = 'vimet'\n",
    "\n",
    "connection_string = f'{driver}//{user}:{password}@{ip}/{database}'\n",
    "engine = create_engine(connection_string)"
   ]
  },
  {
   "cell_type": "code",
   "execution_count": 2,
   "metadata": {},
   "outputs": [],
   "source": [
    "orders_raw = pd.read_sql('orders', con = engine)"
   ]
  },
  {
   "cell_type": "code",
   "execution_count": 3,
   "metadata": {
    "scrolled": true
   },
   "outputs": [
    {
     "data": {
      "text/html": [
       "<div>\n",
       "<style scoped>\n",
       "    .dataframe tbody tr th:only-of-type {\n",
       "        vertical-align: middle;\n",
       "    }\n",
       "\n",
       "    .dataframe tbody tr th {\n",
       "        vertical-align: top;\n",
       "    }\n",
       "\n",
       "    .dataframe thead th {\n",
       "        text-align: right;\n",
       "    }\n",
       "</style>\n",
       "<table border=\"1\" class=\"dataframe\">\n",
       "  <thead>\n",
       "    <tr style=\"text-align: right;\">\n",
       "      <th></th>\n",
       "      <th>index</th>\n",
       "      <th>Name</th>\n",
       "      <th>Customer</th>\n",
       "      <th>Financial Status</th>\n",
       "      <th>Paid at</th>\n",
       "      <th>Fulfillment Status</th>\n",
       "      <th>Fulfilled at</th>\n",
       "      <th>Accepts Marketing</th>\n",
       "      <th>Currency</th>\n",
       "      <th>Subtotal</th>\n",
       "      <th>...</th>\n",
       "      <th>Refunded Amount</th>\n",
       "      <th>Id</th>\n",
       "      <th>Risk Level</th>\n",
       "      <th>Source</th>\n",
       "      <th>Discount Code</th>\n",
       "      <th>Notes</th>\n",
       "      <th>Cancelled at</th>\n",
       "      <th>Tags</th>\n",
       "      <th>Tax 1 Name</th>\n",
       "      <th>Tax 1 Value</th>\n",
       "    </tr>\n",
       "  </thead>\n",
       "  <tbody>\n",
       "    <tr>\n",
       "      <th>0</th>\n",
       "      <td>0</td>\n",
       "      <td>#1247</td>\n",
       "      <td>1.0</td>\n",
       "      <td>paid</td>\n",
       "      <td>2019-04-16 18:36:20 +0200</td>\n",
       "      <td>fulfilled</td>\n",
       "      <td>2019-04-16 23:30:49 +0200</td>\n",
       "      <td>yes</td>\n",
       "      <td>EUR</td>\n",
       "      <td>59.0</td>\n",
       "      <td>...</td>\n",
       "      <td>0.0</td>\n",
       "      <td>8.925310e+11</td>\n",
       "      <td>Low</td>\n",
       "      <td>web</td>\n",
       "      <td>None</td>\n",
       "      <td>None</td>\n",
       "      <td>None</td>\n",
       "      <td>None</td>\n",
       "      <td>None</td>\n",
       "      <td>NaN</td>\n",
       "    </tr>\n",
       "    <tr>\n",
       "      <th>1</th>\n",
       "      <td>1</td>\n",
       "      <td>#1246</td>\n",
       "      <td>2.0</td>\n",
       "      <td>paid</td>\n",
       "      <td>2019-04-16 02:05:29 +0200</td>\n",
       "      <td>unfulfilled</td>\n",
       "      <td>None</td>\n",
       "      <td>yes</td>\n",
       "      <td>EUR</td>\n",
       "      <td>94.0</td>\n",
       "      <td>...</td>\n",
       "      <td>0.0</td>\n",
       "      <td>8.918520e+11</td>\n",
       "      <td>Low</td>\n",
       "      <td>web</td>\n",
       "      <td>None</td>\n",
       "      <td>None</td>\n",
       "      <td>None</td>\n",
       "      <td>None</td>\n",
       "      <td>None</td>\n",
       "      <td>NaN</td>\n",
       "    </tr>\n",
       "    <tr>\n",
       "      <th>2</th>\n",
       "      <td>2</td>\n",
       "      <td>#1246</td>\n",
       "      <td>2.0</td>\n",
       "      <td>None</td>\n",
       "      <td>None</td>\n",
       "      <td>None</td>\n",
       "      <td>None</td>\n",
       "      <td>None</td>\n",
       "      <td>None</td>\n",
       "      <td>NaN</td>\n",
       "      <td>...</td>\n",
       "      <td>NaN</td>\n",
       "      <td>NaN</td>\n",
       "      <td>None</td>\n",
       "      <td>None</td>\n",
       "      <td>None</td>\n",
       "      <td>None</td>\n",
       "      <td>None</td>\n",
       "      <td>None</td>\n",
       "      <td>None</td>\n",
       "      <td>NaN</td>\n",
       "    </tr>\n",
       "    <tr>\n",
       "      <th>3</th>\n",
       "      <td>3</td>\n",
       "      <td>#1245</td>\n",
       "      <td>3.0</td>\n",
       "      <td>paid</td>\n",
       "      <td>2019-04-15 23:35:10 +0200</td>\n",
       "      <td>fulfilled</td>\n",
       "      <td>2019-04-16 09:00:25 +0200</td>\n",
       "      <td>yes</td>\n",
       "      <td>EUR</td>\n",
       "      <td>32.5</td>\n",
       "      <td>...</td>\n",
       "      <td>0.0</td>\n",
       "      <td>8.917250e+11</td>\n",
       "      <td>Low</td>\n",
       "      <td>web</td>\n",
       "      <td>None</td>\n",
       "      <td>None</td>\n",
       "      <td>None</td>\n",
       "      <td>None</td>\n",
       "      <td>None</td>\n",
       "      <td>NaN</td>\n",
       "    </tr>\n",
       "    <tr>\n",
       "      <th>4</th>\n",
       "      <td>4</td>\n",
       "      <td>#1244</td>\n",
       "      <td>4.0</td>\n",
       "      <td>paid</td>\n",
       "      <td>2019-04-15 09:51:49 +0200</td>\n",
       "      <td>fulfilled</td>\n",
       "      <td>2019-04-15 23:47:18 +0200</td>\n",
       "      <td>yes</td>\n",
       "      <td>EUR</td>\n",
       "      <td>45.0</td>\n",
       "      <td>...</td>\n",
       "      <td>0.0</td>\n",
       "      <td>8.910100e+11</td>\n",
       "      <td>Low</td>\n",
       "      <td>web</td>\n",
       "      <td>None</td>\n",
       "      <td>None</td>\n",
       "      <td>None</td>\n",
       "      <td>None</td>\n",
       "      <td>None</td>\n",
       "      <td>NaN</td>\n",
       "    </tr>\n",
       "  </tbody>\n",
       "</table>\n",
       "<p>5 rows × 30 columns</p>\n",
       "</div>"
      ],
      "text/plain": [
       "   index   Name  Customer Financial Status                    Paid at  \\\n",
       "0      0  #1247       1.0             paid  2019-04-16 18:36:20 +0200   \n",
       "1      1  #1246       2.0             paid  2019-04-16 02:05:29 +0200   \n",
       "2      2  #1246       2.0             None                       None   \n",
       "3      3  #1245       3.0             paid  2019-04-15 23:35:10 +0200   \n",
       "4      4  #1244       4.0             paid  2019-04-15 09:51:49 +0200   \n",
       "\n",
       "  Fulfillment Status               Fulfilled at Accepts Marketing Currency  \\\n",
       "0          fulfilled  2019-04-16 23:30:49 +0200               yes      EUR   \n",
       "1        unfulfilled                       None               yes      EUR   \n",
       "2               None                       None              None     None   \n",
       "3          fulfilled  2019-04-16 09:00:25 +0200               yes      EUR   \n",
       "4          fulfilled  2019-04-15 23:47:18 +0200               yes      EUR   \n",
       "\n",
       "   Subtotal  ...  Refunded Amount            Id  Risk Level  Source  \\\n",
       "0      59.0  ...              0.0  8.925310e+11         Low     web   \n",
       "1      94.0  ...              0.0  8.918520e+11         Low     web   \n",
       "2       NaN  ...              NaN           NaN        None    None   \n",
       "3      32.5  ...              0.0  8.917250e+11         Low     web   \n",
       "4      45.0  ...              0.0  8.910100e+11         Low     web   \n",
       "\n",
       "  Discount Code Notes Cancelled at  Tags Tax 1 Name Tax 1 Value  \n",
       "0          None  None         None  None       None         NaN  \n",
       "1          None  None         None  None       None         NaN  \n",
       "2          None  None         None  None       None         NaN  \n",
       "3          None  None         None  None       None         NaN  \n",
       "4          None  None         None  None       None         NaN  \n",
       "\n",
       "[5 rows x 30 columns]"
      ]
     },
     "execution_count": 3,
     "metadata": {},
     "output_type": "execute_result"
    }
   ],
   "source": [
    "orders_raw.head()"
   ]
  },
  {
   "cell_type": "markdown",
   "metadata": {},
   "source": [
    "We have the order-specific info but we have a lot of Nan values corresponding to the rows that only provide item-specific info. Therefore we will keep only the first row of each order."
   ]
  },
  {
   "cell_type": "code",
   "execution_count": 4,
   "metadata": {},
   "outputs": [],
   "source": [
    "orders = pd.DataFrame()\n",
    "for order in list(orders_raw['Name'].unique()):\n",
    "    orders = orders.append(orders_raw[orders_raw['Name']==order].head(1))"
   ]
  },
  {
   "cell_type": "code",
   "execution_count": 5,
   "metadata": {},
   "outputs": [
    {
     "data": {
      "text/plain": [
       "index                   0\n",
       "Name                    0\n",
       "Customer                2\n",
       "Financial Status        0\n",
       "Paid at                81\n",
       "Fulfillment Status      0\n",
       "Fulfilled at           30\n",
       "Accepts Marketing       0\n",
       "Currency                0\n",
       "Subtotal                0\n",
       "Shipping                0\n",
       "Taxes                   0\n",
       "Total                   0\n",
       "Discount Amount         0\n",
       "Shipping Method        10\n",
       "Shipping City           8\n",
       "Shipping Zip            8\n",
       "Note Attributes        17\n",
       "Payment Method          0\n",
       "Payment Reference      37\n",
       "Refunded Amount         0\n",
       "Id                      0\n",
       "Risk Level              0\n",
       "Source                  0\n",
       "Discount Code         203\n",
       "Notes                 187\n",
       "Cancelled at          211\n",
       "Tags                  236\n",
       "Tax 1 Name            234\n",
       "Tax 1 Value           234\n",
       "dtype: int64"
      ]
     },
     "execution_count": 5,
     "metadata": {},
     "output_type": "execute_result"
    }
   ],
   "source": [
    "orders.isna().sum()"
   ]
  },
  {
   "cell_type": "markdown",
   "metadata": {},
   "source": [
    "We can see that:\n",
    "* 'Customer': There is no customer for 2 of the orders\n",
    "* 'Paid at': 81 orders were not registered as paid\n",
    "* 'Fullfilled at': 30 orders were not fulfilled\n",
    "* 'Shipping method': 10 orders do not have shipping method\n",
    "* 'Shipping city' and 'Billing zip': 8 orders do not have Billing city nor Billing Zip\n",
    "* 'Shipping country': 7 orders do not have Billing country\n",
    "* 'Note attributes': 17 orders do not have Note Attributes\n",
    "* 'Payment reference': 37 orders do not have a payment reference\n",
    "* 'Discount Code': 203 orders do not have a discout code\n",
    "* 'Notes': 187 orders do not have notes\n",
    "* 'Cancelled at': 211 orders were not cancelled\n",
    "* 'Tags': 236 orders do not have tags\n",
    "* 'Tax Name' and 'Tax Value': 234 orders do not have tax information\n",
    "\n",
    "We will now analyse each of the variables with NaN values to correct this issue."
   ]
  },
  {
   "cell_type": "markdown",
   "metadata": {},
   "source": [
    "## Solving NaN values"
   ]
  },
  {
   "cell_type": "markdown",
   "metadata": {},
   "source": [
    "#### Dropping values"
   ]
  },
  {
   "cell_type": "markdown",
   "metadata": {},
   "source": [
    "We will drop the following variables as do not provide relevant information for the analysis:\n",
    "\n",
    "'Paid at', 'Fullfilled at', 'Billing Country', 'Note Attributes', 'Payment Reference', 'Cancelled at', 'Tags', 'Tax 1 Name', 'Tax 1 Value'"
   ]
  },
  {
   "cell_type": "code",
   "execution_count": 6,
   "metadata": {},
   "outputs": [],
   "source": [
    "orders = orders.drop(columns=['Paid at', 'Fulfilled at', 'Note Attributes', 'Payment Reference', 'Cancelled at', 'Tags', 'Tax 1 Name', 'Tax 1 Value'])\n"
   ]
  },
  {
   "cell_type": "code",
   "execution_count": 7,
   "metadata": {},
   "outputs": [
    {
     "data": {
      "text/plain": [
       "index                   0\n",
       "Name                    0\n",
       "Customer                2\n",
       "Financial Status        0\n",
       "Fulfillment Status      0\n",
       "Accepts Marketing       0\n",
       "Currency                0\n",
       "Subtotal                0\n",
       "Shipping                0\n",
       "Taxes                   0\n",
       "Total                   0\n",
       "Discount Amount         0\n",
       "Shipping Method        10\n",
       "Shipping City           8\n",
       "Shipping Zip            8\n",
       "Payment Method          0\n",
       "Refunded Amount         0\n",
       "Id                      0\n",
       "Risk Level              0\n",
       "Source                  0\n",
       "Discount Code         203\n",
       "Notes                 187\n",
       "dtype: int64"
      ]
     },
     "execution_count": 7,
     "metadata": {},
     "output_type": "execute_result"
    }
   ],
   "source": [
    "#We check the status of the NaN values\n",
    "orders.isna().sum()"
   ]
  },
  {
   "cell_type": "markdown",
   "metadata": {},
   "source": [
    "We don't care about the discount code but we do care whether there was a discount or not."
   ]
  },
  {
   "cell_type": "code",
   "execution_count": 8,
   "metadata": {},
   "outputs": [],
   "source": [
    "orders['Discount Code'] = orders['Discount Code'].fillna(value=0)"
   ]
  },
  {
   "cell_type": "code",
   "execution_count": 9,
   "metadata": {},
   "outputs": [],
   "source": [
    "orders['Discount Code'] = orders['Discount Code'].map(lambda x: 0 if x==0 else 1)"
   ]
  },
  {
   "cell_type": "markdown",
   "metadata": {},
   "source": [
    "We need to analyse 'Notes' as it will identify test records"
   ]
  },
  {
   "cell_type": "code",
   "execution_count": 10,
   "metadata": {},
   "outputs": [],
   "source": [
    "orders['Notes'] = orders['Notes'].fillna(value='None')\n",
    "orders['Notes'] = orders['Notes'].map(lambda x: 'test' if 'prueba' in x else ('test' if 'prova' in x else ('test' if 'Hola' in x else ('test' if 'fdfsdfsdf' in x else ('test' if 'wqweqwe' in x else ('test' if 'hohsadasdasd' in x else ('test' if 'fsdfsfsd' in x else ('test' if 'hola mundo' in x else x))))))))\n"
   ]
  },
  {
   "cell_type": "markdown",
   "metadata": {},
   "source": [
    "We now remove all test records"
   ]
  },
  {
   "cell_type": "code",
   "execution_count": 11,
   "metadata": {},
   "outputs": [],
   "source": [
    "orders = orders[orders['Notes'] != 'test']"
   ]
  },
  {
   "cell_type": "code",
   "execution_count": 12,
   "metadata": {},
   "outputs": [
    {
     "data": {
      "text/plain": [
       "index                  0\n",
       "Name                   0\n",
       "Customer               2\n",
       "Financial Status       0\n",
       "Fulfillment Status     0\n",
       "Accepts Marketing      0\n",
       "Currency               0\n",
       "Subtotal               0\n",
       "Shipping               0\n",
       "Taxes                  0\n",
       "Total                  0\n",
       "Discount Amount        0\n",
       "Shipping Method       10\n",
       "Shipping City          8\n",
       "Shipping Zip           8\n",
       "Payment Method         0\n",
       "Refunded Amount        0\n",
       "Id                     0\n",
       "Risk Level             0\n",
       "Source                 0\n",
       "Discount Code          0\n",
       "Notes                  0\n",
       "dtype: int64"
      ]
     },
     "execution_count": 12,
     "metadata": {},
     "output_type": "execute_result"
    }
   ],
   "source": [
    "#We check the status of the NaN values\n",
    "orders.isna().sum()"
   ]
  },
  {
   "cell_type": "code",
   "execution_count": 13,
   "metadata": {},
   "outputs": [
    {
     "data": {
      "text/plain": [
       "Envío estándar                              135\n",
       "Envío gratuito                               52\n",
       "Recogida en el mercado                       21\n",
       "El reparto se realiza a través de Shargo      4\n",
       "Name: Shipping Method, dtype: int64"
      ]
     },
     "execution_count": 13,
     "metadata": {},
     "output_type": "execute_result"
    }
   ],
   "source": [
    "orders['Shipping Method'].value_counts()"
   ]
  },
  {
   "cell_type": "markdown",
   "metadata": {},
   "source": [
    "When 'Shipping Method' is NaN, it means that it is delivered by one of the employees. We will fill NaNs with 'Other'"
   ]
  },
  {
   "cell_type": "code",
   "execution_count": 14,
   "metadata": {},
   "outputs": [],
   "source": [
    "orders['Shipping Method'] = orders['Shipping Method'].fillna(value='Other')"
   ]
  },
  {
   "cell_type": "code",
   "execution_count": 15,
   "metadata": {},
   "outputs": [
    {
     "data": {
      "text/plain": [
       "index                 0\n",
       "Name                  0\n",
       "Customer              2\n",
       "Financial Status      0\n",
       "Fulfillment Status    0\n",
       "Accepts Marketing     0\n",
       "Currency              0\n",
       "Subtotal              0\n",
       "Shipping              0\n",
       "Taxes                 0\n",
       "Total                 0\n",
       "Discount Amount       0\n",
       "Shipping Method       0\n",
       "Shipping City         8\n",
       "Shipping Zip          8\n",
       "Payment Method        0\n",
       "Refunded Amount       0\n",
       "Id                    0\n",
       "Risk Level            0\n",
       "Source                0\n",
       "Discount Code         0\n",
       "Notes                 0\n",
       "dtype: int64"
      ]
     },
     "execution_count": 15,
     "metadata": {},
     "output_type": "execute_result"
    }
   ],
   "source": [
    "#We check the status of the NaN values\n",
    "orders.isna().sum()"
   ]
  },
  {
   "cell_type": "code",
   "execution_count": 16,
   "metadata": {},
   "outputs": [
    {
     "data": {
      "text/html": [
       "<div>\n",
       "<style scoped>\n",
       "    .dataframe tbody tr th:only-of-type {\n",
       "        vertical-align: middle;\n",
       "    }\n",
       "\n",
       "    .dataframe tbody tr th {\n",
       "        vertical-align: top;\n",
       "    }\n",
       "\n",
       "    .dataframe thead th {\n",
       "        text-align: right;\n",
       "    }\n",
       "</style>\n",
       "<table border=\"1\" class=\"dataframe\">\n",
       "  <thead>\n",
       "    <tr style=\"text-align: right;\">\n",
       "      <th></th>\n",
       "      <th>index</th>\n",
       "      <th>Name</th>\n",
       "      <th>Customer</th>\n",
       "      <th>Financial Status</th>\n",
       "      <th>Fulfillment Status</th>\n",
       "      <th>Accepts Marketing</th>\n",
       "      <th>Currency</th>\n",
       "      <th>Subtotal</th>\n",
       "      <th>Shipping</th>\n",
       "      <th>Taxes</th>\n",
       "      <th>...</th>\n",
       "      <th>Shipping Method</th>\n",
       "      <th>Shipping City</th>\n",
       "      <th>Shipping Zip</th>\n",
       "      <th>Payment Method</th>\n",
       "      <th>Refunded Amount</th>\n",
       "      <th>Id</th>\n",
       "      <th>Risk Level</th>\n",
       "      <th>Source</th>\n",
       "      <th>Discount Code</th>\n",
       "      <th>Notes</th>\n",
       "    </tr>\n",
       "  </thead>\n",
       "  <tbody>\n",
       "    <tr>\n",
       "      <th>9</th>\n",
       "      <td>9</td>\n",
       "      <td>#1241</td>\n",
       "      <td>0.0</td>\n",
       "      <td>paid</td>\n",
       "      <td>fulfilled</td>\n",
       "      <td>no</td>\n",
       "      <td>EUR</td>\n",
       "      <td>38.94</td>\n",
       "      <td>0.0</td>\n",
       "      <td>0.0</td>\n",
       "      <td>...</td>\n",
       "      <td>Other</td>\n",
       "      <td>None</td>\n",
       "      <td>None</td>\n",
       "      <td>manual</td>\n",
       "      <td>0.0</td>\n",
       "      <td>8.865550e+11</td>\n",
       "      <td>Low</td>\n",
       "      <td>shopify_draft_order</td>\n",
       "      <td>0</td>\n",
       "      <td>None</td>\n",
       "    </tr>\n",
       "    <tr>\n",
       "      <th>28</th>\n",
       "      <td>28</td>\n",
       "      <td>#1231</td>\n",
       "      <td>0.0</td>\n",
       "      <td>paid</td>\n",
       "      <td>fulfilled</td>\n",
       "      <td>no</td>\n",
       "      <td>EUR</td>\n",
       "      <td>200.10</td>\n",
       "      <td>0.0</td>\n",
       "      <td>0.0</td>\n",
       "      <td>...</td>\n",
       "      <td>Other</td>\n",
       "      <td>None</td>\n",
       "      <td>None</td>\n",
       "      <td>manual</td>\n",
       "      <td>0.0</td>\n",
       "      <td>8.788850e+11</td>\n",
       "      <td>Low</td>\n",
       "      <td>shopify_draft_order</td>\n",
       "      <td>0</td>\n",
       "      <td>A entregar 6 de abril</td>\n",
       "    </tr>\n",
       "    <tr>\n",
       "      <th>40</th>\n",
       "      <td>40</td>\n",
       "      <td>#1228</td>\n",
       "      <td>0.0</td>\n",
       "      <td>paid</td>\n",
       "      <td>fulfilled</td>\n",
       "      <td>no</td>\n",
       "      <td>EUR</td>\n",
       "      <td>54.50</td>\n",
       "      <td>0.0</td>\n",
       "      <td>0.0</td>\n",
       "      <td>...</td>\n",
       "      <td>Other</td>\n",
       "      <td>None</td>\n",
       "      <td>None</td>\n",
       "      <td>manual</td>\n",
       "      <td>0.0</td>\n",
       "      <td>8.776710e+11</td>\n",
       "      <td>Low</td>\n",
       "      <td>shopify_draft_order</td>\n",
       "      <td>0</td>\n",
       "      <td>None</td>\n",
       "    </tr>\n",
       "    <tr>\n",
       "      <th>50</th>\n",
       "      <td>50</td>\n",
       "      <td>#1224</td>\n",
       "      <td>0.0</td>\n",
       "      <td>paid</td>\n",
       "      <td>fulfilled</td>\n",
       "      <td>no</td>\n",
       "      <td>EUR</td>\n",
       "      <td>26.16</td>\n",
       "      <td>0.0</td>\n",
       "      <td>0.0</td>\n",
       "      <td>...</td>\n",
       "      <td>Other</td>\n",
       "      <td>None</td>\n",
       "      <td>None</td>\n",
       "      <td>manual</td>\n",
       "      <td>0.0</td>\n",
       "      <td>8.739650e+11</td>\n",
       "      <td>Low</td>\n",
       "      <td>shopify_draft_order</td>\n",
       "      <td>0</td>\n",
       "      <td>None</td>\n",
       "    </tr>\n",
       "    <tr>\n",
       "      <th>51</th>\n",
       "      <td>51</td>\n",
       "      <td>#1223</td>\n",
       "      <td>0.0</td>\n",
       "      <td>paid</td>\n",
       "      <td>fulfilled</td>\n",
       "      <td>no</td>\n",
       "      <td>EUR</td>\n",
       "      <td>40.94</td>\n",
       "      <td>0.0</td>\n",
       "      <td>0.0</td>\n",
       "      <td>...</td>\n",
       "      <td>Other</td>\n",
       "      <td>None</td>\n",
       "      <td>None</td>\n",
       "      <td>manual</td>\n",
       "      <td>0.0</td>\n",
       "      <td>8.700700e+11</td>\n",
       "      <td>Low</td>\n",
       "      <td>shopify_draft_order</td>\n",
       "      <td>0</td>\n",
       "      <td>None</td>\n",
       "    </tr>\n",
       "    <tr>\n",
       "      <th>73</th>\n",
       "      <td>73</td>\n",
       "      <td>#1214</td>\n",
       "      <td>0.0</td>\n",
       "      <td>paid</td>\n",
       "      <td>fulfilled</td>\n",
       "      <td>no</td>\n",
       "      <td>EUR</td>\n",
       "      <td>51.15</td>\n",
       "      <td>0.0</td>\n",
       "      <td>0.0</td>\n",
       "      <td>...</td>\n",
       "      <td>Other</td>\n",
       "      <td>None</td>\n",
       "      <td>None</td>\n",
       "      <td>manual</td>\n",
       "      <td>0.0</td>\n",
       "      <td>8.617570e+11</td>\n",
       "      <td>Low</td>\n",
       "      <td>shopify_draft_order</td>\n",
       "      <td>0</td>\n",
       "      <td>None</td>\n",
       "    </tr>\n",
       "    <tr>\n",
       "      <th>501</th>\n",
       "      <td>501</td>\n",
       "      <td>#1155</td>\n",
       "      <td>NaN</td>\n",
       "      <td>paid</td>\n",
       "      <td>fulfilled</td>\n",
       "      <td>yes</td>\n",
       "      <td>EUR</td>\n",
       "      <td>25.00</td>\n",
       "      <td>0.0</td>\n",
       "      <td>0.0</td>\n",
       "      <td>...</td>\n",
       "      <td>Other</td>\n",
       "      <td>None</td>\n",
       "      <td>None</td>\n",
       "      <td>Stripe</td>\n",
       "      <td>0.0</td>\n",
       "      <td>7.481810e+11</td>\n",
       "      <td>Low</td>\n",
       "      <td>web</td>\n",
       "      <td>0</td>\n",
       "      <td>None</td>\n",
       "    </tr>\n",
       "    <tr>\n",
       "      <th>502</th>\n",
       "      <td>502</td>\n",
       "      <td>#1154</td>\n",
       "      <td>NaN</td>\n",
       "      <td>paid</td>\n",
       "      <td>fulfilled</td>\n",
       "      <td>yes</td>\n",
       "      <td>EUR</td>\n",
       "      <td>50.00</td>\n",
       "      <td>0.0</td>\n",
       "      <td>0.0</td>\n",
       "      <td>...</td>\n",
       "      <td>Other</td>\n",
       "      <td>None</td>\n",
       "      <td>None</td>\n",
       "      <td>Stripe</td>\n",
       "      <td>0.0</td>\n",
       "      <td>7.475270e+11</td>\n",
       "      <td>Low</td>\n",
       "      <td>web</td>\n",
       "      <td>0</td>\n",
       "      <td>None</td>\n",
       "    </tr>\n",
       "  </tbody>\n",
       "</table>\n",
       "<p>8 rows × 22 columns</p>\n",
       "</div>"
      ],
      "text/plain": [
       "     index   Name  Customer Financial Status Fulfillment Status  \\\n",
       "9        9  #1241       0.0             paid          fulfilled   \n",
       "28      28  #1231       0.0             paid          fulfilled   \n",
       "40      40  #1228       0.0             paid          fulfilled   \n",
       "50      50  #1224       0.0             paid          fulfilled   \n",
       "51      51  #1223       0.0             paid          fulfilled   \n",
       "73      73  #1214       0.0             paid          fulfilled   \n",
       "501    501  #1155       NaN             paid          fulfilled   \n",
       "502    502  #1154       NaN             paid          fulfilled   \n",
       "\n",
       "    Accepts Marketing Currency  Subtotal  Shipping  Taxes  ...  \\\n",
       "9                  no      EUR     38.94       0.0    0.0  ...   \n",
       "28                 no      EUR    200.10       0.0    0.0  ...   \n",
       "40                 no      EUR     54.50       0.0    0.0  ...   \n",
       "50                 no      EUR     26.16       0.0    0.0  ...   \n",
       "51                 no      EUR     40.94       0.0    0.0  ...   \n",
       "73                 no      EUR     51.15       0.0    0.0  ...   \n",
       "501               yes      EUR     25.00       0.0    0.0  ...   \n",
       "502               yes      EUR     50.00       0.0    0.0  ...   \n",
       "\n",
       "     Shipping Method  Shipping City Shipping Zip Payment Method  \\\n",
       "9              Other           None         None         manual   \n",
       "28             Other           None         None         manual   \n",
       "40             Other           None         None         manual   \n",
       "50             Other           None         None         manual   \n",
       "51             Other           None         None         manual   \n",
       "73             Other           None         None         manual   \n",
       "501            Other           None         None         Stripe   \n",
       "502            Other           None         None         Stripe   \n",
       "\n",
       "    Refunded Amount            Id  Risk Level               Source  \\\n",
       "9               0.0  8.865550e+11         Low  shopify_draft_order   \n",
       "28              0.0  8.788850e+11         Low  shopify_draft_order   \n",
       "40              0.0  8.776710e+11         Low  shopify_draft_order   \n",
       "50              0.0  8.739650e+11         Low  shopify_draft_order   \n",
       "51              0.0  8.700700e+11         Low  shopify_draft_order   \n",
       "73              0.0  8.617570e+11         Low  shopify_draft_order   \n",
       "501             0.0  7.481810e+11         Low                  web   \n",
       "502             0.0  7.475270e+11         Low                  web   \n",
       "\n",
       "    Discount Code                  Notes  \n",
       "9               0                   None  \n",
       "28              0  A entregar 6 de abril  \n",
       "40              0                   None  \n",
       "50              0                   None  \n",
       "51              0                   None  \n",
       "73              0                   None  \n",
       "501             0                   None  \n",
       "502             0                   None  \n",
       "\n",
       "[8 rows x 22 columns]"
      ]
     },
     "execution_count": 16,
     "metadata": {},
     "output_type": "execute_result"
    }
   ],
   "source": [
    "orders[orders['Shipping City'].isna()]"
   ]
  },
  {
   "cell_type": "markdown",
   "metadata": {},
   "source": [
    "In almost all cases, when the order is delivered by an employee, the Shipping City and Zip are null. We will replace this with 'Unknown'."
   ]
  },
  {
   "cell_type": "code",
   "execution_count": 17,
   "metadata": {},
   "outputs": [],
   "source": [
    "orders['Shipping City'] = orders['Shipping City'].fillna(value='Unknown')\n",
    "orders['Shipping Zip'] = orders['Shipping Zip'].fillna(value='Unknown')"
   ]
  },
  {
   "cell_type": "code",
   "execution_count": 18,
   "metadata": {},
   "outputs": [
    {
     "data": {
      "text/plain": [
       "index                 0\n",
       "Name                  0\n",
       "Customer              2\n",
       "Financial Status      0\n",
       "Fulfillment Status    0\n",
       "Accepts Marketing     0\n",
       "Currency              0\n",
       "Subtotal              0\n",
       "Shipping              0\n",
       "Taxes                 0\n",
       "Total                 0\n",
       "Discount Amount       0\n",
       "Shipping Method       0\n",
       "Shipping City         0\n",
       "Shipping Zip          0\n",
       "Payment Method        0\n",
       "Refunded Amount       0\n",
       "Id                    0\n",
       "Risk Level            0\n",
       "Source                0\n",
       "Discount Code         0\n",
       "Notes                 0\n",
       "dtype: int64"
      ]
     },
     "execution_count": 18,
     "metadata": {},
     "output_type": "execute_result"
    }
   ],
   "source": [
    "#We check the status of the NaN values\n",
    "orders.isna().sum()"
   ]
  },
  {
   "cell_type": "markdown",
   "metadata": {},
   "source": [
    "We solved all the Nan values issues."
   ]
  },
  {
   "cell_type": "markdown",
   "metadata": {},
   "source": [
    "### Order-specific data: Data cleaning"
   ]
  },
  {
   "cell_type": "markdown",
   "metadata": {},
   "source": [
    "Now we don't have NaN values but we need to check the content of the variables in order to clean it."
   ]
  },
  {
   "cell_type": "code",
   "execution_count": 19,
   "metadata": {},
   "outputs": [
    {
     "data": {
      "text/html": [
       "<div>\n",
       "<style scoped>\n",
       "    .dataframe tbody tr th:only-of-type {\n",
       "        vertical-align: middle;\n",
       "    }\n",
       "\n",
       "    .dataframe tbody tr th {\n",
       "        vertical-align: top;\n",
       "    }\n",
       "\n",
       "    .dataframe thead th {\n",
       "        text-align: right;\n",
       "    }\n",
       "</style>\n",
       "<table border=\"1\" class=\"dataframe\">\n",
       "  <thead>\n",
       "    <tr style=\"text-align: right;\">\n",
       "      <th></th>\n",
       "      <th>index</th>\n",
       "      <th>Name</th>\n",
       "      <th>Customer</th>\n",
       "      <th>Financial Status</th>\n",
       "      <th>Fulfillment Status</th>\n",
       "      <th>Accepts Marketing</th>\n",
       "      <th>Currency</th>\n",
       "      <th>Subtotal</th>\n",
       "      <th>Shipping</th>\n",
       "      <th>Taxes</th>\n",
       "      <th>...</th>\n",
       "      <th>Shipping Method</th>\n",
       "      <th>Shipping City</th>\n",
       "      <th>Shipping Zip</th>\n",
       "      <th>Payment Method</th>\n",
       "      <th>Refunded Amount</th>\n",
       "      <th>Id</th>\n",
       "      <th>Risk Level</th>\n",
       "      <th>Source</th>\n",
       "      <th>Discount Code</th>\n",
       "      <th>Notes</th>\n",
       "    </tr>\n",
       "  </thead>\n",
       "  <tbody>\n",
       "    <tr>\n",
       "      <th>0</th>\n",
       "      <td>0</td>\n",
       "      <td>#1247</td>\n",
       "      <td>1.0</td>\n",
       "      <td>paid</td>\n",
       "      <td>fulfilled</td>\n",
       "      <td>yes</td>\n",
       "      <td>EUR</td>\n",
       "      <td>59.0</td>\n",
       "      <td>4.9</td>\n",
       "      <td>0.0</td>\n",
       "      <td>...</td>\n",
       "      <td>Envío estándar</td>\n",
       "      <td>Barcelona</td>\n",
       "      <td>'08041</td>\n",
       "      <td>Stripe</td>\n",
       "      <td>0.0</td>\n",
       "      <td>8.925310e+11</td>\n",
       "      <td>Low</td>\n",
       "      <td>web</td>\n",
       "      <td>0</td>\n",
       "      <td>None</td>\n",
       "    </tr>\n",
       "    <tr>\n",
       "      <th>1</th>\n",
       "      <td>1</td>\n",
       "      <td>#1246</td>\n",
       "      <td>2.0</td>\n",
       "      <td>paid</td>\n",
       "      <td>unfulfilled</td>\n",
       "      <td>yes</td>\n",
       "      <td>EUR</td>\n",
       "      <td>94.0</td>\n",
       "      <td>0.0</td>\n",
       "      <td>0.0</td>\n",
       "      <td>...</td>\n",
       "      <td>Envío gratuito</td>\n",
       "      <td>Barcelona</td>\n",
       "      <td>'08003</td>\n",
       "      <td>Stripe</td>\n",
       "      <td>0.0</td>\n",
       "      <td>8.918520e+11</td>\n",
       "      <td>Low</td>\n",
       "      <td>web</td>\n",
       "      <td>0</td>\n",
       "      <td>None</td>\n",
       "    </tr>\n",
       "    <tr>\n",
       "      <th>3</th>\n",
       "      <td>3</td>\n",
       "      <td>#1245</td>\n",
       "      <td>3.0</td>\n",
       "      <td>paid</td>\n",
       "      <td>fulfilled</td>\n",
       "      <td>yes</td>\n",
       "      <td>EUR</td>\n",
       "      <td>32.5</td>\n",
       "      <td>4.9</td>\n",
       "      <td>0.0</td>\n",
       "      <td>...</td>\n",
       "      <td>Envío estándar</td>\n",
       "      <td>Barcelona</td>\n",
       "      <td>'08006</td>\n",
       "      <td>Stripe</td>\n",
       "      <td>0.0</td>\n",
       "      <td>8.917250e+11</td>\n",
       "      <td>Low</td>\n",
       "      <td>web</td>\n",
       "      <td>0</td>\n",
       "      <td>None</td>\n",
       "    </tr>\n",
       "    <tr>\n",
       "      <th>4</th>\n",
       "      <td>4</td>\n",
       "      <td>#1244</td>\n",
       "      <td>4.0</td>\n",
       "      <td>paid</td>\n",
       "      <td>fulfilled</td>\n",
       "      <td>yes</td>\n",
       "      <td>EUR</td>\n",
       "      <td>45.0</td>\n",
       "      <td>4.9</td>\n",
       "      <td>0.0</td>\n",
       "      <td>...</td>\n",
       "      <td>Envío estándar</td>\n",
       "      <td>Barcelona</td>\n",
       "      <td>'08032</td>\n",
       "      <td>Stripe</td>\n",
       "      <td>0.0</td>\n",
       "      <td>8.910100e+11</td>\n",
       "      <td>Low</td>\n",
       "      <td>web</td>\n",
       "      <td>0</td>\n",
       "      <td>None</td>\n",
       "    </tr>\n",
       "    <tr>\n",
       "      <th>5</th>\n",
       "      <td>5</td>\n",
       "      <td>#1243</td>\n",
       "      <td>5.0</td>\n",
       "      <td>paid</td>\n",
       "      <td>fulfilled</td>\n",
       "      <td>yes</td>\n",
       "      <td>EUR</td>\n",
       "      <td>40.1</td>\n",
       "      <td>4.9</td>\n",
       "      <td>0.0</td>\n",
       "      <td>...</td>\n",
       "      <td>Envío estándar</td>\n",
       "      <td>Barcelona</td>\n",
       "      <td>'08021</td>\n",
       "      <td>Stripe</td>\n",
       "      <td>0.0</td>\n",
       "      <td>8.869630e+11</td>\n",
       "      <td>Low</td>\n",
       "      <td>web</td>\n",
       "      <td>0</td>\n",
       "      <td>None</td>\n",
       "    </tr>\n",
       "  </tbody>\n",
       "</table>\n",
       "<p>5 rows × 22 columns</p>\n",
       "</div>"
      ],
      "text/plain": [
       "   index   Name  Customer Financial Status Fulfillment Status  \\\n",
       "0      0  #1247       1.0             paid          fulfilled   \n",
       "1      1  #1246       2.0             paid        unfulfilled   \n",
       "3      3  #1245       3.0             paid          fulfilled   \n",
       "4      4  #1244       4.0             paid          fulfilled   \n",
       "5      5  #1243       5.0             paid          fulfilled   \n",
       "\n",
       "  Accepts Marketing Currency  Subtotal  Shipping  Taxes  ...  Shipping Method  \\\n",
       "0               yes      EUR      59.0       4.9    0.0  ...   Envío estándar   \n",
       "1               yes      EUR      94.0       0.0    0.0  ...   Envío gratuito   \n",
       "3               yes      EUR      32.5       4.9    0.0  ...   Envío estándar   \n",
       "4               yes      EUR      45.0       4.9    0.0  ...   Envío estándar   \n",
       "5               yes      EUR      40.1       4.9    0.0  ...   Envío estándar   \n",
       "\n",
       "   Shipping City Shipping Zip Payment Method Refunded Amount            Id  \\\n",
       "0      Barcelona       '08041         Stripe             0.0  8.925310e+11   \n",
       "1      Barcelona       '08003         Stripe             0.0  8.918520e+11   \n",
       "3      Barcelona       '08006         Stripe             0.0  8.917250e+11   \n",
       "4      Barcelona       '08032         Stripe             0.0  8.910100e+11   \n",
       "5      Barcelona       '08021         Stripe             0.0  8.869630e+11   \n",
       "\n",
       "   Risk Level  Source Discount Code Notes  \n",
       "0         Low     web             0  None  \n",
       "1         Low     web             0  None  \n",
       "3         Low     web             0  None  \n",
       "4         Low     web             0  None  \n",
       "5         Low     web             0  None  \n",
       "\n",
       "[5 rows x 22 columns]"
      ]
     },
     "execution_count": 19,
     "metadata": {},
     "output_type": "execute_result"
    }
   ],
   "source": [
    "orders.head()"
   ]
  },
  {
   "cell_type": "code",
   "execution_count": 20,
   "metadata": {},
   "outputs": [],
   "source": [
    "orders = orders.drop(columns = 'index')"
   ]
  },
  {
   "cell_type": "markdown",
   "metadata": {},
   "source": [
    "#### Name -- OK"
   ]
  },
  {
   "cell_type": "markdown",
   "metadata": {},
   "source": [
    "We have checked **'Name'** previously and looks OK for now, additionally, we might drop ot to preserve 'ID', we¡ll decide this later"
   ]
  },
  {
   "cell_type": "markdown",
   "metadata": {},
   "source": [
    "#### Customer"
   ]
  },
  {
   "cell_type": "code",
   "execution_count": 21,
   "metadata": {},
   "outputs": [
    {
     "data": {
      "text/html": [
       "<div>\n",
       "<style scoped>\n",
       "    .dataframe tbody tr th:only-of-type {\n",
       "        vertical-align: middle;\n",
       "    }\n",
       "\n",
       "    .dataframe tbody tr th {\n",
       "        vertical-align: top;\n",
       "    }\n",
       "\n",
       "    .dataframe thead th {\n",
       "        text-align: right;\n",
       "    }\n",
       "</style>\n",
       "<table border=\"1\" class=\"dataframe\">\n",
       "  <thead>\n",
       "    <tr style=\"text-align: right;\">\n",
       "      <th></th>\n",
       "      <th>Name</th>\n",
       "      <th>Customer</th>\n",
       "      <th>Financial Status</th>\n",
       "      <th>Fulfillment Status</th>\n",
       "      <th>Accepts Marketing</th>\n",
       "      <th>Currency</th>\n",
       "      <th>Subtotal</th>\n",
       "      <th>Shipping</th>\n",
       "      <th>Taxes</th>\n",
       "      <th>Total</th>\n",
       "      <th>...</th>\n",
       "      <th>Shipping Method</th>\n",
       "      <th>Shipping City</th>\n",
       "      <th>Shipping Zip</th>\n",
       "      <th>Payment Method</th>\n",
       "      <th>Refunded Amount</th>\n",
       "      <th>Id</th>\n",
       "      <th>Risk Level</th>\n",
       "      <th>Source</th>\n",
       "      <th>Discount Code</th>\n",
       "      <th>Notes</th>\n",
       "    </tr>\n",
       "  </thead>\n",
       "  <tbody>\n",
       "    <tr>\n",
       "      <th>501</th>\n",
       "      <td>#1155</td>\n",
       "      <td>NaN</td>\n",
       "      <td>paid</td>\n",
       "      <td>fulfilled</td>\n",
       "      <td>yes</td>\n",
       "      <td>EUR</td>\n",
       "      <td>25.0</td>\n",
       "      <td>0.0</td>\n",
       "      <td>0.0</td>\n",
       "      <td>25.0</td>\n",
       "      <td>...</td>\n",
       "      <td>Other</td>\n",
       "      <td>Unknown</td>\n",
       "      <td>Unknown</td>\n",
       "      <td>Stripe</td>\n",
       "      <td>0.0</td>\n",
       "      <td>7.481810e+11</td>\n",
       "      <td>Low</td>\n",
       "      <td>web</td>\n",
       "      <td>0</td>\n",
       "      <td>None</td>\n",
       "    </tr>\n",
       "    <tr>\n",
       "      <th>502</th>\n",
       "      <td>#1154</td>\n",
       "      <td>NaN</td>\n",
       "      <td>paid</td>\n",
       "      <td>fulfilled</td>\n",
       "      <td>yes</td>\n",
       "      <td>EUR</td>\n",
       "      <td>50.0</td>\n",
       "      <td>0.0</td>\n",
       "      <td>0.0</td>\n",
       "      <td>50.0</td>\n",
       "      <td>...</td>\n",
       "      <td>Other</td>\n",
       "      <td>Unknown</td>\n",
       "      <td>Unknown</td>\n",
       "      <td>Stripe</td>\n",
       "      <td>0.0</td>\n",
       "      <td>7.475270e+11</td>\n",
       "      <td>Low</td>\n",
       "      <td>web</td>\n",
       "      <td>0</td>\n",
       "      <td>None</td>\n",
       "    </tr>\n",
       "  </tbody>\n",
       "</table>\n",
       "<p>2 rows × 21 columns</p>\n",
       "</div>"
      ],
      "text/plain": [
       "      Name  Customer Financial Status Fulfillment Status Accepts Marketing  \\\n",
       "501  #1155       NaN             paid          fulfilled               yes   \n",
       "502  #1154       NaN             paid          fulfilled               yes   \n",
       "\n",
       "    Currency  Subtotal  Shipping  Taxes  Total  ...  Shipping Method  \\\n",
       "501      EUR      25.0       0.0    0.0   25.0  ...            Other   \n",
       "502      EUR      50.0       0.0    0.0   50.0  ...            Other   \n",
       "\n",
       "    Shipping City Shipping Zip Payment Method Refunded Amount            Id  \\\n",
       "501       Unknown      Unknown         Stripe             0.0  7.481810e+11   \n",
       "502       Unknown      Unknown         Stripe             0.0  7.475270e+11   \n",
       "\n",
       "     Risk Level Source Discount Code  Notes  \n",
       "501         Low    web             0   None  \n",
       "502         Low    web             0   None  \n",
       "\n",
       "[2 rows x 21 columns]"
      ]
     },
     "execution_count": 21,
     "metadata": {},
     "output_type": "execute_result"
    }
   ],
   "source": [
    "orders[orders['Customer'].isna()]"
   ]
  },
  {
   "cell_type": "markdown",
   "metadata": {},
   "source": [
    "We will drop the orders with no client as they refer to tests."
   ]
  },
  {
   "cell_type": "code",
   "execution_count": 22,
   "metadata": {},
   "outputs": [],
   "source": [
    "orders = orders[orders['Customer'].notna()]"
   ]
  },
  {
   "cell_type": "markdown",
   "metadata": {},
   "source": [
    "We will change the type of the customer variable just because it should be an index and it makes more sense that it's an int and not a float."
   ]
  },
  {
   "cell_type": "code",
   "execution_count": 23,
   "metadata": {},
   "outputs": [],
   "source": [
    "orders['Customer'] = orders['Customer'].astype('int64')"
   ]
  },
  {
   "cell_type": "markdown",
   "metadata": {},
   "source": [
    "#### Financial Status -- OK"
   ]
  },
  {
   "cell_type": "code",
   "execution_count": 24,
   "metadata": {},
   "outputs": [
    {
     "data": {
      "text/plain": [
       "paid                  146\n",
       "partially_refunded     38\n",
       "voided                 23\n",
       "pending                 8\n",
       "refunded                5\n",
       "Name: Financial Status, dtype: int64"
      ]
     },
     "execution_count": 24,
     "metadata": {},
     "output_type": "execute_result"
    }
   ],
   "source": [
    "orders['Financial Status'].value_counts()"
   ]
  },
  {
   "cell_type": "markdown",
   "metadata": {},
   "source": [
    "Looks good"
   ]
  },
  {
   "cell_type": "markdown",
   "metadata": {},
   "source": [
    "#### Fulfillment Status -- OK"
   ]
  },
  {
   "cell_type": "code",
   "execution_count": 25,
   "metadata": {},
   "outputs": [
    {
     "data": {
      "text/plain": [
       "fulfilled      197\n",
       "unfulfilled     22\n",
       "partial          1\n",
       "Name: Fulfillment Status, dtype: int64"
      ]
     },
     "execution_count": 25,
     "metadata": {},
     "output_type": "execute_result"
    }
   ],
   "source": [
    "orders['Fulfillment Status'].value_counts()"
   ]
  },
  {
   "cell_type": "markdown",
   "metadata": {},
   "source": [
    "Also good"
   ]
  },
  {
   "cell_type": "markdown",
   "metadata": {},
   "source": [
    "#### Accepts Marketing"
   ]
  },
  {
   "cell_type": "code",
   "execution_count": 26,
   "metadata": {},
   "outputs": [
    {
     "data": {
      "text/plain": [
       "yes    185\n",
       "no      35\n",
       "Name: Accepts Marketing, dtype: int64"
      ]
     },
     "execution_count": 26,
     "metadata": {},
     "output_type": "execute_result"
    }
   ],
   "source": [
    "orders['Accepts Marketing'].value_counts()"
   ]
  },
  {
   "cell_type": "markdown",
   "metadata": {},
   "source": [
    "We will convert this to boolean (although, keeping int as type) to minimise work during the analysis later."
   ]
  },
  {
   "cell_type": "code",
   "execution_count": 27,
   "metadata": {},
   "outputs": [],
   "source": [
    "orders['Accepts Marketing'] = orders['Accepts Marketing'].map(lambda x: 1 if x=='yes' else 0)"
   ]
  },
  {
   "cell_type": "markdown",
   "metadata": {},
   "source": [
    "#### Currency\n"
   ]
  },
  {
   "cell_type": "code",
   "execution_count": 28,
   "metadata": {},
   "outputs": [
    {
     "data": {
      "text/plain": [
       "EUR    220\n",
       "Name: Currency, dtype: int64"
      ]
     },
     "execution_count": 28,
     "metadata": {},
     "output_type": "execute_result"
    }
   ],
   "source": [
    "orders['Currency'].value_counts()"
   ]
  },
  {
   "cell_type": "markdown",
   "metadata": {},
   "source": [
    "We drop currency as all is EUR and it is irrelevant for the analysis."
   ]
  },
  {
   "cell_type": "code",
   "execution_count": 29,
   "metadata": {},
   "outputs": [],
   "source": [
    "orders = orders.drop(columns='Currency')"
   ]
  },
  {
   "cell_type": "markdown",
   "metadata": {},
   "source": [
    "#### Subtotal -- OK"
   ]
  },
  {
   "cell_type": "code",
   "execution_count": 30,
   "metadata": {},
   "outputs": [
    {
     "data": {
      "text/plain": [
       "dtype('float64')"
      ]
     },
     "execution_count": 30,
     "metadata": {},
     "output_type": "execute_result"
    }
   ],
   "source": [
    "orders['Subtotal'].dtype"
   ]
  },
  {
   "cell_type": "markdown",
   "metadata": {},
   "source": [
    "Also looks good"
   ]
  },
  {
   "cell_type": "markdown",
   "metadata": {},
   "source": [
    "#### Shipping -- OK\n"
   ]
  },
  {
   "cell_type": "code",
   "execution_count": 31,
   "metadata": {},
   "outputs": [
    {
     "data": {
      "text/plain": [
       "4.9    131\n",
       "0.0     85\n",
       "3.9      4\n",
       "Name: Shipping, dtype: int64"
      ]
     },
     "execution_count": 31,
     "metadata": {},
     "output_type": "execute_result"
    }
   ],
   "source": [
    "orders['Shipping'].value_counts()"
   ]
  },
  {
   "cell_type": "markdown",
   "metadata": {},
   "source": [
    "Also looks good"
   ]
  },
  {
   "cell_type": "markdown",
   "metadata": {},
   "source": [
    "#### Taxes -- OK"
   ]
  },
  {
   "cell_type": "code",
   "execution_count": 32,
   "metadata": {},
   "outputs": [
    {
     "data": {
      "text/plain": [
       "0.00     214\n",
       "10.40      1\n",
       "2.72       1\n",
       "53.80      1\n",
       "17.34      1\n",
       "1.21       1\n",
       "8.04       1\n",
       "Name: Taxes, dtype: int64"
      ]
     },
     "execution_count": 32,
     "metadata": {},
     "output_type": "execute_result"
    }
   ],
   "source": [
    "orders['Taxes'].value_counts()"
   ]
  },
  {
   "cell_type": "markdown",
   "metadata": {},
   "source": [
    "Some values are oddly high. Let's check the non-zero values"
   ]
  },
  {
   "cell_type": "code",
   "execution_count": 33,
   "metadata": {},
   "outputs": [
    {
     "data": {
      "text/html": [
       "<div>\n",
       "<style scoped>\n",
       "    .dataframe tbody tr th:only-of-type {\n",
       "        vertical-align: middle;\n",
       "    }\n",
       "\n",
       "    .dataframe tbody tr th {\n",
       "        vertical-align: top;\n",
       "    }\n",
       "\n",
       "    .dataframe thead th {\n",
       "        text-align: right;\n",
       "    }\n",
       "</style>\n",
       "<table border=\"1\" class=\"dataframe\">\n",
       "  <thead>\n",
       "    <tr style=\"text-align: right;\">\n",
       "      <th></th>\n",
       "      <th>Name</th>\n",
       "      <th>Customer</th>\n",
       "      <th>Financial Status</th>\n",
       "      <th>Fulfillment Status</th>\n",
       "      <th>Accepts Marketing</th>\n",
       "      <th>Subtotal</th>\n",
       "      <th>Shipping</th>\n",
       "      <th>Taxes</th>\n",
       "      <th>Total</th>\n",
       "      <th>Discount Amount</th>\n",
       "      <th>Shipping Method</th>\n",
       "      <th>Shipping City</th>\n",
       "      <th>Shipping Zip</th>\n",
       "      <th>Payment Method</th>\n",
       "      <th>Refunded Amount</th>\n",
       "      <th>Id</th>\n",
       "      <th>Risk Level</th>\n",
       "      <th>Source</th>\n",
       "      <th>Discount Code</th>\n",
       "      <th>Notes</th>\n",
       "    </tr>\n",
       "  </thead>\n",
       "  <tbody>\n",
       "    <tr>\n",
       "      <th>100</th>\n",
       "      <td>#1199</td>\n",
       "      <td>3</td>\n",
       "      <td>paid</td>\n",
       "      <td>fulfilled</td>\n",
       "      <td>1</td>\n",
       "      <td>310.00</td>\n",
       "      <td>0.0</td>\n",
       "      <td>53.80</td>\n",
       "      <td>310.00</td>\n",
       "      <td>0.0</td>\n",
       "      <td>Envío gratuito</td>\n",
       "      <td>Barcelona</td>\n",
       "      <td>'08006</td>\n",
       "      <td>Stripe</td>\n",
       "      <td>0.00</td>\n",
       "      <td>8.374110e+11</td>\n",
       "      <td>Low</td>\n",
       "      <td>web</td>\n",
       "      <td>0</td>\n",
       "      <td>None</td>\n",
       "    </tr>\n",
       "    <tr>\n",
       "      <th>138</th>\n",
       "      <td>#1176</td>\n",
       "      <td>16</td>\n",
       "      <td>voided</td>\n",
       "      <td>unfulfilled</td>\n",
       "      <td>1</td>\n",
       "      <td>103.65</td>\n",
       "      <td>0.0</td>\n",
       "      <td>17.34</td>\n",
       "      <td>103.65</td>\n",
       "      <td>0.0</td>\n",
       "      <td>Envío gratuito</td>\n",
       "      <td>Barcelona</td>\n",
       "      <td>'08021</td>\n",
       "      <td>custom</td>\n",
       "      <td>0.00</td>\n",
       "      <td>8.154090e+11</td>\n",
       "      <td>Low</td>\n",
       "      <td>web</td>\n",
       "      <td>0</td>\n",
       "      <td>None</td>\n",
       "    </tr>\n",
       "    <tr>\n",
       "      <th>146</th>\n",
       "      <td>#1174</td>\n",
       "      <td>16</td>\n",
       "      <td>voided</td>\n",
       "      <td>unfulfilled</td>\n",
       "      <td>1</td>\n",
       "      <td>66.75</td>\n",
       "      <td>4.9</td>\n",
       "      <td>10.40</td>\n",
       "      <td>71.65</td>\n",
       "      <td>0.0</td>\n",
       "      <td>Envío estándar</td>\n",
       "      <td>Barcelona</td>\n",
       "      <td>'08006</td>\n",
       "      <td>custom</td>\n",
       "      <td>0.00</td>\n",
       "      <td>8.116200e+11</td>\n",
       "      <td>Low</td>\n",
       "      <td>web</td>\n",
       "      <td>0</td>\n",
       "      <td>None</td>\n",
       "    </tr>\n",
       "    <tr>\n",
       "      <th>1750</th>\n",
       "      <td>#1075</td>\n",
       "      <td>42</td>\n",
       "      <td>paid</td>\n",
       "      <td>fulfilled</td>\n",
       "      <td>1</td>\n",
       "      <td>71.20</td>\n",
       "      <td>4.9</td>\n",
       "      <td>8.04</td>\n",
       "      <td>71.20</td>\n",
       "      <td>4.9</td>\n",
       "      <td>Envío estándar</td>\n",
       "      <td>Bellaterra</td>\n",
       "      <td>'08193</td>\n",
       "      <td>Stripe</td>\n",
       "      <td>0.00</td>\n",
       "      <td>5.015500e+11</td>\n",
       "      <td>Low</td>\n",
       "      <td>web</td>\n",
       "      <td>1</td>\n",
       "      <td>None</td>\n",
       "    </tr>\n",
       "    <tr>\n",
       "      <th>1756</th>\n",
       "      <td>#1074</td>\n",
       "      <td>43</td>\n",
       "      <td>partially_refunded</td>\n",
       "      <td>fulfilled</td>\n",
       "      <td>0</td>\n",
       "      <td>40.35</td>\n",
       "      <td>4.9</td>\n",
       "      <td>2.72</td>\n",
       "      <td>40.35</td>\n",
       "      <td>4.9</td>\n",
       "      <td>Envío estándar</td>\n",
       "      <td>Barcelona</td>\n",
       "      <td>'08021</td>\n",
       "      <td>Stripe</td>\n",
       "      <td>2.85</td>\n",
       "      <td>5.012710e+11</td>\n",
       "      <td>Low</td>\n",
       "      <td>web</td>\n",
       "      <td>1</td>\n",
       "      <td>None</td>\n",
       "    </tr>\n",
       "    <tr>\n",
       "      <th>1874</th>\n",
       "      <td>#1065</td>\n",
       "      <td>30</td>\n",
       "      <td>paid</td>\n",
       "      <td>fulfilled</td>\n",
       "      <td>1</td>\n",
       "      <td>44.10</td>\n",
       "      <td>4.9</td>\n",
       "      <td>1.21</td>\n",
       "      <td>49.00</td>\n",
       "      <td>0.0</td>\n",
       "      <td>Envío estándar</td>\n",
       "      <td>Barcelona</td>\n",
       "      <td>'08021</td>\n",
       "      <td>Stripe</td>\n",
       "      <td>0.00</td>\n",
       "      <td>4.844380e+11</td>\n",
       "      <td>Low</td>\n",
       "      <td>web</td>\n",
       "      <td>0</td>\n",
       "      <td>None</td>\n",
       "    </tr>\n",
       "  </tbody>\n",
       "</table>\n",
       "</div>"
      ],
      "text/plain": [
       "       Name  Customer    Financial Status Fulfillment Status  \\\n",
       "100   #1199         3                paid          fulfilled   \n",
       "138   #1176        16              voided        unfulfilled   \n",
       "146   #1174        16              voided        unfulfilled   \n",
       "1750  #1075        42                paid          fulfilled   \n",
       "1756  #1074        43  partially_refunded          fulfilled   \n",
       "1874  #1065        30                paid          fulfilled   \n",
       "\n",
       "      Accepts Marketing  Subtotal  Shipping  Taxes   Total  Discount Amount  \\\n",
       "100                   1    310.00       0.0  53.80  310.00              0.0   \n",
       "138                   1    103.65       0.0  17.34  103.65              0.0   \n",
       "146                   1     66.75       4.9  10.40   71.65              0.0   \n",
       "1750                  1     71.20       4.9   8.04   71.20              4.9   \n",
       "1756                  0     40.35       4.9   2.72   40.35              4.9   \n",
       "1874                  1     44.10       4.9   1.21   49.00              0.0   \n",
       "\n",
       "     Shipping Method Shipping City Shipping Zip Payment Method  \\\n",
       "100   Envío gratuito     Barcelona       '08006         Stripe   \n",
       "138   Envío gratuito     Barcelona       '08021         custom   \n",
       "146   Envío estándar     Barcelona       '08006         custom   \n",
       "1750  Envío estándar    Bellaterra       '08193         Stripe   \n",
       "1756  Envío estándar     Barcelona       '08021         Stripe   \n",
       "1874  Envío estándar     Barcelona       '08021         Stripe   \n",
       "\n",
       "      Refunded Amount            Id Risk Level Source  Discount Code Notes  \n",
       "100              0.00  8.374110e+11        Low    web              0  None  \n",
       "138              0.00  8.154090e+11        Low    web              0  None  \n",
       "146              0.00  8.116200e+11        Low    web              0  None  \n",
       "1750             0.00  5.015500e+11        Low    web              1  None  \n",
       "1756             2.85  5.012710e+11        Low    web              1  None  \n",
       "1874             0.00  4.844380e+11        Low    web              0  None  "
      ]
     },
     "execution_count": 33,
     "metadata": {},
     "output_type": "execute_result"
    }
   ],
   "source": [
    "orders[orders['Taxes'] != 0.0]"
   ]
  },
  {
   "cell_type": "markdown",
   "metadata": {},
   "source": [
    "Looks OK"
   ]
  },
  {
   "cell_type": "markdown",
   "metadata": {},
   "source": [
    "#### Total"
   ]
  },
  {
   "cell_type": "code",
   "execution_count": 34,
   "metadata": {},
   "outputs": [
    {
     "data": {
      "text/html": [
       "<div>\n",
       "<style scoped>\n",
       "    .dataframe tbody tr th:only-of-type {\n",
       "        vertical-align: middle;\n",
       "    }\n",
       "\n",
       "    .dataframe tbody tr th {\n",
       "        vertical-align: top;\n",
       "    }\n",
       "\n",
       "    .dataframe thead th {\n",
       "        text-align: right;\n",
       "    }\n",
       "</style>\n",
       "<table border=\"1\" class=\"dataframe\">\n",
       "  <thead>\n",
       "    <tr style=\"text-align: right;\">\n",
       "      <th></th>\n",
       "      <th>Name</th>\n",
       "      <th>Customer</th>\n",
       "      <th>Financial Status</th>\n",
       "      <th>Fulfillment Status</th>\n",
       "      <th>Accepts Marketing</th>\n",
       "      <th>Subtotal</th>\n",
       "      <th>Shipping</th>\n",
       "      <th>Taxes</th>\n",
       "      <th>Total</th>\n",
       "      <th>Discount Amount</th>\n",
       "      <th>Shipping Method</th>\n",
       "      <th>Shipping City</th>\n",
       "      <th>Shipping Zip</th>\n",
       "      <th>Payment Method</th>\n",
       "      <th>Refunded Amount</th>\n",
       "      <th>Id</th>\n",
       "      <th>Risk Level</th>\n",
       "      <th>Source</th>\n",
       "      <th>Discount Code</th>\n",
       "      <th>Notes</th>\n",
       "    </tr>\n",
       "  </thead>\n",
       "  <tbody>\n",
       "    <tr>\n",
       "      <th>10</th>\n",
       "      <td>#1240</td>\n",
       "      <td>6</td>\n",
       "      <td>paid</td>\n",
       "      <td>fulfilled</td>\n",
       "      <td>1</td>\n",
       "      <td>65.35</td>\n",
       "      <td>4.9</td>\n",
       "      <td>0.0</td>\n",
       "      <td>70.25</td>\n",
       "      <td>10.0</td>\n",
       "      <td>Envío estándar</td>\n",
       "      <td>Barcelona</td>\n",
       "      <td>'08037</td>\n",
       "      <td>Stripe</td>\n",
       "      <td>0.0</td>\n",
       "      <td>8.853700e+11</td>\n",
       "      <td>Low</td>\n",
       "      <td>web</td>\n",
       "      <td>1</td>\n",
       "      <td>¿Podemos cambiar la lechuga larga por cualquie...</td>\n",
       "    </tr>\n",
       "    <tr>\n",
       "      <th>13</th>\n",
       "      <td>#1239</td>\n",
       "      <td>7</td>\n",
       "      <td>paid</td>\n",
       "      <td>fulfilled</td>\n",
       "      <td>1</td>\n",
       "      <td>77.45</td>\n",
       "      <td>0.0</td>\n",
       "      <td>0.0</td>\n",
       "      <td>77.45</td>\n",
       "      <td>10.0</td>\n",
       "      <td>Envío gratuito</td>\n",
       "      <td>Barcelona</td>\n",
       "      <td>'08005</td>\n",
       "      <td>Stripe</td>\n",
       "      <td>0.0</td>\n",
       "      <td>8.843840e+11</td>\n",
       "      <td>Low</td>\n",
       "      <td>web</td>\n",
       "      <td>1</td>\n",
       "      <td>Cambiar hamburguesas de pollo por las de ternera</td>\n",
       "    </tr>\n",
       "    <tr>\n",
       "      <th>21</th>\n",
       "      <td>#1235</td>\n",
       "      <td>9</td>\n",
       "      <td>partially_refunded</td>\n",
       "      <td>fulfilled</td>\n",
       "      <td>1</td>\n",
       "      <td>133.95</td>\n",
       "      <td>0.0</td>\n",
       "      <td>0.0</td>\n",
       "      <td>133.95</td>\n",
       "      <td>10.0</td>\n",
       "      <td>Envío gratuito</td>\n",
       "      <td>Barcelona</td>\n",
       "      <td>'08022</td>\n",
       "      <td>Stripe</td>\n",
       "      <td>26.0</td>\n",
       "      <td>8.807640e+11</td>\n",
       "      <td>Low</td>\n",
       "      <td>web</td>\n",
       "      <td>1</td>\n",
       "      <td>None</td>\n",
       "    </tr>\n",
       "    <tr>\n",
       "      <th>26</th>\n",
       "      <td>#1233</td>\n",
       "      <td>11</td>\n",
       "      <td>paid</td>\n",
       "      <td>fulfilled</td>\n",
       "      <td>1</td>\n",
       "      <td>69.00</td>\n",
       "      <td>0.0</td>\n",
       "      <td>0.0</td>\n",
       "      <td>69.00</td>\n",
       "      <td>10.0</td>\n",
       "      <td>Envío gratuito</td>\n",
       "      <td>barcelona</td>\n",
       "      <td>'08021</td>\n",
       "      <td>Stripe</td>\n",
       "      <td>0.0</td>\n",
       "      <td>8.802880e+11</td>\n",
       "      <td>Low</td>\n",
       "      <td>web</td>\n",
       "      <td>1</td>\n",
       "      <td>None</td>\n",
       "    </tr>\n",
       "    <tr>\n",
       "      <th>52</th>\n",
       "      <td>#1222</td>\n",
       "      <td>5</td>\n",
       "      <td>paid</td>\n",
       "      <td>fulfilled</td>\n",
       "      <td>1</td>\n",
       "      <td>38.05</td>\n",
       "      <td>4.9</td>\n",
       "      <td>0.0</td>\n",
       "      <td>42.95</td>\n",
       "      <td>0.0</td>\n",
       "      <td>Envío estándar</td>\n",
       "      <td>Barcelona</td>\n",
       "      <td>'08021</td>\n",
       "      <td>Stripe</td>\n",
       "      <td>0.0</td>\n",
       "      <td>8.700630e+11</td>\n",
       "      <td>Low</td>\n",
       "      <td>web</td>\n",
       "      <td>0</td>\n",
       "      <td>None</td>\n",
       "    </tr>\n",
       "  </tbody>\n",
       "</table>\n",
       "</div>"
      ],
      "text/plain": [
       "     Name  Customer    Financial Status Fulfillment Status  Accepts Marketing  \\\n",
       "10  #1240         6                paid          fulfilled                  1   \n",
       "13  #1239         7                paid          fulfilled                  1   \n",
       "21  #1235         9  partially_refunded          fulfilled                  1   \n",
       "26  #1233        11                paid          fulfilled                  1   \n",
       "52  #1222         5                paid          fulfilled                  1   \n",
       "\n",
       "    Subtotal  Shipping  Taxes   Total  Discount Amount Shipping Method  \\\n",
       "10     65.35       4.9    0.0   70.25             10.0  Envío estándar   \n",
       "13     77.45       0.0    0.0   77.45             10.0  Envío gratuito   \n",
       "21    133.95       0.0    0.0  133.95             10.0  Envío gratuito   \n",
       "26     69.00       0.0    0.0   69.00             10.0  Envío gratuito   \n",
       "52     38.05       4.9    0.0   42.95              0.0  Envío estándar   \n",
       "\n",
       "   Shipping City Shipping Zip Payment Method  Refunded Amount            Id  \\\n",
       "10    Barcelona        '08037         Stripe              0.0  8.853700e+11   \n",
       "13     Barcelona       '08005         Stripe              0.0  8.843840e+11   \n",
       "21     Barcelona       '08022         Stripe             26.0  8.807640e+11   \n",
       "26     barcelona       '08021         Stripe              0.0  8.802880e+11   \n",
       "52     Barcelona       '08021         Stripe              0.0  8.700630e+11   \n",
       "\n",
       "   Risk Level Source  Discount Code  \\\n",
       "10        Low    web              1   \n",
       "13        Low    web              1   \n",
       "21        Low    web              1   \n",
       "26        Low    web              1   \n",
       "52        Low    web              0   \n",
       "\n",
       "                                                Notes  \n",
       "10  ¿Podemos cambiar la lechuga larga por cualquie...  \n",
       "13   Cambiar hamburguesas de pollo por las de ternera  \n",
       "21                                               None  \n",
       "26                                               None  \n",
       "52                                               None  "
      ]
     },
     "execution_count": 34,
     "metadata": {},
     "output_type": "execute_result"
    }
   ],
   "source": [
    "orders[orders['Total'] != orders['Subtotal'] + orders['Shipping']- orders['Discount Amount']].head()"
   ]
  },
  {
   "cell_type": "markdown",
   "metadata": {},
   "source": [
    "Depending on the type of discount, the total is calculated differently. Thus, to simplify, we'll only keep the 'Total' and drop 'Subtotal', 'Shipping' and 'Taxes'."
   ]
  },
  {
   "cell_type": "code",
   "execution_count": 35,
   "metadata": {},
   "outputs": [],
   "source": [
    "orders = orders.drop(columns=['Subtotal','Shipping','Taxes'])"
   ]
  },
  {
   "cell_type": "markdown",
   "metadata": {},
   "source": [
    "#### Discount Amount <-- OK"
   ]
  },
  {
   "cell_type": "code",
   "execution_count": 36,
   "metadata": {},
   "outputs": [
    {
     "data": {
      "text/plain": [
       "0.0     184\n",
       "4.9      24\n",
       "10.0     11\n",
       "32.4      1\n",
       "Name: Discount Amount, dtype: int64"
      ]
     },
     "execution_count": 36,
     "metadata": {},
     "output_type": "execute_result"
    }
   ],
   "source": [
    "orders['Discount Amount'].value_counts()"
   ]
  },
  {
   "cell_type": "markdown",
   "metadata": {},
   "source": [
    "Looks good. We'll keep this as we might want to know the effect of discounts on sales and profit."
   ]
  },
  {
   "cell_type": "markdown",
   "metadata": {},
   "source": [
    "#### Shipping Method"
   ]
  },
  {
   "cell_type": "code",
   "execution_count": 37,
   "metadata": {},
   "outputs": [
    {
     "data": {
      "text/plain": [
       "Envío estándar                              135\n",
       "Envío gratuito                               52\n",
       "Recogida en el mercado                       21\n",
       "Other                                         8\n",
       "El reparto se realiza a través de Shargo      4\n",
       "Name: Shipping Method, dtype: int64"
      ]
     },
     "execution_count": 37,
     "metadata": {},
     "output_type": "execute_result"
    }
   ],
   "source": [
    "orders['Shipping Method'].value_counts()"
   ]
  },
  {
   "cell_type": "markdown",
   "metadata": {},
   "source": [
    "Looks good but we will replace the values to reduce the amount of text. This can be useful later if we want to display this in a plot"
   ]
  },
  {
   "cell_type": "code",
   "execution_count": 38,
   "metadata": {},
   "outputs": [],
   "source": [
    "orders['Shipping Method'] = orders['Shipping Method'].map(lambda x: 'shargo' if x=='Envío estándar' else (\n",
    "    'gratuito' if x == 'Envío gratuito' else ('mercado' if x == 'Recogida en el mercado' else (\n",
    "        'shargo' if x == 'El reparto se realiza a través de Shargo' else 'otros'))))"
   ]
  },
  {
   "cell_type": "markdown",
   "metadata": {},
   "source": [
    "#### \tShipping City"
   ]
  },
  {
   "cell_type": "code",
   "execution_count": 39,
   "metadata": {},
   "outputs": [
    {
     "data": {
      "text/plain": [
       "Barcelona                  169\n",
       "Barcelona                   16\n",
       "barcelona                   14\n",
       "test                         7\n",
       "Unknown                      6\n",
       "jsjajsjsjjs                  2\n",
       "BARCELONA                    2\n",
       "dsa                          1\n",
       "Sant feliu de Llobregat      1\n",
       "khg                          1\n",
       "Bellaterra                   1\n",
       "Name: Shipping City, dtype: int64"
      ]
     },
     "execution_count": 39,
     "metadata": {},
     "output_type": "execute_result"
    }
   ],
   "source": [
    "orders['Shipping City'].value_counts()"
   ]
  },
  {
   "cell_type": "markdown",
   "metadata": {},
   "source": [
    "Due to manual entry, we need to clean and 'standardise' these values"
   ]
  },
  {
   "cell_type": "code",
   "execution_count": 40,
   "metadata": {},
   "outputs": [],
   "source": [
    "orders = orders.replace(['Barcelona ', ' Barcelona', 'barcelona', 'BARCELONA'], 'Barcelona')\n",
    "orders = orders.replace(['khg', 'dsa', 'test', 'jsjajsjsjjs'], 'Unknown')"
   ]
  },
  {
   "cell_type": "code",
   "execution_count": 41,
   "metadata": {},
   "outputs": [
    {
     "data": {
      "text/plain": [
       "Barcelona                  201\n",
       "Unknown                     17\n",
       "Sant feliu de Llobregat      1\n",
       "Bellaterra                   1\n",
       "Name: Shipping City, dtype: int64"
      ]
     },
     "execution_count": 41,
     "metadata": {},
     "output_type": "execute_result"
    }
   ],
   "source": [
    "orders['Shipping City'].value_counts()"
   ]
  },
  {
   "cell_type": "markdown",
   "metadata": {},
   "source": [
    "#### Shipping Zip"
   ]
  },
  {
   "cell_type": "code",
   "execution_count": 42,
   "metadata": {},
   "outputs": [
    {
     "data": {
      "text/plain": [
       "'08021     68\n",
       "'08006     40\n",
       "'08034     24\n",
       "'08017     14\n",
       "'08041      8\n",
       "'08067      7\n",
       "'08023      7\n",
       "Unknown     6\n",
       "'08012      6\n",
       "'08037      5\n",
       "'08005      5\n",
       "'08009      4\n",
       "'08008      4\n",
       "'08029      4\n",
       "'08036      3\n",
       "'08032      3\n",
       "'08018      2\n",
       "'08024      2\n",
       "'08028      2\n",
       "'08022      2\n",
       "'08193      1\n",
       "'08003      1\n",
       "'08980      1\n",
       "'34569      1\n",
       "Name: Shipping Zip, dtype: int64"
      ]
     },
     "execution_count": 42,
     "metadata": {},
     "output_type": "execute_result"
    }
   ],
   "source": [
    "orders['Shipping Zip'].value_counts()"
   ]
  },
  {
   "cell_type": "markdown",
   "metadata": {},
   "source": [
    "Seems we have a quotation mark at the begining, we will remove this but leaving the variable as object."
   ]
  },
  {
   "cell_type": "code",
   "execution_count": 43,
   "metadata": {},
   "outputs": [],
   "source": [
    "orders['Shipping Zip'] = orders['Shipping Zip'].map(lambda x: x.strip(\"'\"))"
   ]
  },
  {
   "cell_type": "markdown",
   "metadata": {},
   "source": [
    "#### Payment Method -- OK"
   ]
  },
  {
   "cell_type": "code",
   "execution_count": 44,
   "metadata": {},
   "outputs": [
    {
     "data": {
      "text/plain": [
       "Stripe          168\n",
       "custom           37\n",
       "manual            8\n",
       "Bank Deposit      7\n",
       "Name: Payment Method, dtype: int64"
      ]
     },
     "execution_count": 44,
     "metadata": {},
     "output_type": "execute_result"
    }
   ],
   "source": [
    "orders['Payment Method'].value_counts()"
   ]
  },
  {
   "cell_type": "markdown",
   "metadata": {},
   "source": [
    "Looks good"
   ]
  },
  {
   "cell_type": "markdown",
   "metadata": {},
   "source": [
    "#### Refunded Amount -- OK"
   ]
  },
  {
   "cell_type": "code",
   "execution_count": 45,
   "metadata": {},
   "outputs": [
    {
     "data": {
      "text/plain": [
       "dtype('float64')"
      ]
     },
     "execution_count": 45,
     "metadata": {},
     "output_type": "execute_result"
    }
   ],
   "source": [
    "orders['Refunded Amount'].dtype"
   ]
  },
  {
   "cell_type": "markdown",
   "metadata": {},
   "source": [
    "Looks good"
   ]
  },
  {
   "cell_type": "markdown",
   "metadata": {},
   "source": [
    "#### Id"
   ]
  },
  {
   "cell_type": "code",
   "execution_count": 46,
   "metadata": {},
   "outputs": [],
   "source": [
    "orders = orders.drop(columns='Id')"
   ]
  },
  {
   "cell_type": "markdown",
   "metadata": {},
   "source": [
    "We drop 'Id' as it is redundant with 'Name'"
   ]
  },
  {
   "cell_type": "markdown",
   "metadata": {},
   "source": [
    "#### Risk Level"
   ]
  },
  {
   "cell_type": "code",
   "execution_count": 47,
   "metadata": {},
   "outputs": [
    {
     "data": {
      "text/plain": [
       "Low    220\n",
       "Name: Risk Level, dtype: int64"
      ]
     },
     "execution_count": 47,
     "metadata": {},
     "output_type": "execute_result"
    }
   ],
   "source": [
    "orders['Risk Level'].value_counts()"
   ]
  },
  {
   "cell_type": "markdown",
   "metadata": {},
   "source": [
    "As all risk levels are Low, we will also drop this feature."
   ]
  },
  {
   "cell_type": "code",
   "execution_count": 48,
   "metadata": {},
   "outputs": [],
   "source": [
    "orders = orders.drop(columns = 'Risk Level')"
   ]
  },
  {
   "cell_type": "markdown",
   "metadata": {},
   "source": [
    "#### Source"
   ]
  },
  {
   "cell_type": "code",
   "execution_count": 49,
   "metadata": {},
   "outputs": [
    {
     "data": {
      "text/plain": [
       "web                    211\n",
       "shopify_draft_order      7\n",
       "580111                   1\n",
       "iphone                   1\n",
       "Name: Source, dtype: int64"
      ]
     },
     "execution_count": 49,
     "metadata": {},
     "output_type": "execute_result"
    }
   ],
   "source": [
    "orders['Source'].value_counts()"
   ]
  },
  {
   "cell_type": "markdown",
   "metadata": {},
   "source": [
    "The information looks OK but we will not use it, thus we drop it."
   ]
  },
  {
   "cell_type": "code",
   "execution_count": 50,
   "metadata": {},
   "outputs": [],
   "source": [
    "orders = orders.drop(columns='Source')"
   ]
  },
  {
   "cell_type": "markdown",
   "metadata": {},
   "source": [
    "#### Discount Code -- OK"
   ]
  },
  {
   "cell_type": "code",
   "execution_count": 51,
   "metadata": {},
   "outputs": [
    {
     "data": {
      "text/plain": [
       "0    183\n",
       "1     37\n",
       "Name: Discount Code, dtype: int64"
      ]
     },
     "execution_count": 51,
     "metadata": {},
     "output_type": "execute_result"
    }
   ],
   "source": [
    "orders['Discount Code'].value_counts()"
   ]
  },
  {
   "cell_type": "markdown",
   "metadata": {},
   "source": [
    "We cleaned this before so it's OK"
   ]
  },
  {
   "cell_type": "markdown",
   "metadata": {},
   "source": [
    "#### Notes"
   ]
  },
  {
   "cell_type": "markdown",
   "metadata": {},
   "source": [
    "We will drop the 'Notes' for now as the analysis of the content is a second phase of the project."
   ]
  },
  {
   "cell_type": "markdown",
   "metadata": {},
   "source": [
    "# Summary of the data"
   ]
  },
  {
   "cell_type": "code",
   "execution_count": 52,
   "metadata": {},
   "outputs": [
    {
     "data": {
      "text/html": [
       "<div>\n",
       "<style scoped>\n",
       "    .dataframe tbody tr th:only-of-type {\n",
       "        vertical-align: middle;\n",
       "    }\n",
       "\n",
       "    .dataframe tbody tr th {\n",
       "        vertical-align: top;\n",
       "    }\n",
       "\n",
       "    .dataframe thead th {\n",
       "        text-align: right;\n",
       "    }\n",
       "</style>\n",
       "<table border=\"1\" class=\"dataframe\">\n",
       "  <thead>\n",
       "    <tr style=\"text-align: right;\">\n",
       "      <th></th>\n",
       "      <th>Name</th>\n",
       "      <th>Customer</th>\n",
       "      <th>Financial Status</th>\n",
       "      <th>Fulfillment Status</th>\n",
       "      <th>Accepts Marketing</th>\n",
       "      <th>Total</th>\n",
       "      <th>Discount Amount</th>\n",
       "      <th>Shipping Method</th>\n",
       "      <th>Shipping City</th>\n",
       "      <th>Shipping Zip</th>\n",
       "      <th>Payment Method</th>\n",
       "      <th>Refunded Amount</th>\n",
       "      <th>Discount Code</th>\n",
       "      <th>Notes</th>\n",
       "    </tr>\n",
       "  </thead>\n",
       "  <tbody>\n",
       "    <tr>\n",
       "      <th>0</th>\n",
       "      <td>#1247</td>\n",
       "      <td>1</td>\n",
       "      <td>paid</td>\n",
       "      <td>fulfilled</td>\n",
       "      <td>1</td>\n",
       "      <td>63.9</td>\n",
       "      <td>0.0</td>\n",
       "      <td>shargo</td>\n",
       "      <td>Barcelona</td>\n",
       "      <td>08041</td>\n",
       "      <td>Stripe</td>\n",
       "      <td>0.0</td>\n",
       "      <td>0</td>\n",
       "      <td>None</td>\n",
       "    </tr>\n",
       "    <tr>\n",
       "      <th>1</th>\n",
       "      <td>#1246</td>\n",
       "      <td>2</td>\n",
       "      <td>paid</td>\n",
       "      <td>unfulfilled</td>\n",
       "      <td>1</td>\n",
       "      <td>94.0</td>\n",
       "      <td>0.0</td>\n",
       "      <td>gratuito</td>\n",
       "      <td>Barcelona</td>\n",
       "      <td>08003</td>\n",
       "      <td>Stripe</td>\n",
       "      <td>0.0</td>\n",
       "      <td>0</td>\n",
       "      <td>None</td>\n",
       "    </tr>\n",
       "    <tr>\n",
       "      <th>3</th>\n",
       "      <td>#1245</td>\n",
       "      <td>3</td>\n",
       "      <td>paid</td>\n",
       "      <td>fulfilled</td>\n",
       "      <td>1</td>\n",
       "      <td>37.4</td>\n",
       "      <td>0.0</td>\n",
       "      <td>shargo</td>\n",
       "      <td>Barcelona</td>\n",
       "      <td>08006</td>\n",
       "      <td>Stripe</td>\n",
       "      <td>0.0</td>\n",
       "      <td>0</td>\n",
       "      <td>None</td>\n",
       "    </tr>\n",
       "    <tr>\n",
       "      <th>4</th>\n",
       "      <td>#1244</td>\n",
       "      <td>4</td>\n",
       "      <td>paid</td>\n",
       "      <td>fulfilled</td>\n",
       "      <td>1</td>\n",
       "      <td>49.9</td>\n",
       "      <td>0.0</td>\n",
       "      <td>shargo</td>\n",
       "      <td>Barcelona</td>\n",
       "      <td>08032</td>\n",
       "      <td>Stripe</td>\n",
       "      <td>0.0</td>\n",
       "      <td>0</td>\n",
       "      <td>None</td>\n",
       "    </tr>\n",
       "    <tr>\n",
       "      <th>5</th>\n",
       "      <td>#1243</td>\n",
       "      <td>5</td>\n",
       "      <td>paid</td>\n",
       "      <td>fulfilled</td>\n",
       "      <td>1</td>\n",
       "      <td>45.0</td>\n",
       "      <td>0.0</td>\n",
       "      <td>shargo</td>\n",
       "      <td>Barcelona</td>\n",
       "      <td>08021</td>\n",
       "      <td>Stripe</td>\n",
       "      <td>0.0</td>\n",
       "      <td>0</td>\n",
       "      <td>None</td>\n",
       "    </tr>\n",
       "  </tbody>\n",
       "</table>\n",
       "</div>"
      ],
      "text/plain": [
       "    Name  Customer Financial Status Fulfillment Status  Accepts Marketing  \\\n",
       "0  #1247         1             paid          fulfilled                  1   \n",
       "1  #1246         2             paid        unfulfilled                  1   \n",
       "3  #1245         3             paid          fulfilled                  1   \n",
       "4  #1244         4             paid          fulfilled                  1   \n",
       "5  #1243         5             paid          fulfilled                  1   \n",
       "\n",
       "   Total  Discount Amount Shipping Method Shipping City Shipping Zip  \\\n",
       "0   63.9              0.0          shargo     Barcelona        08041   \n",
       "1   94.0              0.0        gratuito     Barcelona        08003   \n",
       "3   37.4              0.0          shargo     Barcelona        08006   \n",
       "4   49.9              0.0          shargo     Barcelona        08032   \n",
       "5   45.0              0.0          shargo     Barcelona        08021   \n",
       "\n",
       "  Payment Method  Refunded Amount  Discount Code Notes  \n",
       "0         Stripe              0.0              0  None  \n",
       "1         Stripe              0.0              0  None  \n",
       "3         Stripe              0.0              0  None  \n",
       "4         Stripe              0.0              0  None  \n",
       "5         Stripe              0.0              0  None  "
      ]
     },
     "execution_count": 52,
     "metadata": {},
     "output_type": "execute_result"
    }
   ],
   "source": [
    "orders.head()"
   ]
  },
  {
   "cell_type": "code",
   "execution_count": 53,
   "metadata": {},
   "outputs": [
    {
     "name": "stdout",
     "output_type": "stream",
     "text": [
      "<class 'pandas.core.frame.DataFrame'>\n",
      "Int64Index: 220 entries, 0 to 2407\n",
      "Data columns (total 14 columns):\n",
      "Name                  220 non-null object\n",
      "Customer              220 non-null int64\n",
      "Financial Status      220 non-null object\n",
      "Fulfillment Status    220 non-null object\n",
      "Accepts Marketing     220 non-null int64\n",
      "Total                 220 non-null float64\n",
      "Discount Amount       220 non-null float64\n",
      "Shipping Method       220 non-null object\n",
      "Shipping City         220 non-null object\n",
      "Shipping Zip          220 non-null object\n",
      "Payment Method        220 non-null object\n",
      "Refunded Amount       220 non-null float64\n",
      "Discount Code         220 non-null int64\n",
      "Notes                 220 non-null object\n",
      "dtypes: float64(3), int64(3), object(8)\n",
      "memory usage: 25.8+ KB\n"
     ]
    }
   ],
   "source": [
    "orders.info()"
   ]
  },
  {
   "cell_type": "markdown",
   "metadata": {},
   "source": [
    "# Load the data to the DB"
   ]
  },
  {
   "cell_type": "code",
   "execution_count": 54,
   "metadata": {},
   "outputs": [],
   "source": [
    "from sqlalchemy import create_engine\n",
    "\n",
    "\n",
    "driver = 'mysql+pymysql:'\n",
    "user = 'adria'\n",
    "password = '00000'\n",
    "ip = '35.187.114.125'\n",
    "database = 'vimet'\n",
    "\n",
    "connection_string = f'{driver}//{user}:{password}@{ip}/{database}'\n",
    "engine = create_engine(connection_string)"
   ]
  },
  {
   "cell_type": "code",
   "execution_count": 55,
   "metadata": {},
   "outputs": [],
   "source": [
    "orders.to_sql('orders', con = engine, if_exists='replace')"
   ]
  }
 ],
 "metadata": {
  "kernelspec": {
   "display_name": "Python 3",
   "language": "python",
   "name": "python3"
  },
  "language_info": {
   "codemirror_mode": {
    "name": "ipython",
    "version": 3
   },
   "file_extension": ".py",
   "mimetype": "text/x-python",
   "name": "python",
   "nbconvert_exporter": "python",
   "pygments_lexer": "ipython3",
   "version": "3.7.2"
  }
 },
 "nbformat": 4,
 "nbformat_minor": 2
}
