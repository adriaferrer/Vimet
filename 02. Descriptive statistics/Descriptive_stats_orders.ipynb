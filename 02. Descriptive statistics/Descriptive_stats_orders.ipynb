{
 "cells": [
  {
   "cell_type": "code",
   "execution_count": 1,
   "metadata": {},
   "outputs": [],
   "source": [
    "import pandas as pd\n",
    "import matplotlib.pyplot as plt\n",
    "import seaborn as sns"
   ]
  },
  {
   "cell_type": "markdown",
   "metadata": {},
   "source": [
    "# Load the data"
   ]
  },
  {
   "cell_type": "code",
   "execution_count": 2,
   "metadata": {},
   "outputs": [],
   "source": [
    "from sqlalchemy import create_engine\n",
    "\n",
    "\n",
    "driver = 'mysql+pymysql:'\n",
    "user = 'adria'\n",
    "password = '00000'\n",
    "ip = '35.187.114.125'\n",
    "database = 'vimet'\n",
    "\n",
    "connection_string = f'{driver}//{user}:{password}@{ip}/{database}'\n",
    "engine = create_engine(connection_string)"
   ]
  },
  {
   "cell_type": "code",
   "execution_count": 3,
   "metadata": {},
   "outputs": [],
   "source": [
    "orders = pd.read_sql('orders', con = engine)"
   ]
  },
  {
   "cell_type": "code",
   "execution_count": 4,
   "metadata": {
    "scrolled": true
   },
   "outputs": [
    {
     "data": {
      "text/html": [
       "<div>\n",
       "<style scoped>\n",
       "    .dataframe tbody tr th:only-of-type {\n",
       "        vertical-align: middle;\n",
       "    }\n",
       "\n",
       "    .dataframe tbody tr th {\n",
       "        vertical-align: top;\n",
       "    }\n",
       "\n",
       "    .dataframe thead th {\n",
       "        text-align: right;\n",
       "    }\n",
       "</style>\n",
       "<table border=\"1\" class=\"dataframe\">\n",
       "  <thead>\n",
       "    <tr style=\"text-align: right;\">\n",
       "      <th></th>\n",
       "      <th>index</th>\n",
       "      <th>Name</th>\n",
       "      <th>Customer</th>\n",
       "      <th>Financial Status</th>\n",
       "      <th>Fulfillment Status</th>\n",
       "      <th>Total</th>\n",
       "      <th>Discount Amount</th>\n",
       "      <th>Shipping Method</th>\n",
       "      <th>Shipping Zip</th>\n",
       "      <th>Payment Method</th>\n",
       "      <th>Refunded Amount</th>\n",
       "      <th>Discount Code</th>\n",
       "      <th>Notes</th>\n",
       "    </tr>\n",
       "  </thead>\n",
       "  <tbody>\n",
       "    <tr>\n",
       "      <th>0</th>\n",
       "      <td>0</td>\n",
       "      <td>#1247</td>\n",
       "      <td>1</td>\n",
       "      <td>paid</td>\n",
       "      <td>fulfilled</td>\n",
       "      <td>63.9</td>\n",
       "      <td>0.0</td>\n",
       "      <td>shargo</td>\n",
       "      <td>08041</td>\n",
       "      <td>Stripe</td>\n",
       "      <td>0.0</td>\n",
       "      <td>0</td>\n",
       "      <td>None</td>\n",
       "    </tr>\n",
       "    <tr>\n",
       "      <th>1</th>\n",
       "      <td>1</td>\n",
       "      <td>#1246</td>\n",
       "      <td>2</td>\n",
       "      <td>paid</td>\n",
       "      <td>unfulfilled</td>\n",
       "      <td>94.0</td>\n",
       "      <td>0.0</td>\n",
       "      <td>gratuito</td>\n",
       "      <td>08003</td>\n",
       "      <td>Stripe</td>\n",
       "      <td>0.0</td>\n",
       "      <td>0</td>\n",
       "      <td>None</td>\n",
       "    </tr>\n",
       "    <tr>\n",
       "      <th>2</th>\n",
       "      <td>2</td>\n",
       "      <td>#1245</td>\n",
       "      <td>3</td>\n",
       "      <td>paid</td>\n",
       "      <td>fulfilled</td>\n",
       "      <td>37.4</td>\n",
       "      <td>0.0</td>\n",
       "      <td>shargo</td>\n",
       "      <td>08006</td>\n",
       "      <td>Stripe</td>\n",
       "      <td>0.0</td>\n",
       "      <td>0</td>\n",
       "      <td>None</td>\n",
       "    </tr>\n",
       "    <tr>\n",
       "      <th>3</th>\n",
       "      <td>3</td>\n",
       "      <td>#1244</td>\n",
       "      <td>4</td>\n",
       "      <td>paid</td>\n",
       "      <td>fulfilled</td>\n",
       "      <td>49.9</td>\n",
       "      <td>0.0</td>\n",
       "      <td>shargo</td>\n",
       "      <td>08032</td>\n",
       "      <td>Stripe</td>\n",
       "      <td>0.0</td>\n",
       "      <td>0</td>\n",
       "      <td>None</td>\n",
       "    </tr>\n",
       "    <tr>\n",
       "      <th>4</th>\n",
       "      <td>4</td>\n",
       "      <td>#1243</td>\n",
       "      <td>5</td>\n",
       "      <td>paid</td>\n",
       "      <td>fulfilled</td>\n",
       "      <td>45.0</td>\n",
       "      <td>0.0</td>\n",
       "      <td>shargo</td>\n",
       "      <td>08021</td>\n",
       "      <td>Stripe</td>\n",
       "      <td>0.0</td>\n",
       "      <td>0</td>\n",
       "      <td>None</td>\n",
       "    </tr>\n",
       "  </tbody>\n",
       "</table>\n",
       "</div>"
      ],
      "text/plain": [
       "   index   Name  Customer Financial Status Fulfillment Status  Total  \\\n",
       "0      0  #1247         1             paid          fulfilled   63.9   \n",
       "1      1  #1246         2             paid        unfulfilled   94.0   \n",
       "2      2  #1245         3             paid          fulfilled   37.4   \n",
       "3      3  #1244         4             paid          fulfilled   49.9   \n",
       "4      4  #1243         5             paid          fulfilled   45.0   \n",
       "\n",
       "   Discount Amount Shipping Method Shipping Zip Payment Method  \\\n",
       "0              0.0          shargo        08041         Stripe   \n",
       "1              0.0        gratuito        08003         Stripe   \n",
       "2              0.0          shargo        08006         Stripe   \n",
       "3              0.0          shargo        08032         Stripe   \n",
       "4              0.0          shargo        08021         Stripe   \n",
       "\n",
       "   Refunded Amount  Discount Code Notes  \n",
       "0              0.0              0  None  \n",
       "1              0.0              0  None  \n",
       "2              0.0              0  None  \n",
       "3              0.0              0  None  \n",
       "4              0.0              0  None  "
      ]
     },
     "execution_count": 4,
     "metadata": {},
     "output_type": "execute_result"
    }
   ],
   "source": [
    "orders.head()"
   ]
  },
  {
   "cell_type": "markdown",
   "metadata": {},
   "source": [
    "We have mainly 3 numeric fields in orders. All of them refer to prices and refunds."
   ]
  },
  {
   "cell_type": "markdown",
   "metadata": {},
   "source": [
    "## Numerical features"
   ]
  },
  {
   "cell_type": "code",
   "execution_count": 5,
   "metadata": {},
   "outputs": [
    {
     "data": {
      "text/html": [
       "<div>\n",
       "<style scoped>\n",
       "    .dataframe tbody tr th:only-of-type {\n",
       "        vertical-align: middle;\n",
       "    }\n",
       "\n",
       "    .dataframe tbody tr th {\n",
       "        vertical-align: top;\n",
       "    }\n",
       "\n",
       "    .dataframe thead th {\n",
       "        text-align: right;\n",
       "    }\n",
       "</style>\n",
       "<table border=\"1\" class=\"dataframe\">\n",
       "  <thead>\n",
       "    <tr style=\"text-align: right;\">\n",
       "      <th></th>\n",
       "      <th>Total</th>\n",
       "      <th>Discount Amount</th>\n",
       "      <th>Refunded Amount</th>\n",
       "    </tr>\n",
       "  </thead>\n",
       "  <tbody>\n",
       "    <tr>\n",
       "      <th>count</th>\n",
       "      <td>220.000000</td>\n",
       "      <td>220.000000</td>\n",
       "      <td>220.000000</td>\n",
       "    </tr>\n",
       "    <tr>\n",
       "      <th>mean</th>\n",
       "      <td>66.495182</td>\n",
       "      <td>1.181818</td>\n",
       "      <td>2.026136</td>\n",
       "    </tr>\n",
       "    <tr>\n",
       "      <th>std</th>\n",
       "      <td>43.542480</td>\n",
       "      <td>3.323314</td>\n",
       "      <td>6.155890</td>\n",
       "    </tr>\n",
       "    <tr>\n",
       "      <th>min</th>\n",
       "      <td>2.850000</td>\n",
       "      <td>0.000000</td>\n",
       "      <td>0.000000</td>\n",
       "    </tr>\n",
       "    <tr>\n",
       "      <th>25%</th>\n",
       "      <td>41.997500</td>\n",
       "      <td>0.000000</td>\n",
       "      <td>0.000000</td>\n",
       "    </tr>\n",
       "    <tr>\n",
       "      <th>50%</th>\n",
       "      <td>61.800000</td>\n",
       "      <td>0.000000</td>\n",
       "      <td>0.000000</td>\n",
       "    </tr>\n",
       "    <tr>\n",
       "      <th>75%</th>\n",
       "      <td>79.225000</td>\n",
       "      <td>0.000000</td>\n",
       "      <td>0.000000</td>\n",
       "    </tr>\n",
       "    <tr>\n",
       "      <th>max</th>\n",
       "      <td>344.450000</td>\n",
       "      <td>32.400000</td>\n",
       "      <td>45.400000</td>\n",
       "    </tr>\n",
       "  </tbody>\n",
       "</table>\n",
       "</div>"
      ],
      "text/plain": [
       "            Total  Discount Amount  Refunded Amount\n",
       "count  220.000000       220.000000       220.000000\n",
       "mean    66.495182         1.181818         2.026136\n",
       "std     43.542480         3.323314         6.155890\n",
       "min      2.850000         0.000000         0.000000\n",
       "25%     41.997500         0.000000         0.000000\n",
       "50%     61.800000         0.000000         0.000000\n",
       "75%     79.225000         0.000000         0.000000\n",
       "max    344.450000        32.400000        45.400000"
      ]
     },
     "execution_count": 5,
     "metadata": {},
     "output_type": "execute_result"
    }
   ],
   "source": [
    "orders.describe()[['Total', 'Discount Amount', 'Refunded Amount']]"
   ]
  },
  {
   "cell_type": "code",
   "execution_count": 6,
   "metadata": {},
   "outputs": [
    {
     "name": "stdout",
     "output_type": "stream",
     "text": [
      "The total invoiced is 14628.94 €\n",
      "The total discounts is 260.0 €\n",
      "The total refunds is 445.75 €\n"
     ]
    }
   ],
   "source": [
    "print(f\"The total invoiced is {round(sum(orders['Total']),2)} €\")\n",
    "print (f\"The total discounts is {round(sum(orders['Discount Amount']),2)} €\")\n",
    "print (f\"The total refunds is {round(sum(orders['Refunded Amount']),2)} €\")"
   ]
  },
  {
   "cell_type": "markdown",
   "metadata": {},
   "source": [
    "We will check if there is any correlation between 'Discount Amount' and the 'Total' amount spent."
   ]
  },
  {
   "cell_type": "markdown",
   "metadata": {},
   "source": [
    "### Total"
   ]
  },
  {
   "cell_type": "code",
   "execution_count": 7,
   "metadata": {},
   "outputs": [
    {
     "data": {
      "image/png": "[encoded data removed]",
      "text/plain": [
       "<Figure size 432x288 with 1 Axes>"
      ]
     },
     "metadata": {
      "needs_background": "light"
     },
     "output_type": "display_data"
    }
   ],
   "source": [
    "sns.distplot(orders['Total'])\n",
    "plt.show()"
   ]
  },
  {
   "cell_type": "markdown",
   "metadata": {},
   "source": [
    "### Discount amount"
   ]
  },
  {
   "cell_type": "code",
   "execution_count": 8,
   "metadata": {},
   "outputs": [
    {
     "data": {
      "image/png": "[encoded data removed]",
      "text/plain": [
       "<Figure size 432x288 with 1 Axes>"
      ]
     },
     "metadata": {
      "needs_background": "light"
     },
     "output_type": "display_data"
    }
   ],
   "source": [
    "sns.distplot(orders['Discount Amount'])\n",
    "plt.show()"
   ]
  },
  {
   "cell_type": "markdown",
   "metadata": {},
   "source": [
    "We can see that there are very limited possible values for a discount:"
   ]
  },
  {
   "cell_type": "code",
   "execution_count": 9,
   "metadata": {},
   "outputs": [
    {
     "data": {
      "image/png": "[encoded data removed]",
      "text/plain": [
       "<Figure size 432x288 with 1 Axes>"
      ]
     },
     "metadata": {
      "needs_background": "light"
     },
     "output_type": "display_data"
    }
   ],
   "source": [
    "sns.barplot(x=orders['Discount Amount'].value_counts().index, y= orders['Discount Amount'].value_counts())\n",
    "plt.show()"
   ]
  },
  {
   "cell_type": "markdown",
   "metadata": {},
   "source": [
    "We can see that the most common discount (if any) is 4.9 EUR which corresponds to 'free shipping'."
   ]
  },
  {
   "cell_type": "code",
   "execution_count": 10,
   "metadata": {},
   "outputs": [
    {
     "data": {
      "image/png": "[encoded data removed]",
      "text/plain": [
       "<Figure size 432x288 with 1 Axes>"
      ]
     },
     "metadata": {
      "needs_background": "light"
     },
     "output_type": "display_data"
    }
   ],
   "source": [
    "sns.distplot(orders['Refunded Amount'])\n",
    "plt.show()"
   ]
  },
  {
   "cell_type": "code",
   "execution_count": 11,
   "metadata": {},
   "outputs": [
    {
     "data": {
      "image/png": "[encoded data removed]",
      "text/plain": [
       "<Figure size 432x432 with 3 Axes>"
      ]
     },
     "metadata": {
      "needs_background": "light"
     },
     "output_type": "display_data"
    }
   ],
   "source": [
    "sns.jointplot(x=orders['Total'],y=orders['Discount Amount'])\n",
    "plt.show()"
   ]
  },
  {
   "cell_type": "code",
   "execution_count": 12,
   "metadata": {},
   "outputs": [
    {
     "data": {
      "image/png": "[encoded data removed]",
      "text/plain": [
       "<Figure size 432x432 with 3 Axes>"
      ]
     },
     "metadata": {
      "needs_background": "light"
     },
     "output_type": "display_data"
    }
   ],
   "source": [
    "sns.jointplot(x=orders['Total'],y=orders['Refunded Amount'])\n",
    "plt.show()"
   ]
  },
  {
   "cell_type": "markdown",
   "metadata": {},
   "source": [
    "There is no correlation observed between the discounts and the total amount spent. Additionally, the refunds have'nt any relation either."
   ]
  },
  {
   "cell_type": "markdown",
   "metadata": {},
   "source": [
    "## Cathegorical features"
   ]
  },
  {
   "cell_type": "code",
   "execution_count": 13,
   "metadata": {},
   "outputs": [
    {
     "data": {
      "text/html": [
       "<div>\n",
       "<style scoped>\n",
       "    .dataframe tbody tr th:only-of-type {\n",
       "        vertical-align: middle;\n",
       "    }\n",
       "\n",
       "    .dataframe tbody tr th {\n",
       "        vertical-align: top;\n",
       "    }\n",
       "\n",
       "    .dataframe thead th {\n",
       "        text-align: right;\n",
       "    }\n",
       "</style>\n",
       "<table border=\"1\" class=\"dataframe\">\n",
       "  <thead>\n",
       "    <tr style=\"text-align: right;\">\n",
       "      <th></th>\n",
       "      <th>index</th>\n",
       "      <th>Name</th>\n",
       "      <th>Customer</th>\n",
       "      <th>Financial Status</th>\n",
       "      <th>Fulfillment Status</th>\n",
       "      <th>Total</th>\n",
       "      <th>Discount Amount</th>\n",
       "      <th>Shipping Method</th>\n",
       "      <th>Shipping Zip</th>\n",
       "      <th>Payment Method</th>\n",
       "      <th>Refunded Amount</th>\n",
       "      <th>Discount Code</th>\n",
       "      <th>Notes</th>\n",
       "    </tr>\n",
       "  </thead>\n",
       "  <tbody>\n",
       "    <tr>\n",
       "      <th>0</th>\n",
       "      <td>0</td>\n",
       "      <td>#1247</td>\n",
       "      <td>1</td>\n",
       "      <td>paid</td>\n",
       "      <td>fulfilled</td>\n",
       "      <td>63.9</td>\n",
       "      <td>0.0</td>\n",
       "      <td>shargo</td>\n",
       "      <td>08041</td>\n",
       "      <td>Stripe</td>\n",
       "      <td>0.0</td>\n",
       "      <td>0</td>\n",
       "      <td>None</td>\n",
       "    </tr>\n",
       "    <tr>\n",
       "      <th>1</th>\n",
       "      <td>1</td>\n",
       "      <td>#1246</td>\n",
       "      <td>2</td>\n",
       "      <td>paid</td>\n",
       "      <td>unfulfilled</td>\n",
       "      <td>94.0</td>\n",
       "      <td>0.0</td>\n",
       "      <td>gratuito</td>\n",
       "      <td>08003</td>\n",
       "      <td>Stripe</td>\n",
       "      <td>0.0</td>\n",
       "      <td>0</td>\n",
       "      <td>None</td>\n",
       "    </tr>\n",
       "    <tr>\n",
       "      <th>2</th>\n",
       "      <td>2</td>\n",
       "      <td>#1245</td>\n",
       "      <td>3</td>\n",
       "      <td>paid</td>\n",
       "      <td>fulfilled</td>\n",
       "      <td>37.4</td>\n",
       "      <td>0.0</td>\n",
       "      <td>shargo</td>\n",
       "      <td>08006</td>\n",
       "      <td>Stripe</td>\n",
       "      <td>0.0</td>\n",
       "      <td>0</td>\n",
       "      <td>None</td>\n",
       "    </tr>\n",
       "    <tr>\n",
       "      <th>3</th>\n",
       "      <td>3</td>\n",
       "      <td>#1244</td>\n",
       "      <td>4</td>\n",
       "      <td>paid</td>\n",
       "      <td>fulfilled</td>\n",
       "      <td>49.9</td>\n",
       "      <td>0.0</td>\n",
       "      <td>shargo</td>\n",
       "      <td>08032</td>\n",
       "      <td>Stripe</td>\n",
       "      <td>0.0</td>\n",
       "      <td>0</td>\n",
       "      <td>None</td>\n",
       "    </tr>\n",
       "    <tr>\n",
       "      <th>4</th>\n",
       "      <td>4</td>\n",
       "      <td>#1243</td>\n",
       "      <td>5</td>\n",
       "      <td>paid</td>\n",
       "      <td>fulfilled</td>\n",
       "      <td>45.0</td>\n",
       "      <td>0.0</td>\n",
       "      <td>shargo</td>\n",
       "      <td>08021</td>\n",
       "      <td>Stripe</td>\n",
       "      <td>0.0</td>\n",
       "      <td>0</td>\n",
       "      <td>None</td>\n",
       "    </tr>\n",
       "  </tbody>\n",
       "</table>\n",
       "</div>"
      ],
      "text/plain": [
       "   index   Name  Customer Financial Status Fulfillment Status  Total  \\\n",
       "0      0  #1247         1             paid          fulfilled   63.9   \n",
       "1      1  #1246         2             paid        unfulfilled   94.0   \n",
       "2      2  #1245         3             paid          fulfilled   37.4   \n",
       "3      3  #1244         4             paid          fulfilled   49.9   \n",
       "4      4  #1243         5             paid          fulfilled   45.0   \n",
       "\n",
       "   Discount Amount Shipping Method Shipping Zip Payment Method  \\\n",
       "0              0.0          shargo        08041         Stripe   \n",
       "1              0.0        gratuito        08003         Stripe   \n",
       "2              0.0          shargo        08006         Stripe   \n",
       "3              0.0          shargo        08032         Stripe   \n",
       "4              0.0          shargo        08021         Stripe   \n",
       "\n",
       "   Refunded Amount  Discount Code Notes  \n",
       "0              0.0              0  None  \n",
       "1              0.0              0  None  \n",
       "2              0.0              0  None  \n",
       "3              0.0              0  None  \n",
       "4              0.0              0  None  "
      ]
     },
     "execution_count": 13,
     "metadata": {},
     "output_type": "execute_result"
    }
   ],
   "source": [
    "orders.head()"
   ]
  },
  {
   "cell_type": "markdown",
   "metadata": {},
   "source": [
    "## Financial status"
   ]
  },
  {
   "cell_type": "code",
   "execution_count": 14,
   "metadata": {},
   "outputs": [
    {
     "data": {
      "image/png": "[encoded data removed]",
      "text/plain": [
       "<Figure size 432x288 with 1 Axes>"
      ]
     },
     "metadata": {
      "needs_background": "light"
     },
     "output_type": "display_data"
    }
   ],
   "source": [
    "sns.barplot(x=orders['Financial Status'].value_counts().index, y = orders['Financial Status'].value_counts())\n",
    "plt.show()"
   ]
  },
  {
   "cell_type": "markdown",
   "metadata": {},
   "source": [
    "## Fulfillment status"
   ]
  },
  {
   "cell_type": "code",
   "execution_count": 15,
   "metadata": {},
   "outputs": [
    {
     "data": {
      "image/png": "[encoded data removed]",
      "text/plain": [
       "<Figure size 432x288 with 1 Axes>"
      ]
     },
     "metadata": {
      "needs_background": "light"
     },
     "output_type": "display_data"
    }
   ],
   "source": [
    "sns.barplot(x= orders['Fulfillment Status'].value_counts().index, y=orders['Fulfillment Status'].value_counts())\n",
    "plt.show()"
   ]
  },
  {
   "cell_type": "markdown",
   "metadata": {},
   "source": [
    "## Shipping method"
   ]
  },
  {
   "cell_type": "code",
   "execution_count": 16,
   "metadata": {},
   "outputs": [
    {
     "data": {
      "image/png": "[encoded data removed]",
      "text/plain": [
       "<Figure size 432x288 with 1 Axes>"
      ]
     },
     "metadata": {
      "needs_background": "light"
     },
     "output_type": "display_data"
    }
   ],
   "source": [
    "sns.barplot(x=orders['Shipping Method'].value_counts().index, y=orders['Shipping Method'].value_counts())\n",
    "plt.show()"
   ]
  },
  {
   "cell_type": "markdown",
   "metadata": {},
   "source": [
    "## Location of the deliveries"
   ]
  },
  {
   "cell_type": "code",
   "execution_count": 17,
   "metadata": {},
   "outputs": [],
   "source": [
    "# We create a new dataframe to be able to access the frequency of each zip code.\n",
    "orders_per_zip = orders['Shipping Zip'].value_counts().reset_index()"
   ]
  },
  {
   "cell_type": "code",
   "execution_count": 18,
   "metadata": {},
   "outputs": [],
   "source": [
    "# We create a dictionary with the approximate coordinates of each zip code to be able to build a map.\n",
    "\n",
    "zip_coord = {'08021': (41.397834, 2.139866), '08006':(41.399802, 2.148402), '08034': (41.394100, 2.112257), \n",
    " '08017': (41.416779, 2.099958), '08041': (41.418612, 2.176570), '08023': (41.413024, 2.142874),\n",
    " '08012': (41.402486, 2.155635), '08005': (41.398042, 2.200548), '08037': (41.399330, 2.165179),\n",
    " '08008': (41.395246, 2.159904), '08009': (41.394974, 2.170825), '08029': (41.389274, 2.141904),\n",
    " '08036': (41.389867, 2.150552), '08032': (41.423789, 2.161454), '08018': (41.403284, 2.191562),\n",
    " '08028': (41.379177, 2.127690), '08024': (41.412017, 2.157952), '08022': (41.409829, 2.132717),\n",
    " '08980': (41.399206, 2.052781), '08193': (41.496427, 2.089686), '08003': (41.384383, 2.184302)}"
   ]
  },
  {
   "cell_type": "code",
   "execution_count": 19,
   "metadata": {
    "scrolled": true
   },
   "outputs": [],
   "source": [
    "# We create a map using the dictionary for the coordinates and the post code, which will be the popup text but also\n",
    "# will be used to find the frequency of such code in the dataframe. Such frequency will define the radius.\n",
    "import folium\n",
    "latlon = list(zip_coord.items())\n",
    "m = folium.Map(location=[41.397834, 2.139866], tiles='Stamen Toner', zoom_start=13)\n",
    "for code, coord in zip_coord.items():\n",
    "    folium.CircleMarker(location=list(coord), \n",
    "                        radius=int(orders_per_zip[orders_per_zip['index']==code]['Shipping Zip']), \n",
    "                        popup=code, color='#3186cc', fill=True, \n",
    "                        fill_color='#3186cc').add_to(m)"
   ]
  },
  {
   "cell_type": "code",
   "execution_count": 20,
   "metadata": {},
   "outputs": [
    {
     "data": {
      "text/html": [
       "<div style=\"width:100%;\"><div style=\"position:relative;width:100%;height:0;padding-bottom:60%;\"><iframe src=\"data:text/html;charset=utf-8;base64,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\" style=\"position:absolute;width:100%;height:100%;left:0;top:0;border:none !important;\" allowfullscreen webkitallowfullscreen mozallowfullscreen></iframe></div></div>"
      ],
      "text/plain": [
       "<folium.folium.Map at 0x124409ba8>"
      ]
     },
     "execution_count": 20,
     "metadata": {},
     "output_type": "execute_result"
    }
   ],
   "source": [
    "m"
   ]
  },
  {
   "cell_type": "code",
   "execution_count": 21,
   "metadata": {},
   "outputs": [],
   "source": [
    "m.save('map.html')"
   ]
  },
  {
   "cell_type": "markdown",
   "metadata": {},
   "source": [
    "We can see that most of the deliveries are concetrated in one are in Barcelona."
   ]
  },
  {
   "cell_type": "markdown",
   "metadata": {},
   "source": [
    "## Payment method"
   ]
  },
  {
   "cell_type": "code",
   "execution_count": 22,
   "metadata": {},
   "outputs": [
    {
     "data": {
      "image/png": "[encoded data removed]",
      "text/plain": [
       "<Figure size 432x288 with 1 Axes>"
      ]
     },
     "metadata": {
      "needs_background": "light"
     },
     "output_type": "display_data"
    }
   ],
   "source": [
    "sns.barplot(x = orders['Payment Method'].value_counts().index, y =orders['Payment Method'].value_counts())\n",
    "plt.show()"
   ]
  },
  {
   "cell_type": "markdown",
   "metadata": {},
   "source": [
    "## Discount code"
   ]
  },
  {
   "cell_type": "code",
   "execution_count": 23,
   "metadata": {},
   "outputs": [
    {
     "data": {
      "text/html": [
       "<div>\n",
       "<style scoped>\n",
       "    .dataframe tbody tr th:only-of-type {\n",
       "        vertical-align: middle;\n",
       "    }\n",
       "\n",
       "    .dataframe tbody tr th {\n",
       "        vertical-align: top;\n",
       "    }\n",
       "\n",
       "    .dataframe thead th {\n",
       "        text-align: right;\n",
       "    }\n",
       "</style>\n",
       "<table border=\"1\" class=\"dataframe\">\n",
       "  <thead>\n",
       "    <tr style=\"text-align: right;\">\n",
       "      <th></th>\n",
       "      <th>index</th>\n",
       "      <th>Name</th>\n",
       "      <th>Customer</th>\n",
       "      <th>Financial Status</th>\n",
       "      <th>Fulfillment Status</th>\n",
       "      <th>Total</th>\n",
       "      <th>Discount Amount</th>\n",
       "      <th>Shipping Method</th>\n",
       "      <th>Shipping Zip</th>\n",
       "      <th>Payment Method</th>\n",
       "      <th>Refunded Amount</th>\n",
       "      <th>Discount Code</th>\n",
       "      <th>Notes</th>\n",
       "    </tr>\n",
       "  </thead>\n",
       "  <tbody>\n",
       "    <tr>\n",
       "      <th>0</th>\n",
       "      <td>0</td>\n",
       "      <td>#1247</td>\n",
       "      <td>1</td>\n",
       "      <td>paid</td>\n",
       "      <td>fulfilled</td>\n",
       "      <td>63.9</td>\n",
       "      <td>0.0</td>\n",
       "      <td>shargo</td>\n",
       "      <td>08041</td>\n",
       "      <td>Stripe</td>\n",
       "      <td>0.0</td>\n",
       "      <td>0</td>\n",
       "      <td>None</td>\n",
       "    </tr>\n",
       "    <tr>\n",
       "      <th>1</th>\n",
       "      <td>1</td>\n",
       "      <td>#1246</td>\n",
       "      <td>2</td>\n",
       "      <td>paid</td>\n",
       "      <td>unfulfilled</td>\n",
       "      <td>94.0</td>\n",
       "      <td>0.0</td>\n",
       "      <td>gratuito</td>\n",
       "      <td>08003</td>\n",
       "      <td>Stripe</td>\n",
       "      <td>0.0</td>\n",
       "      <td>0</td>\n",
       "      <td>None</td>\n",
       "    </tr>\n",
       "    <tr>\n",
       "      <th>2</th>\n",
       "      <td>2</td>\n",
       "      <td>#1245</td>\n",
       "      <td>3</td>\n",
       "      <td>paid</td>\n",
       "      <td>fulfilled</td>\n",
       "      <td>37.4</td>\n",
       "      <td>0.0</td>\n",
       "      <td>shargo</td>\n",
       "      <td>08006</td>\n",
       "      <td>Stripe</td>\n",
       "      <td>0.0</td>\n",
       "      <td>0</td>\n",
       "      <td>None</td>\n",
       "    </tr>\n",
       "    <tr>\n",
       "      <th>3</th>\n",
       "      <td>3</td>\n",
       "      <td>#1244</td>\n",
       "      <td>4</td>\n",
       "      <td>paid</td>\n",
       "      <td>fulfilled</td>\n",
       "      <td>49.9</td>\n",
       "      <td>0.0</td>\n",
       "      <td>shargo</td>\n",
       "      <td>08032</td>\n",
       "      <td>Stripe</td>\n",
       "      <td>0.0</td>\n",
       "      <td>0</td>\n",
       "      <td>None</td>\n",
       "    </tr>\n",
       "    <tr>\n",
       "      <th>4</th>\n",
       "      <td>4</td>\n",
       "      <td>#1243</td>\n",
       "      <td>5</td>\n",
       "      <td>paid</td>\n",
       "      <td>fulfilled</td>\n",
       "      <td>45.0</td>\n",
       "      <td>0.0</td>\n",
       "      <td>shargo</td>\n",
       "      <td>08021</td>\n",
       "      <td>Stripe</td>\n",
       "      <td>0.0</td>\n",
       "      <td>0</td>\n",
       "      <td>None</td>\n",
       "    </tr>\n",
       "  </tbody>\n",
       "</table>\n",
       "</div>"
      ],
      "text/plain": [
       "   index   Name  Customer Financial Status Fulfillment Status  Total  \\\n",
       "0      0  #1247         1             paid          fulfilled   63.9   \n",
       "1      1  #1246         2             paid        unfulfilled   94.0   \n",
       "2      2  #1245         3             paid          fulfilled   37.4   \n",
       "3      3  #1244         4             paid          fulfilled   49.9   \n",
       "4      4  #1243         5             paid          fulfilled   45.0   \n",
       "\n",
       "   Discount Amount Shipping Method Shipping Zip Payment Method  \\\n",
       "0              0.0          shargo        08041         Stripe   \n",
       "1              0.0        gratuito        08003         Stripe   \n",
       "2              0.0          shargo        08006         Stripe   \n",
       "3              0.0          shargo        08032         Stripe   \n",
       "4              0.0          shargo        08021         Stripe   \n",
       "\n",
       "   Refunded Amount  Discount Code Notes  \n",
       "0              0.0              0  None  \n",
       "1              0.0              0  None  \n",
       "2              0.0              0  None  \n",
       "3              0.0              0  None  \n",
       "4              0.0              0  None  "
      ]
     },
     "execution_count": 23,
     "metadata": {},
     "output_type": "execute_result"
    }
   ],
   "source": [
    "orders.head()"
   ]
  },
  {
   "cell_type": "code",
   "execution_count": 24,
   "metadata": {},
   "outputs": [
    {
     "data": {
      "image/png": "[encoded data removed]",
      "text/plain": [
       "<Figure size 432x288 with 1 Axes>"
      ]
     },
     "metadata": {
      "needs_background": "light"
     },
     "output_type": "display_data"
    }
   ],
   "source": [
    "sns.barplot( x= orders['Discount Code'].value_counts().index, y=orders['Discount Code'].value_counts())\n",
    "plt.show()"
   ]
  },
  {
   "cell_type": "markdown",
   "metadata": {},
   "source": [
    "We will not analyse the notes for now."
   ]
  }
 ],
 "metadata": {
  "kernelspec": {
   "display_name": "Python 3",
   "language": "python",
   "name": "python3"
  },
  "language_info": {
   "codemirror_mode": {
    "name": "ipython",
    "version": 3
   },
   "file_extension": ".py",
   "mimetype": "text/x-python",
   "name": "python",
   "nbconvert_exporter": "python",
   "pygments_lexer": "ipython3",
   "version": "3.7.2"
  }
 },
 "nbformat": 4,
 "nbformat_minor": 2
}
