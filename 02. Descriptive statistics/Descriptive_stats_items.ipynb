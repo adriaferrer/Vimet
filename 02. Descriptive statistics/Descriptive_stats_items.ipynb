{
 "cells": [
  {
   "cell_type": "code",
   "execution_count": 1,
   "metadata": {},
   "outputs": [],
   "source": [
    "import pandas as pd\n",
    "import matplotlib.pyplot as plt\n",
    "import seaborn as sns\n",
    "import sys\n",
    "sys.path.append('../DB_access')\n",
    "import credentials as cred"
   ]
  },
  {
   "cell_type": "markdown",
   "metadata": {},
   "source": [
    "# Load the data"
   ]
  },
  {
   "cell_type": "code",
   "execution_count": 2,
   "metadata": {},
   "outputs": [],
   "source": [
    "from sqlalchemy import create_engine\n",
    "\n",
    "\n",
    "driver = cred.driver()\n",
    "user = cred.user()\n",
    "password = cred.password()\n",
    "ip = cred.ip()\n",
    "database = cred.database()\n",
    "\n",
    "connection_string = f'{driver}//{user}:{password}@{ip}/{database}'\n",
    "engine = create_engine(connection_string)"
   ]
  },
  {
   "cell_type": "code",
   "execution_count": 3,
   "metadata": {},
   "outputs": [
    {
     "data": {
      "text/html": [
       "<div>\n",
       "<style scoped>\n",
       "    .dataframe tbody tr th:only-of-type {\n",
       "        vertical-align: middle;\n",
       "    }\n",
       "\n",
       "    .dataframe tbody tr th {\n",
       "        vertical-align: top;\n",
       "    }\n",
       "\n",
       "    .dataframe thead th {\n",
       "        text-align: right;\n",
       "    }\n",
       "</style>\n",
       "<table border=\"1\" class=\"dataframe\">\n",
       "  <thead>\n",
       "    <tr style=\"text-align: right;\">\n",
       "      <th></th>\n",
       "      <th>Name</th>\n",
       "      <th>Lineitem quantity</th>\n",
       "      <th>Lineitem name</th>\n",
       "      <th>Lineitem price</th>\n",
       "      <th>Lineitem fulfillment status</th>\n",
       "      <th>Cancelled at</th>\n",
       "      <th>Refunded Amount</th>\n",
       "      <th>Vendor</th>\n",
       "      <th>Lineitem discount</th>\n",
       "      <th>tags</th>\n",
       "    </tr>\n",
       "  </thead>\n",
       "  <tbody>\n",
       "    <tr>\n",
       "      <th>0</th>\n",
       "      <td>#1248</td>\n",
       "      <td>4</td>\n",
       "      <td>Plátano Canarias - 3/4 unidades</td>\n",
       "      <td>1.95</td>\n",
       "      <td>fulfilled</td>\n",
       "      <td>not cancelled</td>\n",
       "      <td>0.0</td>\n",
       "      <td>Fruites i Verdures Rovira</td>\n",
       "      <td>0</td>\n",
       "      <td>Plátano</td>\n",
       "    </tr>\n",
       "    <tr>\n",
       "      <th>1</th>\n",
       "      <td>#1248</td>\n",
       "      <td>2</td>\n",
       "      <td>Fresón Maresme - 1 caja (500 grs.)</td>\n",
       "      <td>3.50</td>\n",
       "      <td>fulfilled</td>\n",
       "      <td>not cancelled</td>\n",
       "      <td>0.0</td>\n",
       "      <td>Fruites i Verdures Rovira</td>\n",
       "      <td>0</td>\n",
       "      <td>Fresón</td>\n",
       "    </tr>\n",
       "    <tr>\n",
       "      <th>2</th>\n",
       "      <td>#1248</td>\n",
       "      <td>1</td>\n",
       "      <td>Tomate Cherry - 200 grs</td>\n",
       "      <td>1.30</td>\n",
       "      <td>fulfilled</td>\n",
       "      <td>not cancelled</td>\n",
       "      <td>0.0</td>\n",
       "      <td>Fruites i Verdures Rovira</td>\n",
       "      <td>0</td>\n",
       "      <td>Tomate</td>\n",
       "    </tr>\n",
       "    <tr>\n",
       "      <th>3</th>\n",
       "      <td>#1248</td>\n",
       "      <td>1</td>\n",
       "      <td>Nueces California sin cáscara - 200 grs</td>\n",
       "      <td>3.44</td>\n",
       "      <td>fulfilled</td>\n",
       "      <td>not cancelled</td>\n",
       "      <td>0.0</td>\n",
       "      <td>Llegums Porta Novau</td>\n",
       "      <td>0</td>\n",
       "      <td>Nuez</td>\n",
       "    </tr>\n",
       "    <tr>\n",
       "      <th>4</th>\n",
       "      <td>#1248</td>\n",
       "      <td>3</td>\n",
       "      <td>Mandarina Orri - 500 grs.</td>\n",
       "      <td>2.00</td>\n",
       "      <td>fulfilled</td>\n",
       "      <td>not cancelled</td>\n",
       "      <td>0.0</td>\n",
       "      <td>Fruites i Verdures Rovira</td>\n",
       "      <td>0</td>\n",
       "      <td>Mandarina</td>\n",
       "    </tr>\n",
       "  </tbody>\n",
       "</table>\n",
       "</div>"
      ],
      "text/plain": [
       "    Name  Lineitem quantity                            Lineitem name  \\\n",
       "0  #1248                  4          Plátano Canarias - 3/4 unidades   \n",
       "1  #1248                  2       Fresón Maresme - 1 caja (500 grs.)   \n",
       "2  #1248                  1                  Tomate Cherry - 200 grs   \n",
       "3  #1248                  1  Nueces California sin cáscara - 200 grs   \n",
       "4  #1248                  3                Mandarina Orri - 500 grs.   \n",
       "\n",
       "   Lineitem price Lineitem fulfillment status   Cancelled at  Refunded Amount  \\\n",
       "0            1.95                   fulfilled  not cancelled              0.0   \n",
       "1            3.50                   fulfilled  not cancelled              0.0   \n",
       "2            1.30                   fulfilled  not cancelled              0.0   \n",
       "3            3.44                   fulfilled  not cancelled              0.0   \n",
       "4            2.00                   fulfilled  not cancelled              0.0   \n",
       "\n",
       "                      Vendor  Lineitem discount       tags  \n",
       "0  Fruites i Verdures Rovira                  0    Plátano  \n",
       "1  Fruites i Verdures Rovira                  0     Fresón  \n",
       "2  Fruites i Verdures Rovira                  0     Tomate  \n",
       "3        Llegums Porta Novau                  0       Nuez  \n",
       "4  Fruites i Verdures Rovira                  0  Mandarina  "
      ]
     },
     "execution_count": 3,
     "metadata": {},
     "output_type": "execute_result"
    }
   ],
   "source": [
    "items = pd.read_sql('items', con = engine)\n",
    "items = items.drop(columns='index')\n",
    "items.head()"
   ]
  },
  {
   "cell_type": "code",
   "execution_count": 4,
   "metadata": {},
   "outputs": [
    {
     "data": {
      "text/plain": [
       "154"
      ]
     },
     "execution_count": 4,
     "metadata": {},
     "output_type": "execute_result"
    }
   ],
   "source": [
    "len(items['tags'].value_counts())"
   ]
  },
  {
   "cell_type": "markdown",
   "metadata": {},
   "source": [
    "We have 154 different items, we will cluster them creating a tag2 with more general terms, according to a reference on mediterranean diet:\n",
    "* Dulces\n",
    "* Patata\n",
    "* Carne roja\n",
    "* Carne procesada\n",
    "* Carne blanca\n",
    "* Pescado\n",
    "* Huevos\n",
    "* Legumbres\n",
    "* Lácteos\n",
    "* Especias\n",
    "* Frutos secos\n",
    "* Frutas\n",
    "* Verduras\n",
    "* Cereales\n",
    "* Aceite"
   ]
  },
  {
   "cell_type": "code",
   "execution_count": 5,
   "metadata": {},
   "outputs": [],
   "source": [
    "# This function will add a Series with the nutrition group\n",
    "import sys\n",
    "sys.path.append('../CustomLib')\n",
    "import vimet as vim\n",
    "\n",
    "items = vim.group_tags(items)"
   ]
  },
  {
   "cell_type": "code",
   "execution_count": 6,
   "metadata": {},
   "outputs": [
    {
     "data": {
      "text/html": [
       "<div>\n",
       "<style scoped>\n",
       "    .dataframe tbody tr th:only-of-type {\n",
       "        vertical-align: middle;\n",
       "    }\n",
       "\n",
       "    .dataframe tbody tr th {\n",
       "        vertical-align: top;\n",
       "    }\n",
       "\n",
       "    .dataframe thead th {\n",
       "        text-align: right;\n",
       "    }\n",
       "</style>\n",
       "<table border=\"1\" class=\"dataframe\">\n",
       "  <thead>\n",
       "    <tr style=\"text-align: right;\">\n",
       "      <th></th>\n",
       "      <th>Name</th>\n",
       "      <th>Lineitem quantity</th>\n",
       "      <th>Lineitem name</th>\n",
       "      <th>Lineitem price</th>\n",
       "      <th>Lineitem fulfillment status</th>\n",
       "      <th>Cancelled at</th>\n",
       "      <th>Refunded Amount</th>\n",
       "      <th>Vendor</th>\n",
       "      <th>Lineitem discount</th>\n",
       "      <th>tags</th>\n",
       "      <th>group_tags</th>\n",
       "    </tr>\n",
       "  </thead>\n",
       "  <tbody>\n",
       "    <tr>\n",
       "      <th>0</th>\n",
       "      <td>#1248</td>\n",
       "      <td>4</td>\n",
       "      <td>Plátano Canarias - 3/4 unidades</td>\n",
       "      <td>1.95</td>\n",
       "      <td>fulfilled</td>\n",
       "      <td>not cancelled</td>\n",
       "      <td>0.0</td>\n",
       "      <td>Fruites i Verdures Rovira</td>\n",
       "      <td>0</td>\n",
       "      <td>Plátano</td>\n",
       "      <td>Frutas</td>\n",
       "    </tr>\n",
       "    <tr>\n",
       "      <th>1</th>\n",
       "      <td>#1248</td>\n",
       "      <td>2</td>\n",
       "      <td>Fresón Maresme - 1 caja (500 grs.)</td>\n",
       "      <td>3.50</td>\n",
       "      <td>fulfilled</td>\n",
       "      <td>not cancelled</td>\n",
       "      <td>0.0</td>\n",
       "      <td>Fruites i Verdures Rovira</td>\n",
       "      <td>0</td>\n",
       "      <td>Fresón</td>\n",
       "      <td>Frutas</td>\n",
       "    </tr>\n",
       "    <tr>\n",
       "      <th>2</th>\n",
       "      <td>#1248</td>\n",
       "      <td>1</td>\n",
       "      <td>Tomate Cherry - 200 grs</td>\n",
       "      <td>1.30</td>\n",
       "      <td>fulfilled</td>\n",
       "      <td>not cancelled</td>\n",
       "      <td>0.0</td>\n",
       "      <td>Fruites i Verdures Rovira</td>\n",
       "      <td>0</td>\n",
       "      <td>Tomate</td>\n",
       "      <td>Verduras</td>\n",
       "    </tr>\n",
       "    <tr>\n",
       "      <th>3</th>\n",
       "      <td>#1248</td>\n",
       "      <td>1</td>\n",
       "      <td>Nueces California sin cáscara - 200 grs</td>\n",
       "      <td>3.44</td>\n",
       "      <td>fulfilled</td>\n",
       "      <td>not cancelled</td>\n",
       "      <td>0.0</td>\n",
       "      <td>Llegums Porta Novau</td>\n",
       "      <td>0</td>\n",
       "      <td>Nuez</td>\n",
       "      <td>Frutos secos</td>\n",
       "    </tr>\n",
       "    <tr>\n",
       "      <th>4</th>\n",
       "      <td>#1248</td>\n",
       "      <td>3</td>\n",
       "      <td>Mandarina Orri - 500 grs.</td>\n",
       "      <td>2.00</td>\n",
       "      <td>fulfilled</td>\n",
       "      <td>not cancelled</td>\n",
       "      <td>0.0</td>\n",
       "      <td>Fruites i Verdures Rovira</td>\n",
       "      <td>0</td>\n",
       "      <td>Mandarina</td>\n",
       "      <td>Frutas</td>\n",
       "    </tr>\n",
       "  </tbody>\n",
       "</table>\n",
       "</div>"
      ],
      "text/plain": [
       "    Name  Lineitem quantity                            Lineitem name  \\\n",
       "0  #1248                  4          Plátano Canarias - 3/4 unidades   \n",
       "1  #1248                  2       Fresón Maresme - 1 caja (500 grs.)   \n",
       "2  #1248                  1                  Tomate Cherry - 200 grs   \n",
       "3  #1248                  1  Nueces California sin cáscara - 200 grs   \n",
       "4  #1248                  3                Mandarina Orri - 500 grs.   \n",
       "\n",
       "   Lineitem price Lineitem fulfillment status   Cancelled at  Refunded Amount  \\\n",
       "0            1.95                   fulfilled  not cancelled              0.0   \n",
       "1            3.50                   fulfilled  not cancelled              0.0   \n",
       "2            1.30                   fulfilled  not cancelled              0.0   \n",
       "3            3.44                   fulfilled  not cancelled              0.0   \n",
       "4            2.00                   fulfilled  not cancelled              0.0   \n",
       "\n",
       "                      Vendor  Lineitem discount       tags    group_tags  \n",
       "0  Fruites i Verdures Rovira                  0    Plátano        Frutas  \n",
       "1  Fruites i Verdures Rovira                  0     Fresón        Frutas  \n",
       "2  Fruites i Verdures Rovira                  0     Tomate      Verduras  \n",
       "3        Llegums Porta Novau                  0       Nuez  Frutos secos  \n",
       "4  Fruites i Verdures Rovira                  0  Mandarina        Frutas  "
      ]
     },
     "execution_count": 6,
     "metadata": {},
     "output_type": "execute_result"
    }
   ],
   "source": [
    "items.head()"
   ]
  },
  {
   "cell_type": "markdown",
   "metadata": {},
   "source": [
    "# Numerical cathegories"
   ]
  },
  {
   "cell_type": "code",
   "execution_count": 7,
   "metadata": {
    "scrolled": true
   },
   "outputs": [
    {
     "data": {
      "text/html": [
       "<div>\n",
       "<style scoped>\n",
       "    .dataframe tbody tr th:only-of-type {\n",
       "        vertical-align: middle;\n",
       "    }\n",
       "\n",
       "    .dataframe tbody tr th {\n",
       "        vertical-align: top;\n",
       "    }\n",
       "\n",
       "    .dataframe thead th {\n",
       "        text-align: right;\n",
       "    }\n",
       "</style>\n",
       "<table border=\"1\" class=\"dataframe\">\n",
       "  <thead>\n",
       "    <tr style=\"text-align: right;\">\n",
       "      <th></th>\n",
       "      <th>Lineitem quantity</th>\n",
       "      <th>Lineitem price</th>\n",
       "      <th>Refunded Amount</th>\n",
       "      <th>Lineitem discount</th>\n",
       "    </tr>\n",
       "  </thead>\n",
       "  <tbody>\n",
       "    <tr>\n",
       "      <th>count</th>\n",
       "      <td>3120.000000</td>\n",
       "      <td>3120.000000</td>\n",
       "      <td>3120.000000</td>\n",
       "      <td>3120.0</td>\n",
       "    </tr>\n",
       "    <tr>\n",
       "      <th>mean</th>\n",
       "      <td>1.173718</td>\n",
       "      <td>3.333179</td>\n",
       "      <td>0.624708</td>\n",
       "      <td>0.0</td>\n",
       "    </tr>\n",
       "    <tr>\n",
       "      <th>std</th>\n",
       "      <td>0.895975</td>\n",
       "      <td>3.516737</td>\n",
       "      <td>9.384542</td>\n",
       "      <td>0.0</td>\n",
       "    </tr>\n",
       "    <tr>\n",
       "      <th>min</th>\n",
       "      <td>1.000000</td>\n",
       "      <td>0.250000</td>\n",
       "      <td>0.000000</td>\n",
       "      <td>0.0</td>\n",
       "    </tr>\n",
       "    <tr>\n",
       "      <th>25%</th>\n",
       "      <td>1.000000</td>\n",
       "      <td>1.600000</td>\n",
       "      <td>0.000000</td>\n",
       "      <td>0.0</td>\n",
       "    </tr>\n",
       "    <tr>\n",
       "      <th>50%</th>\n",
       "      <td>1.000000</td>\n",
       "      <td>2.400000</td>\n",
       "      <td>0.000000</td>\n",
       "      <td>0.0</td>\n",
       "    </tr>\n",
       "    <tr>\n",
       "      <th>75%</th>\n",
       "      <td>1.000000</td>\n",
       "      <td>3.800000</td>\n",
       "      <td>0.000000</td>\n",
       "      <td>0.0</td>\n",
       "    </tr>\n",
       "    <tr>\n",
       "      <th>max</th>\n",
       "      <td>30.000000</td>\n",
       "      <td>60.000000</td>\n",
       "      <td>309.000000</td>\n",
       "      <td>0.0</td>\n",
       "    </tr>\n",
       "  </tbody>\n",
       "</table>\n",
       "</div>"
      ],
      "text/plain": [
       "       Lineitem quantity  Lineitem price  Refunded Amount  Lineitem discount\n",
       "count        3120.000000     3120.000000      3120.000000             3120.0\n",
       "mean            1.173718        3.333179         0.624708                0.0\n",
       "std             0.895975        3.516737         9.384542                0.0\n",
       "min             1.000000        0.250000         0.000000                0.0\n",
       "25%             1.000000        1.600000         0.000000                0.0\n",
       "50%             1.000000        2.400000         0.000000                0.0\n",
       "75%             1.000000        3.800000         0.000000                0.0\n",
       "max            30.000000       60.000000       309.000000                0.0"
      ]
     },
     "execution_count": 7,
     "metadata": {},
     "output_type": "execute_result"
    }
   ],
   "source": [
    "items.describe()"
   ]
  },
  {
   "cell_type": "markdown",
   "metadata": {},
   "source": [
    "## Lineitem quantity"
   ]
  },
  {
   "cell_type": "code",
   "execution_count": 8,
   "metadata": {},
   "outputs": [
    {
     "data": {
      "image/png": "[encoded data removed]",
      "text/plain": [
       "<Figure size 720x360 with 1 Axes>"
      ]
     },
     "metadata": {
      "needs_background": "light"
     },
     "output_type": "display_data"
    }
   ],
   "source": [
    "plt.figure(figsize=(10,5))\n",
    "sns.distplot(items['Lineitem quantity'])\n",
    "plt.title(\"Item quantity ditribution\")\n",
    "\n",
    "plt.show()"
   ]
  },
  {
   "cell_type": "markdown",
   "metadata": {},
   "source": [
    "It seems we have generally a low quantity of items except for a few cases. Let's see what happens in these cases."
   ]
  },
  {
   "cell_type": "code",
   "execution_count": 9,
   "metadata": {},
   "outputs": [
    {
     "data": {
      "text/html": [
       "<div>\n",
       "<style scoped>\n",
       "    .dataframe tbody tr th:only-of-type {\n",
       "        vertical-align: middle;\n",
       "    }\n",
       "\n",
       "    .dataframe tbody tr th {\n",
       "        vertical-align: top;\n",
       "    }\n",
       "\n",
       "    .dataframe thead th {\n",
       "        text-align: right;\n",
       "    }\n",
       "</style>\n",
       "<table border=\"1\" class=\"dataframe\">\n",
       "  <thead>\n",
       "    <tr style=\"text-align: right;\">\n",
       "      <th></th>\n",
       "      <th>Name</th>\n",
       "      <th>Lineitem quantity</th>\n",
       "      <th>Lineitem name</th>\n",
       "      <th>Lineitem price</th>\n",
       "      <th>Lineitem fulfillment status</th>\n",
       "      <th>Cancelled at</th>\n",
       "      <th>Refunded Amount</th>\n",
       "      <th>Vendor</th>\n",
       "      <th>Lineitem discount</th>\n",
       "      <th>tags</th>\n",
       "      <th>group_tags</th>\n",
       "    </tr>\n",
       "  </thead>\n",
       "  <tbody>\n",
       "    <tr>\n",
       "      <th>384</th>\n",
       "      <td>#1230</td>\n",
       "      <td>10</td>\n",
       "      <td>Hummus (pedido especial) - 1 Kg.</td>\n",
       "      <td>8.5</td>\n",
       "      <td>fulfilled</td>\n",
       "      <td>not cancelled</td>\n",
       "      <td>0.0</td>\n",
       "      <td>Llegums Porta Novau</td>\n",
       "      <td>0</td>\n",
       "      <td>Hummus</td>\n",
       "      <td>Legumbres</td>\n",
       "    </tr>\n",
       "    <tr>\n",
       "      <th>385</th>\n",
       "      <td>#1230</td>\n",
       "      <td>30</td>\n",
       "      <td>Fresón Maresme - 1 caja (250 grs.)</td>\n",
       "      <td>1.5</td>\n",
       "      <td>fulfilled</td>\n",
       "      <td>not cancelled</td>\n",
       "      <td>0.0</td>\n",
       "      <td>Fruites i Verdures Rovira</td>\n",
       "      <td>0</td>\n",
       "      <td>Fresón</td>\n",
       "      <td>Frutas</td>\n",
       "    </tr>\n",
       "    <tr>\n",
       "      <th>993</th>\n",
       "      <td>#1200</td>\n",
       "      <td>12</td>\n",
       "      <td>Calçots de Valls (25 uds.)</td>\n",
       "      <td>5.0</td>\n",
       "      <td>fulfilled</td>\n",
       "      <td>not cancelled</td>\n",
       "      <td>0.0</td>\n",
       "      <td>Fruites i Verdures Rovira</td>\n",
       "      <td>0</td>\n",
       "      <td>Calçots</td>\n",
       "      <td>Verduras</td>\n",
       "    </tr>\n",
       "    <tr>\n",
       "      <th>994</th>\n",
       "      <td>#1200</td>\n",
       "      <td>8</td>\n",
       "      <td>Butifarra con pimienta de pagés - 2 uds. (350 ...</td>\n",
       "      <td>4.2</td>\n",
       "      <td>fulfilled</td>\n",
       "      <td>not cancelled</td>\n",
       "      <td>0.0</td>\n",
       "      <td>Xarcuteria Alonso Andrés</td>\n",
       "      <td>0</td>\n",
       "      <td>Butifarra</td>\n",
       "      <td>Carne procesada</td>\n",
       "    </tr>\n",
       "    <tr>\n",
       "      <th>996</th>\n",
       "      <td>#1200</td>\n",
       "      <td>10</td>\n",
       "      <td>Barra de pan multicereales</td>\n",
       "      <td>1.0</td>\n",
       "      <td>fulfilled</td>\n",
       "      <td>not cancelled</td>\n",
       "      <td>0.0</td>\n",
       "      <td>Super</td>\n",
       "      <td>0</td>\n",
       "      <td>Pan</td>\n",
       "      <td>Cereales</td>\n",
       "    </tr>\n",
       "    <tr>\n",
       "      <th>997</th>\n",
       "      <td>#1200</td>\n",
       "      <td>16</td>\n",
       "      <td>Hamburguesa de cebolla queso y huevo - 2 uds.</td>\n",
       "      <td>3.8</td>\n",
       "      <td>fulfilled</td>\n",
       "      <td>not cancelled</td>\n",
       "      <td>0.0</td>\n",
       "      <td>Carns Ruano</td>\n",
       "      <td>0</td>\n",
       "      <td>Ternera</td>\n",
       "      <td>Carne roja</td>\n",
       "    </tr>\n",
       "    <tr>\n",
       "      <th>998</th>\n",
       "      <td>#1200</td>\n",
       "      <td>6</td>\n",
       "      <td>Brochetas de pechuga de pollo barbacoa - 5 uni...</td>\n",
       "      <td>5.5</td>\n",
       "      <td>fulfilled</td>\n",
       "      <td>not cancelled</td>\n",
       "      <td>0.0</td>\n",
       "      <td>El Pagés</td>\n",
       "      <td>0</td>\n",
       "      <td>Pollo</td>\n",
       "      <td>Carne blanca</td>\n",
       "    </tr>\n",
       "    <tr>\n",
       "      <th>1004</th>\n",
       "      <td>#1200</td>\n",
       "      <td>6</td>\n",
       "      <td>Salsa Romesco (500grs.)</td>\n",
       "      <td>5.9</td>\n",
       "      <td>fulfilled</td>\n",
       "      <td>not cancelled</td>\n",
       "      <td>0.0</td>\n",
       "      <td>Fruites i Verdures Rovira</td>\n",
       "      <td>0</td>\n",
       "      <td>Salsa</td>\n",
       "      <td>Others</td>\n",
       "    </tr>\n",
       "    <tr>\n",
       "      <th>1005</th>\n",
       "      <td>#1199</td>\n",
       "      <td>12</td>\n",
       "      <td>Calçots de Valls (25 uds.)</td>\n",
       "      <td>5.0</td>\n",
       "      <td>pending</td>\n",
       "      <td>2019-03-01 12:46:01 +0100</td>\n",
       "      <td>309.0</td>\n",
       "      <td>Fruites i Verdures Rovira</td>\n",
       "      <td>0</td>\n",
       "      <td>Calçots</td>\n",
       "      <td>Verduras</td>\n",
       "    </tr>\n",
       "    <tr>\n",
       "      <th>1006</th>\n",
       "      <td>#1199</td>\n",
       "      <td>8</td>\n",
       "      <td>Butifarra con pimienta de pagés - 2 uds. (350 ...</td>\n",
       "      <td>4.2</td>\n",
       "      <td>pending</td>\n",
       "      <td>not cancelled</td>\n",
       "      <td>0.0</td>\n",
       "      <td>Xarcuteria Alonso Andrés</td>\n",
       "      <td>0</td>\n",
       "      <td>Butifarra</td>\n",
       "      <td>Carne procesada</td>\n",
       "    </tr>\n",
       "    <tr>\n",
       "      <th>1008</th>\n",
       "      <td>#1199</td>\n",
       "      <td>10</td>\n",
       "      <td>Barra de pan multicereales</td>\n",
       "      <td>1.0</td>\n",
       "      <td>pending</td>\n",
       "      <td>not cancelled</td>\n",
       "      <td>0.0</td>\n",
       "      <td>Super</td>\n",
       "      <td>0</td>\n",
       "      <td>Pan</td>\n",
       "      <td>Cereales</td>\n",
       "    </tr>\n",
       "    <tr>\n",
       "      <th>1009</th>\n",
       "      <td>#1199</td>\n",
       "      <td>16</td>\n",
       "      <td>Hamburguesa de cebolla queso y huevo - 2 uds.</td>\n",
       "      <td>3.8</td>\n",
       "      <td>pending</td>\n",
       "      <td>not cancelled</td>\n",
       "      <td>0.0</td>\n",
       "      <td>Carns Ruano</td>\n",
       "      <td>0</td>\n",
       "      <td>Ternera</td>\n",
       "      <td>Carne roja</td>\n",
       "    </tr>\n",
       "    <tr>\n",
       "      <th>1010</th>\n",
       "      <td>#1199</td>\n",
       "      <td>6</td>\n",
       "      <td>Brochetas de pechuga de pollo barbacoa - 5 uni...</td>\n",
       "      <td>5.5</td>\n",
       "      <td>pending</td>\n",
       "      <td>not cancelled</td>\n",
       "      <td>0.0</td>\n",
       "      <td>El Pagés</td>\n",
       "      <td>0</td>\n",
       "      <td>Pollo</td>\n",
       "      <td>Carne blanca</td>\n",
       "    </tr>\n",
       "    <tr>\n",
       "      <th>1016</th>\n",
       "      <td>#1199</td>\n",
       "      <td>6</td>\n",
       "      <td>Salsa Romesco (500grs.)</td>\n",
       "      <td>5.9</td>\n",
       "      <td>pending</td>\n",
       "      <td>not cancelled</td>\n",
       "      <td>0.0</td>\n",
       "      <td>Fruites i Verdures Rovira</td>\n",
       "      <td>0</td>\n",
       "      <td>Salsa</td>\n",
       "      <td>Others</td>\n",
       "    </tr>\n",
       "  </tbody>\n",
       "</table>\n",
       "</div>"
      ],
      "text/plain": [
       "       Name  Lineitem quantity  \\\n",
       "384   #1230                 10   \n",
       "385   #1230                 30   \n",
       "993   #1200                 12   \n",
       "994   #1200                  8   \n",
       "996   #1200                 10   \n",
       "997   #1200                 16   \n",
       "998   #1200                  6   \n",
       "1004  #1200                  6   \n",
       "1005  #1199                 12   \n",
       "1006  #1199                  8   \n",
       "1008  #1199                 10   \n",
       "1009  #1199                 16   \n",
       "1010  #1199                  6   \n",
       "1016  #1199                  6   \n",
       "\n",
       "                                          Lineitem name  Lineitem price  \\\n",
       "384                    Hummus (pedido especial) - 1 Kg.             8.5   \n",
       "385                  Fresón Maresme - 1 caja (250 grs.)             1.5   \n",
       "993                          Calçots de Valls (25 uds.)             5.0   \n",
       "994   Butifarra con pimienta de pagés - 2 uds. (350 ...             4.2   \n",
       "996                          Barra de pan multicereales             1.0   \n",
       "997       Hamburguesa de cebolla queso y huevo - 2 uds.             3.8   \n",
       "998   Brochetas de pechuga de pollo barbacoa - 5 uni...             5.5   \n",
       "1004                            Salsa Romesco (500grs.)             5.9   \n",
       "1005                         Calçots de Valls (25 uds.)             5.0   \n",
       "1006  Butifarra con pimienta de pagés - 2 uds. (350 ...             4.2   \n",
       "1008                         Barra de pan multicereales             1.0   \n",
       "1009      Hamburguesa de cebolla queso y huevo - 2 uds.             3.8   \n",
       "1010  Brochetas de pechuga de pollo barbacoa - 5 uni...             5.5   \n",
       "1016                            Salsa Romesco (500grs.)             5.9   \n",
       "\n",
       "     Lineitem fulfillment status               Cancelled at  Refunded Amount  \\\n",
       "384                    fulfilled              not cancelled              0.0   \n",
       "385                    fulfilled              not cancelled              0.0   \n",
       "993                    fulfilled              not cancelled              0.0   \n",
       "994                    fulfilled              not cancelled              0.0   \n",
       "996                    fulfilled              not cancelled              0.0   \n",
       "997                    fulfilled              not cancelled              0.0   \n",
       "998                    fulfilled              not cancelled              0.0   \n",
       "1004                   fulfilled              not cancelled              0.0   \n",
       "1005                     pending  2019-03-01 12:46:01 +0100            309.0   \n",
       "1006                     pending              not cancelled              0.0   \n",
       "1008                     pending              not cancelled              0.0   \n",
       "1009                     pending              not cancelled              0.0   \n",
       "1010                     pending              not cancelled              0.0   \n",
       "1016                     pending              not cancelled              0.0   \n",
       "\n",
       "                         Vendor  Lineitem discount       tags       group_tags  \n",
       "384         Llegums Porta Novau                  0     Hummus        Legumbres  \n",
       "385   Fruites i Verdures Rovira                  0     Fresón           Frutas  \n",
       "993   Fruites i Verdures Rovira                  0    Calçots         Verduras  \n",
       "994    Xarcuteria Alonso Andrés                  0  Butifarra  Carne procesada  \n",
       "996                       Super                  0        Pan         Cereales  \n",
       "997                 Carns Ruano                  0    Ternera       Carne roja  \n",
       "998                    El Pagés                  0      Pollo     Carne blanca  \n",
       "1004  Fruites i Verdures Rovira                  0      Salsa           Others  \n",
       "1005  Fruites i Verdures Rovira                  0    Calçots         Verduras  \n",
       "1006   Xarcuteria Alonso Andrés                  0  Butifarra  Carne procesada  \n",
       "1008                      Super                  0        Pan         Cereales  \n",
       "1009                Carns Ruano                  0    Ternera       Carne roja  \n",
       "1010                   El Pagés                  0      Pollo     Carne blanca  \n",
       "1016  Fruites i Verdures Rovira                  0      Salsa           Others  "
      ]
     },
     "execution_count": 9,
     "metadata": {},
     "output_type": "execute_result"
    }
   ],
   "source": [
    "items[items['Lineitem quantity'] > 5]"
   ]
  },
  {
   "cell_type": "markdown",
   "metadata": {},
   "source": [
    "We have 3 orders (#1230, #1200 and #1199) that have a large number of items. This is because these items were used for specific events. We will decide later whether we will use them for the analysis."
   ]
  },
  {
   "cell_type": "markdown",
   "metadata": {},
   "source": [
    "## Lineitem price"
   ]
  },
  {
   "cell_type": "code",
   "execution_count": 10,
   "metadata": {},
   "outputs": [
    {
     "data": {
      "image/png": "[encoded data removed]",
      "text/plain": [
       "<Figure size 720x360 with 1 Axes>"
      ]
     },
     "metadata": {
      "needs_background": "light"
     },
     "output_type": "display_data"
    }
   ],
   "source": [
    "plt.figure(figsize=(10,5))\n",
    "plt.title(\"Item price ditribution\")\n",
    "\n",
    "sns.distplot(items['Lineitem price'])\n",
    "plt.show()"
   ]
  },
  {
   "cell_type": "code",
   "execution_count": 11,
   "metadata": {},
   "outputs": [
    {
     "data": {
      "text/html": [
       "<div>\n",
       "<style scoped>\n",
       "    .dataframe tbody tr th:only-of-type {\n",
       "        vertical-align: middle;\n",
       "    }\n",
       "\n",
       "    .dataframe tbody tr th {\n",
       "        vertical-align: top;\n",
       "    }\n",
       "\n",
       "    .dataframe thead th {\n",
       "        text-align: right;\n",
       "    }\n",
       "</style>\n",
       "<table border=\"1\" class=\"dataframe\">\n",
       "  <thead>\n",
       "    <tr style=\"text-align: right;\">\n",
       "      <th></th>\n",
       "      <th>Name</th>\n",
       "      <th>Lineitem quantity</th>\n",
       "      <th>Lineitem name</th>\n",
       "      <th>Lineitem price</th>\n",
       "      <th>Lineitem fulfillment status</th>\n",
       "      <th>Cancelled at</th>\n",
       "      <th>Refunded Amount</th>\n",
       "      <th>Vendor</th>\n",
       "      <th>Lineitem discount</th>\n",
       "      <th>tags</th>\n",
       "      <th>group_tags</th>\n",
       "    </tr>\n",
       "  </thead>\n",
       "  <tbody>\n",
       "    <tr>\n",
       "      <th>386</th>\n",
       "      <td>#1230</td>\n",
       "      <td>1</td>\n",
       "      <td>Mandarina Orri - 7 Kg. (60 uds.)</td>\n",
       "      <td>28.00</td>\n",
       "      <td>fulfilled</td>\n",
       "      <td>not cancelled</td>\n",
       "      <td>0.00</td>\n",
       "      <td>Fruites i Verdures Rovira</td>\n",
       "      <td>0</td>\n",
       "      <td>Mandarina</td>\n",
       "      <td>Frutas</td>\n",
       "    </tr>\n",
       "    <tr>\n",
       "      <th>1003</th>\n",
       "      <td>#1200</td>\n",
       "      <td>2</td>\n",
       "      <td>Costillas de Cordero - 18 uds.</td>\n",
       "      <td>22.50</td>\n",
       "      <td>fulfilled</td>\n",
       "      <td>not cancelled</td>\n",
       "      <td>0.00</td>\n",
       "      <td>Carns Ruano</td>\n",
       "      <td>0</td>\n",
       "      <td>Costillas</td>\n",
       "      <td>Carne blanca</td>\n",
       "    </tr>\n",
       "    <tr>\n",
       "      <th>1015</th>\n",
       "      <td>#1199</td>\n",
       "      <td>2</td>\n",
       "      <td>Costillas de Cordero - 18 uds.</td>\n",
       "      <td>22.50</td>\n",
       "      <td>pending</td>\n",
       "      <td>not cancelled</td>\n",
       "      <td>0.00</td>\n",
       "      <td>Carns Ruano</td>\n",
       "      <td>0</td>\n",
       "      <td>Costillas</td>\n",
       "      <td>Carne blanca</td>\n",
       "    </tr>\n",
       "    <tr>\n",
       "      <th>1487</th>\n",
       "      <td>#1140</td>\n",
       "      <td>1</td>\n",
       "      <td>Cesta de Temporada   (1/2 pensión) - 2</td>\n",
       "      <td>59.95</td>\n",
       "      <td>pending</td>\n",
       "      <td>2019-02-19 11:39:27 +0100</td>\n",
       "      <td>0.00</td>\n",
       "      <td>Mercat a Casa</td>\n",
       "      <td>0</td>\n",
       "      <td>Cesta</td>\n",
       "      <td>Others</td>\n",
       "    </tr>\n",
       "    <tr>\n",
       "      <th>1488</th>\n",
       "      <td>#1139</td>\n",
       "      <td>1</td>\n",
       "      <td>Cesta de Temporada - 2</td>\n",
       "      <td>59.95</td>\n",
       "      <td>pending</td>\n",
       "      <td>2019-02-19 11:40:04 +0100</td>\n",
       "      <td>0.00</td>\n",
       "      <td>Mercat a Casa</td>\n",
       "      <td>0</td>\n",
       "      <td>Cesta</td>\n",
       "      <td>Others</td>\n",
       "    </tr>\n",
       "    <tr>\n",
       "      <th>1489</th>\n",
       "      <td>#1138</td>\n",
       "      <td>1</td>\n",
       "      <td>Cesta de Temporada - 2</td>\n",
       "      <td>59.95</td>\n",
       "      <td>pending</td>\n",
       "      <td>2019-02-11 22:09:16 +0100</td>\n",
       "      <td>0.00</td>\n",
       "      <td>Mercat a Casa</td>\n",
       "      <td>0</td>\n",
       "      <td>Cesta</td>\n",
       "      <td>Others</td>\n",
       "    </tr>\n",
       "    <tr>\n",
       "      <th>1490</th>\n",
       "      <td>#1137</td>\n",
       "      <td>1</td>\n",
       "      <td>Cesta de Temporada - 2</td>\n",
       "      <td>59.95</td>\n",
       "      <td>fulfilled</td>\n",
       "      <td>not cancelled</td>\n",
       "      <td>59.95</td>\n",
       "      <td>Mercat a Casa</td>\n",
       "      <td>0</td>\n",
       "      <td>Cesta</td>\n",
       "      <td>Others</td>\n",
       "    </tr>\n",
       "    <tr>\n",
       "      <th>1551</th>\n",
       "      <td>#1127</td>\n",
       "      <td>1</td>\n",
       "      <td>Cesta de Temporada - 2</td>\n",
       "      <td>60.00</td>\n",
       "      <td>fulfilled</td>\n",
       "      <td>not cancelled</td>\n",
       "      <td>60.00</td>\n",
       "      <td>Mercat a Casa</td>\n",
       "      <td>0</td>\n",
       "      <td>Cesta</td>\n",
       "      <td>Others</td>\n",
       "    </tr>\n",
       "  </tbody>\n",
       "</table>\n",
       "</div>"
      ],
      "text/plain": [
       "       Name  Lineitem quantity                           Lineitem name  \\\n",
       "386   #1230                  1        Mandarina Orri - 7 Kg. (60 uds.)   \n",
       "1003  #1200                  2          Costillas de Cordero - 18 uds.   \n",
       "1015  #1199                  2          Costillas de Cordero - 18 uds.   \n",
       "1487  #1140                  1  Cesta de Temporada   (1/2 pensión) - 2   \n",
       "1488  #1139                  1                  Cesta de Temporada - 2   \n",
       "1489  #1138                  1                  Cesta de Temporada - 2   \n",
       "1490  #1137                  1                  Cesta de Temporada - 2   \n",
       "1551  #1127                  1                  Cesta de Temporada - 2   \n",
       "\n",
       "      Lineitem price Lineitem fulfillment status               Cancelled at  \\\n",
       "386            28.00                   fulfilled              not cancelled   \n",
       "1003           22.50                   fulfilled              not cancelled   \n",
       "1015           22.50                     pending              not cancelled   \n",
       "1487           59.95                     pending  2019-02-19 11:39:27 +0100   \n",
       "1488           59.95                     pending  2019-02-19 11:40:04 +0100   \n",
       "1489           59.95                     pending  2019-02-11 22:09:16 +0100   \n",
       "1490           59.95                   fulfilled              not cancelled   \n",
       "1551           60.00                   fulfilled              not cancelled   \n",
       "\n",
       "      Refunded Amount                     Vendor  Lineitem discount  \\\n",
       "386              0.00  Fruites i Verdures Rovira                  0   \n",
       "1003             0.00                Carns Ruano                  0   \n",
       "1015             0.00                Carns Ruano                  0   \n",
       "1487             0.00              Mercat a Casa                  0   \n",
       "1488             0.00              Mercat a Casa                  0   \n",
       "1489             0.00              Mercat a Casa                  0   \n",
       "1490            59.95              Mercat a Casa                  0   \n",
       "1551            60.00              Mercat a Casa                  0   \n",
       "\n",
       "           tags    group_tags  \n",
       "386   Mandarina        Frutas  \n",
       "1003  Costillas  Carne blanca  \n",
       "1015  Costillas  Carne blanca  \n",
       "1487      Cesta        Others  \n",
       "1488      Cesta        Others  \n",
       "1489      Cesta        Others  \n",
       "1490      Cesta        Others  \n",
       "1551      Cesta        Others  "
      ]
     },
     "execution_count": 11,
     "metadata": {},
     "output_type": "execute_result"
    }
   ],
   "source": [
    "items[items['Lineitem price'] > 20]"
   ]
  },
  {
   "cell_type": "markdown",
   "metadata": {},
   "source": [
    "Similarly, we have 3 items with very high price (high quantities, for events), that refer to orders of events (the same ones as before). Additionally, we have 5 orders that are incorrect values. These values were introduced when changing the system of orders and shoud be deleted."
   ]
  },
  {
   "cell_type": "code",
   "execution_count": 12,
   "metadata": {},
   "outputs": [],
   "source": [
    "items = items[items['Name'] != '#1140']\n",
    "items = items[items['Name'] != '#1139']\n",
    "items = items[items['Name'] != '#1138']\n",
    "items = items[items['Name'] != '#1137']\n",
    "items = items[items['Name'] != '#1127']\n",
    "items = items[items['Name'] != '#1230']\n",
    "items = items[items['Name'] != '#1200']\n",
    "items = items[items['Name'] != '#1199']"
   ]
  },
  {
   "cell_type": "code",
   "execution_count": 13,
   "metadata": {},
   "outputs": [
    {
     "data": {
      "image/png": "[encoded data removed]",
      "text/plain": [
       "<Figure size 720x360 with 1 Axes>"
      ]
     },
     "metadata": {
      "needs_background": "light"
     },
     "output_type": "display_data"
    }
   ],
   "source": [
    "plt.figure(figsize=(10,5))\n",
    "\n",
    "plt.title(\"(New) Item price ditribution\")\n",
    "\n",
    "sns.distplot(items['Lineitem price'])\n",
    "plt.show()"
   ]
  },
  {
   "cell_type": "markdown",
   "metadata": {},
   "source": [
    "## Refunded amount"
   ]
  },
  {
   "cell_type": "code",
   "execution_count": 14,
   "metadata": {},
   "outputs": [
    {
     "data": {
      "text/html": [
       "<div>\n",
       "<style scoped>\n",
       "    .dataframe tbody tr th:only-of-type {\n",
       "        vertical-align: middle;\n",
       "    }\n",
       "\n",
       "    .dataframe tbody tr th {\n",
       "        vertical-align: top;\n",
       "    }\n",
       "\n",
       "    .dataframe thead th {\n",
       "        text-align: right;\n",
       "    }\n",
       "</style>\n",
       "<table border=\"1\" class=\"dataframe\">\n",
       "  <thead>\n",
       "    <tr style=\"text-align: right;\">\n",
       "      <th></th>\n",
       "      <th>Name</th>\n",
       "      <th>Lineitem quantity</th>\n",
       "      <th>Lineitem name</th>\n",
       "      <th>Lineitem price</th>\n",
       "      <th>Lineitem fulfillment status</th>\n",
       "      <th>Cancelled at</th>\n",
       "      <th>Refunded Amount</th>\n",
       "      <th>Vendor</th>\n",
       "      <th>Lineitem discount</th>\n",
       "      <th>tags</th>\n",
       "      <th>group_tags</th>\n",
       "    </tr>\n",
       "  </thead>\n",
       "  <tbody>\n",
       "    <tr>\n",
       "      <th>2440</th>\n",
       "      <td>#1076</td>\n",
       "      <td>1</td>\n",
       "      <td>Bull negro - 150 gramos</td>\n",
       "      <td>4.00</td>\n",
       "      <td>fulfilled</td>\n",
       "      <td>not cancelled</td>\n",
       "      <td>176.40</td>\n",
       "      <td>Charcutería Peñalver</td>\n",
       "      <td>0</td>\n",
       "      <td>Bull</td>\n",
       "      <td>Carne procesada</td>\n",
       "    </tr>\n",
       "    <tr>\n",
       "      <th>2471</th>\n",
       "      <td>#1075</td>\n",
       "      <td>1</td>\n",
       "      <td>Sardina pequeña - 2 raciones (500 grs.)</td>\n",
       "      <td>4.00</td>\n",
       "      <td>fulfilled</td>\n",
       "      <td>not cancelled</td>\n",
       "      <td>158.55</td>\n",
       "      <td>Pescadería Alex y Carmen</td>\n",
       "      <td>0</td>\n",
       "      <td>Sardina</td>\n",
       "      <td>Pescado</td>\n",
       "    </tr>\n",
       "    <tr>\n",
       "      <th>2485</th>\n",
       "      <td>#1074</td>\n",
       "      <td>1</td>\n",
       "      <td>Alcachofa laminada (vacío) - 1 sobre (3-4 unid...</td>\n",
       "      <td>4.50</td>\n",
       "      <td>fulfilled</td>\n",
       "      <td>not cancelled</td>\n",
       "      <td>168.20</td>\n",
       "      <td>Verduras José</td>\n",
       "      <td>0</td>\n",
       "      <td>Alcachofa</td>\n",
       "      <td>Verduras</td>\n",
       "    </tr>\n",
       "    <tr>\n",
       "      <th>2572</th>\n",
       "      <td>#1072</td>\n",
       "      <td>1</td>\n",
       "      <td>Albóndigas para caldo - 175 gramos</td>\n",
       "      <td>3.50</td>\n",
       "      <td>fulfilled</td>\n",
       "      <td>not cancelled</td>\n",
       "      <td>123.80</td>\n",
       "      <td>Carnicería Vidal</td>\n",
       "      <td>0</td>\n",
       "      <td>Albóndigas</td>\n",
       "      <td>Carne procesada</td>\n",
       "    </tr>\n",
       "    <tr>\n",
       "      <th>2588</th>\n",
       "      <td>#1071</td>\n",
       "      <td>1</td>\n",
       "      <td>Mini Hamburguesas de pollo - 6 unidades</td>\n",
       "      <td>3.75</td>\n",
       "      <td>fulfilled</td>\n",
       "      <td>not cancelled</td>\n",
       "      <td>220.40</td>\n",
       "      <td>Aviram Mónica</td>\n",
       "      <td>0</td>\n",
       "      <td>Pollo</td>\n",
       "      <td>Carne blanca</td>\n",
       "    </tr>\n",
       "  </tbody>\n",
       "</table>\n",
       "</div>"
      ],
      "text/plain": [
       "       Name  Lineitem quantity  \\\n",
       "2440  #1076                  1   \n",
       "2471  #1075                  1   \n",
       "2485  #1074                  1   \n",
       "2572  #1072                  1   \n",
       "2588  #1071                  1   \n",
       "\n",
       "                                          Lineitem name  Lineitem price  \\\n",
       "2440                            Bull negro - 150 gramos            4.00   \n",
       "2471            Sardina pequeña - 2 raciones (500 grs.)            4.00   \n",
       "2485  Alcachofa laminada (vacío) - 1 sobre (3-4 unid...            4.50   \n",
       "2572                 Albóndigas para caldo - 175 gramos            3.50   \n",
       "2588            Mini Hamburguesas de pollo - 6 unidades            3.75   \n",
       "\n",
       "     Lineitem fulfillment status   Cancelled at  Refunded Amount  \\\n",
       "2440                   fulfilled  not cancelled           176.40   \n",
       "2471                   fulfilled  not cancelled           158.55   \n",
       "2485                   fulfilled  not cancelled           168.20   \n",
       "2572                   fulfilled  not cancelled           123.80   \n",
       "2588                   fulfilled  not cancelled           220.40   \n",
       "\n",
       "                        Vendor  Lineitem discount        tags       group_tags  \n",
       "2440      Charcutería Peñalver                  0        Bull  Carne procesada  \n",
       "2471  Pescadería Alex y Carmen                  0     Sardina          Pescado  \n",
       "2485             Verduras José                  0   Alcachofa         Verduras  \n",
       "2572          Carnicería Vidal                  0  Albóndigas  Carne procesada  \n",
       "2588             Aviram Mónica                  0       Pollo     Carne blanca  "
      ]
     },
     "execution_count": 14,
     "metadata": {},
     "output_type": "execute_result"
    }
   ],
   "source": [
    "items[items['Refunded Amount'] > 100]"
   ]
  },
  {
   "cell_type": "markdown",
   "metadata": {},
   "source": [
    "We will drop the 'refunded amount' and 'lineitem discount' column as it does not provide useful information"
   ]
  },
  {
   "cell_type": "code",
   "execution_count": 15,
   "metadata": {},
   "outputs": [],
   "source": [
    "items = items.drop(columns=['Refunded Amount', 'Lineitem discount'])"
   ]
  },
  {
   "cell_type": "markdown",
   "metadata": {},
   "source": [
    "# Cathegorical features"
   ]
  },
  {
   "cell_type": "markdown",
   "metadata": {},
   "source": [
    "## Vendor"
   ]
  },
  {
   "cell_type": "code",
   "execution_count": 16,
   "metadata": {},
   "outputs": [
    {
     "data": {
      "text/html": [
       "<div>\n",
       "<style scoped>\n",
       "    .dataframe tbody tr th:only-of-type {\n",
       "        vertical-align: middle;\n",
       "    }\n",
       "\n",
       "    .dataframe tbody tr th {\n",
       "        vertical-align: top;\n",
       "    }\n",
       "\n",
       "    .dataframe thead th {\n",
       "        text-align: right;\n",
       "    }\n",
       "</style>\n",
       "<table border=\"1\" class=\"dataframe\">\n",
       "  <thead>\n",
       "    <tr style=\"text-align: right;\">\n",
       "      <th></th>\n",
       "      <th>Lineitem quantity</th>\n",
       "      <th>Lineitem price</th>\n",
       "    </tr>\n",
       "    <tr>\n",
       "      <th>Vendor</th>\n",
       "      <th></th>\n",
       "      <th></th>\n",
       "    </tr>\n",
       "  </thead>\n",
       "  <tbody>\n",
       "    <tr>\n",
       "      <th>Aviram Monica</th>\n",
       "      <td>1</td>\n",
       "      <td>3.00</td>\n",
       "    </tr>\n",
       "    <tr>\n",
       "      <th>Aviram Mónica</th>\n",
       "      <td>305</td>\n",
       "      <td>1007.85</td>\n",
       "    </tr>\n",
       "    <tr>\n",
       "      <th>Carnicería Vidal</th>\n",
       "      <td>161</td>\n",
       "      <td>717.10</td>\n",
       "    </tr>\n",
       "    <tr>\n",
       "      <th>Carns Ruano</th>\n",
       "      <td>49</td>\n",
       "      <td>269.90</td>\n",
       "    </tr>\n",
       "    <tr>\n",
       "      <th>Charcutería Peñalver</th>\n",
       "      <td>57</td>\n",
       "      <td>309.05</td>\n",
       "    </tr>\n",
       "    <tr>\n",
       "      <th>El Pagés</th>\n",
       "      <td>147</td>\n",
       "      <td>445.24</td>\n",
       "    </tr>\n",
       "    <tr>\n",
       "      <th>El menjar sa de cada dia</th>\n",
       "      <td>63</td>\n",
       "      <td>214.30</td>\n",
       "    </tr>\n",
       "    <tr>\n",
       "      <th>Fruites i Verdures Rovira</th>\n",
       "      <td>743</td>\n",
       "      <td>1249.79</td>\n",
       "    </tr>\n",
       "    <tr>\n",
       "      <th>Frutas José</th>\n",
       "      <td>378</td>\n",
       "      <td>850.45</td>\n",
       "    </tr>\n",
       "    <tr>\n",
       "      <th>Gran Recapte</th>\n",
       "      <td>38</td>\n",
       "      <td>190.00</td>\n",
       "    </tr>\n",
       "    <tr>\n",
       "      <th>Helena Martin Elaborados</th>\n",
       "      <td>7</td>\n",
       "      <td>59.25</td>\n",
       "    </tr>\n",
       "    <tr>\n",
       "      <th>Helena Martin Xarcuteria</th>\n",
       "      <td>52</td>\n",
       "      <td>219.70</td>\n",
       "    </tr>\n",
       "    <tr>\n",
       "      <th>La Conca</th>\n",
       "      <td>154</td>\n",
       "      <td>173.00</td>\n",
       "    </tr>\n",
       "    <tr>\n",
       "      <th>La Conca frutos secos</th>\n",
       "      <td>23</td>\n",
       "      <td>65.80</td>\n",
       "    </tr>\n",
       "    <tr>\n",
       "      <th>Llegums Porta Novau</th>\n",
       "      <td>356</td>\n",
       "      <td>743.14</td>\n",
       "    </tr>\n",
       "    <tr>\n",
       "      <th>Mercat a Casa</th>\n",
       "      <td>16</td>\n",
       "      <td>28.85</td>\n",
       "    </tr>\n",
       "    <tr>\n",
       "      <th>Peixateria La Ribera</th>\n",
       "      <td>156</td>\n",
       "      <td>1005.95</td>\n",
       "    </tr>\n",
       "    <tr>\n",
       "      <th>Pescadería Alex y Carmen</th>\n",
       "      <td>107</td>\n",
       "      <td>918.15</td>\n",
       "    </tr>\n",
       "    <tr>\n",
       "      <th>Super</th>\n",
       "      <td>15</td>\n",
       "      <td>15.05</td>\n",
       "    </tr>\n",
       "    <tr>\n",
       "      <th>Tocinería Peñalver</th>\n",
       "      <td>47</td>\n",
       "      <td>143.30</td>\n",
       "    </tr>\n",
       "    <tr>\n",
       "      <th>Verduras José</th>\n",
       "      <td>442</td>\n",
       "      <td>863.05</td>\n",
       "    </tr>\n",
       "    <tr>\n",
       "      <th>Xarcuteria Alonso Andrés</th>\n",
       "      <td>133</td>\n",
       "      <td>429.90</td>\n",
       "    </tr>\n",
       "  </tbody>\n",
       "</table>\n",
       "</div>"
      ],
      "text/plain": [
       "                           Lineitem quantity  Lineitem price\n",
       "Vendor                                                      \n",
       "Aviram Monica                              1            3.00\n",
       "Aviram Mónica                            305         1007.85\n",
       "Carnicería Vidal                         161          717.10\n",
       "Carns Ruano                               49          269.90\n",
       "Charcutería Peñalver                      57          309.05\n",
       "El Pagés                                 147          445.24\n",
       "El menjar sa de cada dia                  63          214.30\n",
       "Fruites i Verdures Rovira                743         1249.79\n",
       "Frutas José                              378          850.45\n",
       "Gran Recapte                              38          190.00\n",
       "Helena Martin Elaborados                   7           59.25\n",
       "Helena Martin Xarcuteria                  52          219.70\n",
       "La Conca                                 154          173.00\n",
       "La Conca frutos secos                     23           65.80\n",
       "Llegums Porta Novau                      356          743.14\n",
       "Mercat a Casa                             16           28.85\n",
       "Peixateria La Ribera                     156         1005.95\n",
       "Pescadería Alex y Carmen                 107          918.15\n",
       "Super                                     15           15.05\n",
       "Tocinería Peñalver                        47          143.30\n",
       "Verduras José                            442          863.05\n",
       "Xarcuteria Alonso Andrés                 133          429.90"
      ]
     },
     "execution_count": 16,
     "metadata": {},
     "output_type": "execute_result"
    }
   ],
   "source": [
    "items.groupby('Vendor').sum()"
   ]
  },
  {
   "cell_type": "markdown",
   "metadata": {},
   "source": [
    "We see some mispelled vendor names so we will correct them."
   ]
  },
  {
   "cell_type": "code",
   "execution_count": 17,
   "metadata": {},
   "outputs": [],
   "source": [
    "items['Vendor'] = items['Vendor'].replace({'Aviram Monica':'Aviram Mónica', 'Helena Martin Elaborados': 'Helena Martin Xarcuteria',\n",
    "                        'La Conca frutos secos': 'La Conca'})"
   ]
  },
  {
   "cell_type": "code",
   "execution_count": 18,
   "metadata": {},
   "outputs": [
    {
     "data": {
      "image/png": "[encoded data removed]",
      "text/plain": [
       "<Figure size 1224x576 with 1 Axes>"
      ]
     },
     "metadata": {
      "needs_background": "light"
     },
     "output_type": "display_data"
    }
   ],
   "source": [
    "plt.figure(figsize=(17,8))\n",
    "plt.title(\"Quantity per vendor\")\n",
    "\n",
    "sns.barplot(x =items.groupby('Vendor').sum()['Lineitem quantity'].index, y=list(items.groupby('Vendor').sum()['Lineitem quantity']), palette='GnBu_d')\n",
    "plt.xticks(rotation=45)\n",
    "\n",
    "plt.show()"
   ]
  },
  {
   "cell_type": "code",
   "execution_count": 19,
   "metadata": {},
   "outputs": [
    {
     "data": {
      "image/png": "[encoded data removed]",
      "text/plain": [
       "<Figure size 1296x576 with 1 Axes>"
      ]
     },
     "metadata": {
      "needs_background": "light"
     },
     "output_type": "display_data"
    }
   ],
   "source": [
    "plt.figure(figsize=(18,8))\n",
    "plt.title(\"Expenditure per vendor\")\n",
    "\n",
    "sns.barplot(x =items.groupby('Vendor').sum()['Lineitem price'].index, y=list(items.groupby('Vendor').sum()['Lineitem price']), palette='GnBu_d')\n",
    "plt.xticks(rotation=45)\n",
    "\n",
    "plt.show()"
   ]
  },
  {
   "cell_type": "markdown",
   "metadata": {},
   "source": [
    "When considering the main providers, we can see some differences in terms of quantity of items purchased and total amount spent."
   ]
  },
  {
   "cell_type": "code",
   "execution_count": 20,
   "metadata": {},
   "outputs": [
    {
     "name": "stdout",
     "output_type": "stream",
     "text": [
      "Top 5 vendors per quantity:\n",
      "Vendor\n",
      "Fruites i Verdures Rovira    743\n",
      "Verduras José                442\n",
      "Frutas José                  378\n",
      "Llegums Porta Novau          356\n",
      "Aviram Mónica                306\n",
      "Name: Lineitem quantity, dtype: int64\n"
     ]
    }
   ],
   "source": [
    "print(f\"Top 5 vendors per quantity:\\n{items.groupby('Vendor').sum()['Lineitem quantity'].sort_values(ascending=False).head()}\")"
   ]
  },
  {
   "cell_type": "code",
   "execution_count": 21,
   "metadata": {},
   "outputs": [
    {
     "name": "stdout",
     "output_type": "stream",
     "text": [
      "Top 5 vendors per expenditure:\n",
      "Vendor\n",
      "Fruites i Verdures Rovira    1249.79\n",
      "Aviram Mónica                1010.85\n",
      "Peixateria La Ribera         1005.95\n",
      "Pescadería Alex y Carmen      918.15\n",
      "Verduras José                 863.05\n",
      "Name: Lineitem price, dtype: float64\n"
     ]
    }
   ],
   "source": [
    "print(f\"Top 5 vendors per expenditure:\\n{items.groupby('Vendor').sum()['Lineitem price'].sort_values(ascending=False).head()}\")"
   ]
  },
  {
   "cell_type": "markdown",
   "metadata": {},
   "source": [
    "Some observations:\n",
    "* We can see that the first vendor is the first in both quantity and expenditure\n",
    "* Llegums Porta Novau is the 4th in quantity but it's not in the Top5 in expenditure\n",
    "* The opposite happens for the 'Pescaderias'"
   ]
  },
  {
   "cell_type": "markdown",
   "metadata": {},
   "source": [
    "## Items"
   ]
  },
  {
   "cell_type": "markdown",
   "metadata": {},
   "source": [
    "Considering the 'tags' grouping we have up to 151 food items "
   ]
  },
  {
   "cell_type": "code",
   "execution_count": 22,
   "metadata": {},
   "outputs": [
    {
     "data": {
      "text/plain": [
       "151"
      ]
     },
     "execution_count": 22,
     "metadata": {},
     "output_type": "execute_result"
    }
   ],
   "source": [
    "len(items['tags'].unique())"
   ]
  },
  {
   "cell_type": "markdown",
   "metadata": {},
   "source": [
    "If we take the 50 best selling products, we can account for almost 80% of all products sold."
   ]
  },
  {
   "cell_type": "code",
   "execution_count": 23,
   "metadata": {},
   "outputs": [
    {
     "data": {
      "text/plain": [
       "0.7933333333333333"
      ]
     },
     "execution_count": 23,
     "metadata": {},
     "output_type": "execute_result"
    }
   ],
   "source": [
    "sum(items.groupby('tags').sum()['Lineitem quantity'].sort_values(ascending=False).head(50))/sum(items.groupby('tags').sum()['Lineitem quantity'].sort_values(ascending=False))"
   ]
  },
  {
   "cell_type": "code",
   "execution_count": 24,
   "metadata": {},
   "outputs": [
    {
     "data": {
      "image/png": "[encoded data removed]",
      "text/plain": [
       "<Figure size 1080x576 with 1 Axes>"
      ]
     },
     "metadata": {
      "needs_background": "light"
     },
     "output_type": "display_data"
    }
   ],
   "source": [
    "plt.figure(figsize=(15,8))\n",
    "\n",
    "sns.barplot(x = items.groupby('tags').sum()['Lineitem quantity'].sort_values(ascending=False).head(20).index, y= items.groupby('tags').sum()['Lineitem quantity'].sort_values(ascending=False).head(20), palette='BuGn_r')\n",
    "plt.title(\"Best selling products\")\n",
    "plt.xticks(rotation=45)\n",
    "plt.savefig('popularity.png',transparent=True)\n",
    "\n",
    "\n",
    "plt.show()"
   ]
  },
  {
   "cell_type": "markdown",
   "metadata": {},
   "source": [
    "## Food groups"
   ]
  },
  {
   "cell_type": "markdown",
   "metadata": {},
   "source": [
    "Let's take a look at the food groups to check if there is a balance with the Mediterranean Diet principles."
   ]
  },
  {
   "cell_type": "code",
   "execution_count": 25,
   "metadata": {},
   "outputs": [],
   "source": [
    "freq_food_groups = items.groupby('group_tags').sum()['Lineitem quantity'].sort_values(ascending=False).map(lambda x: x/sum(items.groupby('group_tags').sum()['Lineitem quantity']))"
   ]
  },
  {
   "cell_type": "code",
   "execution_count": 26,
   "metadata": {},
   "outputs": [
    {
     "data": {
      "image/png": "[encoded data removed]",
      "text/plain": [
       "<Figure size 1296x576 with 1 Axes>"
      ]
     },
     "metadata": {
      "needs_background": "light"
     },
     "output_type": "display_data"
    }
   ],
   "source": [
    "plt.figure(figsize=(18,8))\n",
    "\n",
    "sns.barplot(x=freq_food_groups.index, y = freq_food_groups, palette='BuGn_r')\n",
    "plt.title(\"Best selling food groups\")\n",
    "plt.xticks(rotation=45)\n",
    "\n",
    "plt.show()"
   ]
  },
  {
   "cell_type": "markdown",
   "metadata": {},
   "source": [
    "We can see a very high proportion of fruits and vegetables which is one of the main principles of the MD. Additionally, within the protein group (meat, fish and legumes), legumes are the second most common which is also good. The only unbalance is a high presence of processed meat and a low presence of cereals. The latter might be due to the fact that bread is usually bought the same day and thus is out of the scope."
   ]
  }
 ],
 "metadata": {
  "kernelspec": {
   "display_name": "Python 3",
   "language": "python",
   "name": "python3"
  },
  "language_info": {
   "codemirror_mode": {
    "name": "ipython",
    "version": 3
   },
   "file_extension": ".py",
   "mimetype": "text/x-python",
   "name": "python",
   "nbconvert_exporter": "python",
   "pygments_lexer": "ipython3",
   "version": "3.7.2"
  }
 },
 "nbformat": 4,
 "nbformat_minor": 2
}
