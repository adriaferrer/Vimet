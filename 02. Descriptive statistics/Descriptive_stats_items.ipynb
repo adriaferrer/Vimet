{
 "cells": [
  {
   "cell_type": "code",
   "execution_count": 1,
   "metadata": {},
   "outputs": [],
   "source": [
    "import pandas as pd\n",
    "import matplotlib.pyplot as plt\n",
    "import seaborn as sns"
   ]
  },
  {
   "cell_type": "markdown",
   "metadata": {},
   "source": [
    "# Load the data"
   ]
  },
  {
   "cell_type": "code",
   "execution_count": 2,
   "metadata": {},
   "outputs": [],
   "source": [
    "from sqlalchemy import create_engine\n",
    "\n",
    "\n",
    "driver = 'mysql+pymysql:'\n",
    "user = 'adria'\n",
    "password = '00000'\n",
    "ip = '35.187.114.125'\n",
    "database = 'vimet'\n",
    "\n",
    "connection_string = f'{driver}//{user}:{password}@{ip}/{database}'\n",
    "engine = create_engine(connection_string)"
   ]
  },
  {
   "cell_type": "code",
   "execution_count": 3,
   "metadata": {},
   "outputs": [],
   "source": [
    "items = pd.read_sql('items', con = engine)"
   ]
  },
  {
   "cell_type": "code",
   "execution_count": 4,
   "metadata": {},
   "outputs": [],
   "source": [
    "items = items.drop(columns='index')"
   ]
  },
  {
   "cell_type": "code",
   "execution_count": 6,
   "metadata": {},
   "outputs": [
    {
     "data": {
      "text/html": [
       "<div>\n",
       "<style scoped>\n",
       "    .dataframe tbody tr th:only-of-type {\n",
       "        vertical-align: middle;\n",
       "    }\n",
       "\n",
       "    .dataframe tbody tr th {\n",
       "        vertical-align: top;\n",
       "    }\n",
       "\n",
       "    .dataframe thead th {\n",
       "        text-align: right;\n",
       "    }\n",
       "</style>\n",
       "<table border=\"1\" class=\"dataframe\">\n",
       "  <thead>\n",
       "    <tr style=\"text-align: right;\">\n",
       "      <th></th>\n",
       "      <th>Name</th>\n",
       "      <th>Lineitem quantity</th>\n",
       "      <th>Lineitem name</th>\n",
       "      <th>Lineitem price</th>\n",
       "      <th>Lineitem fulfillment status</th>\n",
       "      <th>Cancelled at</th>\n",
       "      <th>Refunded Amount</th>\n",
       "      <th>Vendor</th>\n",
       "      <th>Lineitem discount</th>\n",
       "      <th>tags</th>\n",
       "    </tr>\n",
       "  </thead>\n",
       "  <tbody>\n",
       "    <tr>\n",
       "      <th>0</th>\n",
       "      <td>#1248</td>\n",
       "      <td>4</td>\n",
       "      <td>Plátano Canarias - 3/4 unidades</td>\n",
       "      <td>1.95</td>\n",
       "      <td>fulfilled</td>\n",
       "      <td>not cancelled</td>\n",
       "      <td>0.0</td>\n",
       "      <td>Fruites i Verdures Rovira</td>\n",
       "      <td>0</td>\n",
       "      <td>Plátano</td>\n",
       "    </tr>\n",
       "    <tr>\n",
       "      <th>1</th>\n",
       "      <td>#1248</td>\n",
       "      <td>2</td>\n",
       "      <td>Fresón Maresme - 1 caja (500 grs.)</td>\n",
       "      <td>3.50</td>\n",
       "      <td>fulfilled</td>\n",
       "      <td>not cancelled</td>\n",
       "      <td>0.0</td>\n",
       "      <td>Fruites i Verdures Rovira</td>\n",
       "      <td>0</td>\n",
       "      <td>Fresón</td>\n",
       "    </tr>\n",
       "    <tr>\n",
       "      <th>2</th>\n",
       "      <td>#1248</td>\n",
       "      <td>1</td>\n",
       "      <td>Tomate Cherry - 200 grs</td>\n",
       "      <td>1.30</td>\n",
       "      <td>fulfilled</td>\n",
       "      <td>not cancelled</td>\n",
       "      <td>0.0</td>\n",
       "      <td>Fruites i Verdures Rovira</td>\n",
       "      <td>0</td>\n",
       "      <td>Tomate</td>\n",
       "    </tr>\n",
       "    <tr>\n",
       "      <th>3</th>\n",
       "      <td>#1248</td>\n",
       "      <td>1</td>\n",
       "      <td>Nueces California sin cáscara - 200 grs</td>\n",
       "      <td>3.44</td>\n",
       "      <td>fulfilled</td>\n",
       "      <td>not cancelled</td>\n",
       "      <td>0.0</td>\n",
       "      <td>Llegums Porta Novau</td>\n",
       "      <td>0</td>\n",
       "      <td>Nuez</td>\n",
       "    </tr>\n",
       "    <tr>\n",
       "      <th>4</th>\n",
       "      <td>#1248</td>\n",
       "      <td>3</td>\n",
       "      <td>Mandarina Orri - 500 grs.</td>\n",
       "      <td>2.00</td>\n",
       "      <td>fulfilled</td>\n",
       "      <td>not cancelled</td>\n",
       "      <td>0.0</td>\n",
       "      <td>Fruites i Verdures Rovira</td>\n",
       "      <td>0</td>\n",
       "      <td>Mandarina</td>\n",
       "    </tr>\n",
       "  </tbody>\n",
       "</table>\n",
       "</div>"
      ],
      "text/plain": [
       "    Name  Lineitem quantity                            Lineitem name  \\\n",
       "0  #1248                  4          Plátano Canarias - 3/4 unidades   \n",
       "1  #1248                  2       Fresón Maresme - 1 caja (500 grs.)   \n",
       "2  #1248                  1                  Tomate Cherry - 200 grs   \n",
       "3  #1248                  1  Nueces California sin cáscara - 200 grs   \n",
       "4  #1248                  3                Mandarina Orri - 500 grs.   \n",
       "\n",
       "   Lineitem price Lineitem fulfillment status   Cancelled at  Refunded Amount  \\\n",
       "0            1.95                   fulfilled  not cancelled              0.0   \n",
       "1            3.50                   fulfilled  not cancelled              0.0   \n",
       "2            1.30                   fulfilled  not cancelled              0.0   \n",
       "3            3.44                   fulfilled  not cancelled              0.0   \n",
       "4            2.00                   fulfilled  not cancelled              0.0   \n",
       "\n",
       "                      Vendor  Lineitem discount       tags  \n",
       "0  Fruites i Verdures Rovira                  0    Plátano  \n",
       "1  Fruites i Verdures Rovira                  0     Fresón  \n",
       "2  Fruites i Verdures Rovira                  0     Tomate  \n",
       "3        Llegums Porta Novau                  0       Nuez  \n",
       "4  Fruites i Verdures Rovira                  0  Mandarina  "
      ]
     },
     "execution_count": 6,
     "metadata": {},
     "output_type": "execute_result"
    }
   ],
   "source": [
    "items.head()"
   ]
  },
  {
   "cell_type": "code",
   "execution_count": 8,
   "metadata": {},
   "outputs": [
    {
     "data": {
      "text/plain": [
       "154"
      ]
     },
     "execution_count": 8,
     "metadata": {},
     "output_type": "execute_result"
    }
   ],
   "source": [
    "len(items['tags'].value_counts())"
   ]
  },
  {
   "cell_type": "markdown",
   "metadata": {},
   "source": [
    "We have 154 different items, we will cluster them creating a tag2 with more general terms, according to a reference on mediterranean diet:\n",
    "* Dulces\n",
    "* Patata\n",
    "* Carne roja\n",
    "* Carne procesada\n",
    "* Carne blanca\n",
    "* Pescado\n",
    "* Huevos\n",
    "* Legumbres\n",
    "* Lácteos\n",
    "* Especias\n",
    "* Frutos secos\n",
    "* Frutas\n",
    "* Verduras\n",
    "* Cereales\n",
    "* Aceite"
   ]
  },
  {
   "cell_type": "code",
   "execution_count": 13,
   "metadata": {},
   "outputs": [],
   "source": [
    "# We create a dicitonary classifying all the items\n",
    "dict_tags = {'Dulces':['Obleas', 'Chocolate'], \n",
    "             'Patata': ['Patata'],\n",
    "             'Carne roja': ['Ternera', 'Confit', 'Magret', 'Vaca', 'Filet', 'Solomillo', 'Entrecot'], \n",
    "             'Carne procesada': ['Jamón', 'Croquetas', 'Bull', 'Lasagna', 'Chorizo', 'Sumaia', 'salchichón',\n",
    "                                 'Mortadela', 'Albóndigas', 'Librito', 'Butifarra', 'Salchichas', 'Canelones',\n",
    "                                'Fuet', 'Espectec', 'Sobrasada', 'Bull'], \n",
    "             'Carne blanca': ['Pollo', 'Pavo', 'Conejo', 'Cerdo', 'Codorniz', 'Costillas'], \n",
    "             'Pescado': ['Mero', 'Bonito', 'Merluza', 'Salmón', 'Dorada', 'Mejillón', 'Lubina', 'Calamar', 'Sepia',\n",
    "                        'Caballa', 'Lenguado', 'Almejas', 'Rape', 'Salmonetes', 'Boquerones', 'Berberechos', 'Atun',\n",
    "                        'Gamba', 'Sardina', 'Pescadilla'], \n",
    "             'Huevos': ['Huevos', 'Revuelto', 'Tortilla'], \n",
    "             'Legumbres':['Garbanzo', 'Lenteja', 'Judía', 'Montgeta', 'Alubia', 'Frijoles', 'Azuki', 'Hummus'], \n",
    "             'Lácteos': ['Queso', 'Yogures'], \n",
    "             'Especias':['Eneldo', 'Ajo', 'Picantón'], \n",
    "             'Frutos secos': ['Nuez', 'Almendra', 'Macadamia', 'Avellana', 'Cacahuetes', 'Pasa', 'Dátiles',\n",
    "                             'Anacardo', 'Pistacho', 'Orejones'], \n",
    "             'Frutas': ['Plátano','Manzana', 'Fresón', 'Naranja', 'Pera', 'Kiwi', 'Paraguayo', 'Mango', 'Chirimoya',\n",
    "                        'Kakis', 'Ciruela', 'Mandarina',  'Melocotón', 'Piña','Arándanos', 'Limón', 'Bananas',\n",
    "                       'Albaricoque', 'Granada', 'Higos', 'Cerezas', 'Frambuesas', 'Sandía', 'Nectarina', 'Pomelo',\n",
    "                        'Uva', 'Melón', 'Paraguayo'], \n",
    "             'Verduras':['Tomate', 'Cebolla', 'Calabacín','Zanahoria', 'Pimiento', 'Aguacate', 'Brócoli', 'Lechuga',\n",
    "                         'Berenjena', 'Calçots', 'Escarola' 'Cogollos', 'Calabaza', 'Acelgas', 'Espinacas','Puerro',\n",
    "                         'Endivias', 'Rúcula', 'Alcachofa', 'Esparrago', 'Pepino', 'Canónigos', 'Ensalada', 'Coliflor',\n",
    "                        'Col', 'Apio'],\n",
    "             'Cereales':['Granola', 'Soja', 'Mijo', 'Avena', 'Quinoa', 'Arroz', 'Pan', 'Macarrones', 'Pasta',\n",
    "                        'Spaghetti', 'Cous-cous', 'Espaguetis'],\n",
    "             'Aceite':['Aceite'],\n",
    "             'Others': ['Cep', 'Agua', 'Salsa', 'Girgola', 'Champiñón', 'Caldo', 'Shiitake', 'Rossinyol']}"
   ]
  },
  {
   "cell_type": "code",
   "execution_count": 46,
   "metadata": {},
   "outputs": [],
   "source": [
    "#We reverse (keys for values), the dictionary so that we can easily assign it to a new series.\n",
    "dict_tags2 = {}\n",
    "\n",
    "for key, values in dict_tags.items():\n",
    "    for value in values:\n",
    "        dict_tags2[value] = key"
   ]
  },
  {
   "cell_type": "code",
   "execution_count": 49,
   "metadata": {},
   "outputs": [],
   "source": [
    "#We create a new serie with the 'group tags'\n",
    "items['group_tags'] = items['tags'] \n",
    "items['group_tags'] = items['group_tags'].map(dict_tags2) "
   ]
  },
  {
   "cell_type": "code",
   "execution_count": null,
   "metadata": {},
   "outputs": [],
   "source": []
  }
 ],
 "metadata": {
  "kernelspec": {
   "display_name": "Python 3",
   "language": "python",
   "name": "python3"
  },
  "language_info": {
   "codemirror_mode": {
    "name": "ipython",
    "version": 3
   },
   "file_extension": ".py",
   "mimetype": "text/x-python",
   "name": "python",
   "nbconvert_exporter": "python",
   "pygments_lexer": "ipython3",
   "version": "3.7.2"
  }
 },
 "nbformat": 4,
 "nbformat_minor": 2
}
